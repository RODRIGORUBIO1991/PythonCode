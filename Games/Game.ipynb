{
 "cells": [
  {
   "cell_type": "code",
   "execution_count": 3,
   "metadata": {},
   "outputs": [
    {
     "name": "stdout",
     "output_type": "stream",
     "text": [
      "pygame 2.1.2 (SDL 2.0.18, Python 3.10.8)\n",
      "Hello from the pygame community. https://www.pygame.org/contribute.html\n"
     ]
    },
    {
     "ename": "",
     "evalue": "",
     "output_type": "error",
     "traceback": [
      "\u001b[1;31mThe Kernel crashed while executing code in the the current cell or a previous cell. Please review the code in the cell(s) to identify a possible cause of the failure. Click <a href='https://aka.ms/vscodeJupyterKernelCrash'>here</a> for more info. View Jupyter <a href='command:jupyter.viewOutput'>log</a> for further details."
     ]
    }
   ],
   "source": [
    "import pygame\n",
    "import random\n",
    "\n",
    "# Inicializar Pygame\n",
    "pygame.init()\n",
    "\n",
    "# Definir colores\n",
    "NEGRO = (0, 0, 0)\n",
    "BLANCO = (255, 255, 255)\n",
    "ROJO = (255, 0, 0)\n",
    "VERDE = (0, 255, 0)\n",
    "AZUL = (0, 0, 255)\n",
    "\n",
    "# Definir tamaño de pantalla\n",
    "ANCHO_PANTALLA = 800\n",
    "ALTO_PANTALLA = 600\n",
    "TAMAÑO_BLOQUE = 10\n",
    "\n",
    "# Crear ventana de juego\n",
    "pantalla = pygame.display.set_mode((ANCHO_PANTALLA, ALTO_PANTALLA))\n",
    "\n",
    "# Definir fuente de texto\n",
    "fuente = pygame.font.SysFont('Arial', 25)\n",
    "\n",
    "# Definir clase de serpiente\n",
    "class Serpiente:\n",
    "    def __init__(self):\n",
    "        self.segmentos = [[ANCHO_PANTALLA/2, ALTO_PANTALLA/2]]\n",
    "        self.direccion = \"derecha\"\n",
    "        \n",
    "    def mover(self):\n",
    "        if self.direccion == \"derecha\":\n",
    "            cabeza = [self.segmentos[0][0] + TAMAÑO_BLOQUE, self.segmentos[0][1]]\n",
    "        elif self.direccion == \"izquierda\":\n",
    "            cabeza = [self.segmentos[0][0] - TAMAÑO_BLOQUE, self.segmentos[0][1]]\n",
    "        elif self.direccion == \"arriba\":\n",
    "            cabeza = [self.segmentos[0][0], self.segmentos[0][1] - TAMAÑO_BLOQUE]\n",
    "        elif self.direccion == \"abajo\":\n",
    "            cabeza = [self.segmentos[0][0], self.segmentos[0][1] + TAMAÑO_BLOQUE]\n",
    "        self.segmentos.insert(0, cabeza)\n",
    "        self.segmentos.pop()\n",
    "        \n",
    "    def cambiar_direccion(self, direccion):\n",
    "        if direccion == \"derecha\" and self.direccion != \"izquierda\":\n",
    "            self.direccion = \"derecha\"\n",
    "        elif direccion == \"izquierda\" and self.direccion != \"derecha\":\n",
    "            self.direccion = \"izquierda\"\n",
    "        elif direccion == \"arriba\" and self.direccion != \"abajo\":\n",
    "            self.direccion = \"arriba\"\n",
    "        elif direccion == \"abajo\" and self.direccion != \"arriba\":\n",
    "            self.direccion = \"abajo\"\n",
    "            \n",
    "    def dibujar(self):\n",
    "        for segmento in self.segmentos:\n",
    "            pygame.draw.rect(pantalla, VERDE, [segmento[0], segmento[1], TAMAÑO_BLOQUE, TAMAÑO_BLOQUE])\n",
    "\n",
    "# Definir clase de comida\n",
    "class Comida:\n",
    "    def __init__(self):\n",
    "        self.posicion = [random.randrange(0, ANCHO_PANTALLA/TAMAÑO_BLOQUE) * TAMAÑO_BLOQUE, \n",
    "                         random.randrange(0, ALTO_PANTALLA/TAMAÑO_BLOQUE) * TAMAÑO_BLOQUE]\n",
    "        \n",
    "    def dibujar(self):\n",
    "        pygame.draw.rect(pantalla, ROJO, [self.posicion[0], self.posicion[1], TAMAÑO_BLOQUE, TAMAÑO_BLOQUE])\n",
    "\n",
    "# Definir función para mostrar mensaje en la pantalla\n",
    "def mensaje(mensaje, color):\n",
    "    texto = fuente.render(mensaje, True, color)\n",
    "    pantalla.blit(texto, [ANCHO_PANTALLA/2 - texto.get_width()/2, ALTO_PANTALLA/2 - texto.get_height()/2])\n",
    "    pygame.display.update()\n",
    "    pygame.time.wait(2000)\n"
   ]
  }
 ],
 "metadata": {
  "kernelspec": {
   "display_name": "coder",
   "language": "python",
   "name": "python3"
  },
  "language_info": {
   "codemirror_mode": {
    "name": "ipython",
    "version": 3
   },
   "file_extension": ".py",
   "mimetype": "text/x-python",
   "name": "python",
   "nbconvert_exporter": "python",
   "pygments_lexer": "ipython3",
   "version": "3.10.8"
  },
  "orig_nbformat": 4,
  "vscode": {
   "interpreter": {
    "hash": "1601e438b0970cdc0e3b7aab964ec502426485a4e4809b43ab6c1987169d4d2d"
   }
  }
 },
 "nbformat": 4,
 "nbformat_minor": 2
}
