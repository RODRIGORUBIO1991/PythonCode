{
 "cells": [
  {
   "attachments": {},
   "cell_type": "markdown",
   "metadata": {},
   "source": [
    "**Base de datos con los rankings de 1990 a 2019**"
   ]
  },
  {
   "cell_type": "code",
   "execution_count": 31,
   "metadata": {},
   "outputs": [
    {
     "name": "stdout",
     "output_type": "stream",
     "text": [
      "         Date Gender     Type Ranking         Player Country  Age Points  \\\n",
      "0  1990-01-01    men  singles       1     Ivan Lendl     USA   29      0   \n",
      "1  1990-01-01    men  singles       2   Boris Becker     GER   22      0   \n",
      "2  1990-01-01    men  singles       3  Stefan Edberg     SWE   23      0   \n",
      "3  1990-01-01    men  singles       4   Brad Gilbert     USA   28      0   \n",
      "4  1990-01-01    men  singles       5   John McEnroe     USA   30      0   \n",
      "\n",
      "   Tournaments  \n",
      "0            0  \n",
      "1            0  \n",
      "2            0  \n",
      "3            0  \n",
      "4            0  \n",
      "Date           object\n",
      "Gender         object\n",
      "Type           object\n",
      "Ranking        object\n",
      "Player         object\n",
      "Country        object\n",
      "Age             int64\n",
      "Points         object\n",
      "Tournaments     int64\n",
      "dtype: object\n"
     ]
    },
    {
     "name": "stderr",
     "output_type": "stream",
     "text": [
      "C:\\Users\\rodri\\AppData\\Local\\Temp\\ipykernel_3600\\489590098.py:5: DtypeWarning: Columns (3) have mixed types. Specify dtype option on import or set low_memory=False.\n",
      "  atp_data = pd.read_csv('ATP_Rankings_1990-2019.csv')\n"
     ]
    }
   ],
   "source": [
    "import pandas as pd\n",
    "import numpy as np\n",
    "from matplotlib import pyplot as plt\n",
    "import seaborn as sns\n",
    "atp_data = pd.read_csv('ATP_Rankings_1990-2019.csv')\n",
    "print(atp_data.head(5))\n",
    "print(atp_data.dtypes)"
   ]
  },
  {
   "attachments": {},
   "cell_type": "markdown",
   "metadata": {},
   "source": [
    "**Borro las columnas que no tienen utilidad**"
   ]
  },
  {
   "cell_type": "code",
   "execution_count": 32,
   "metadata": {},
   "outputs": [],
   "source": [
    "atp_data = atp_data.drop(['Points', 'Tournaments', 'Gender', 'Type'], axis=1)\n"
   ]
  },
  {
   "attachments": {},
   "cell_type": "markdown",
   "metadata": {},
   "source": [
    "**Contemplo que no faltan datos**"
   ]
  },
  {
   "cell_type": "code",
   "execution_count": 33,
   "metadata": {},
   "outputs": [
    {
     "data": {
      "text/plain": [
       "<AxesSubplot: >"
      ]
     },
     "execution_count": 33,
     "metadata": {},
     "output_type": "execute_result"
    },
    {
     "data": {
      "image/png": "[encoded data removed]",
      "text/plain": [
       "<Figure size 1800x720 with 2 Axes>"
      ]
     },
     "metadata": {
      "needs_background": "light"
     },
     "output_type": "display_data"
    }
   ],
   "source": [
    "import missingno as msno\n",
    "msno.matrix(atp_data)\n"
   ]
  },
  {
   "cell_type": "code",
   "execution_count": null,
   "metadata": {},
   "outputs": [],
   "source": [
    "# Primero, elimina los caracteres no numéricos de la columna 'Ranking'\n",
    "atp_data['Ranking'] = atp_data['Ranking'].str.extract('(\\d+)').astype(int)\n",
    "\n",
    "# Ahora, convierte la columna 'Ranking' a enteros\n",
    "atp_data['Ranking'] = atp_data['Ranking'].astype(int)\n"
   ]
  },
  {
   "cell_type": "code",
   "execution_count": 62,
   "metadata": {},
   "outputs": [
    {
     "data": {
      "application/vnd.plotly.v1+json": {
       "config": {
        "plotlyServerURL": "https://plot.ly"
       },
       "data": [
        {
         "hovertemplate": "Number of Players: %{y}<br>Date: %{x}<br>",
         "mode": "lines",
         "name": "Argentinian Players",
         "type": "scatter",
         "x": [
          "1990-01-01T00:00:00",
          "1990-01-08T00:00:00",
          "1990-01-15T00:00:00",
          "1990-01-22T00:00:00",
          "1990-01-29T00:00:00",
          "1990-02-05T00:00:00",
          "1990-02-12T00:00:00",
          "1990-02-19T00:00:00",
          "1990-02-26T00:00:00",
          "1990-03-05T00:00:00",
          "1990-03-12T00:00:00",
          "1990-03-19T00:00:00",
          "1990-03-26T00:00:00",
          "1990-04-02T00:00:00",
          "1990-04-09T00:00:00",
          "1990-04-16T00:00:00",
          "1990-04-23T00:00:00",
          "1990-04-30T00:00:00",
          "1990-05-07T00:00:00",
          "1990-05-14T00:00:00",
          "1990-05-21T00:00:00",
          "1990-05-28T00:00:00",
          "1990-06-04T00:00:00",
          "1990-06-11T00:00:00",
          "1990-06-18T00:00:00",
          "1990-06-25T00:00:00",
          "1990-07-02T00:00:00",
          "1990-07-09T00:00:00",
          "1990-07-16T00:00:00",
          "1990-07-23T00:00:00",
          "1990-07-30T00:00:00",
          "1990-08-06T00:00:00",
          "1990-08-13T00:00:00",
          "1990-08-20T00:00:00",
          "1990-08-27T00:00:00",
          "1990-09-03T00:00:00",
          "1990-09-10T00:00:00",
          "1990-09-17T00:00:00",
          "1990-09-24T00:00:00",
          "1990-10-01T00:00:00",
          "1990-10-08T00:00:00",
          "1990-10-15T00:00:00",
          "1990-10-22T00:00:00",
          "1990-10-29T00:00:00",
          "1990-11-05T00:00:00",
          "1990-11-12T00:00:00",
          "1990-11-19T00:00:00",
          "1990-11-26T00:00:00",
          "1990-12-03T00:00:00",
          "1990-12-10T00:00:00",
          "1990-12-17T00:00:00",
          "1990-12-24T00:00:00",
          "1990-12-31T00:00:00",
          "1991-01-07T00:00:00",
          "1991-01-14T00:00:00",
          "1991-01-21T00:00:00",
          "1991-01-28T00:00:00",
          "1991-02-04T00:00:00",
          "1991-02-11T00:00:00",
          "1991-02-18T00:00:00",
          "1991-02-25T00:00:00",
          "1991-03-04T00:00:00",
          "1991-03-11T00:00:00",
          "1991-03-18T00:00:00",
          "1991-03-25T00:00:00",
          "1991-04-01T00:00:00",
          "1991-04-08T00:00:00",
          "1991-04-15T00:00:00",
          "1991-04-22T00:00:00",
          "1991-04-29T00:00:00",
          "1991-05-06T00:00:00",
          "1991-05-13T00:00:00",
          "1991-05-20T00:00:00",
          "1991-05-27T00:00:00",
          "1991-06-03T00:00:00",
          "1991-06-10T00:00:00",
          "1991-06-17T00:00:00",
          "1991-06-24T00:00:00",
          "1991-07-01T00:00:00",
          "1991-07-08T00:00:00",
          "1991-07-15T00:00:00",
          "1991-07-22T00:00:00",
          "1991-07-29T00:00:00",
          "1991-08-05T00:00:00",
          "1991-08-12T00:00:00",
          "1991-08-19T00:00:00",
          "1991-08-26T00:00:00",
          "1991-09-02T00:00:00",
          "1991-09-09T00:00:00",
          "1991-09-16T00:00:00",
          "1991-09-23T00:00:00",
          "1991-09-30T00:00:00",
          "1991-10-07T00:00:00",
          "1991-10-14T00:00:00",
          "1991-10-21T00:00:00",
          "1991-10-28T00:00:00",
          "1991-11-04T00:00:00",
          "1991-11-11T00:00:00",
          "1991-11-18T00:00:00",
          "1991-11-25T00:00:00",
          "1991-12-02T00:00:00",
          "1991-12-09T00:00:00",
          "1991-12-16T00:00:00",
          "1991-12-23T00:00:00",
          "1991-12-30T00:00:00",
          "1992-01-06T00:00:00",
          "1992-01-13T00:00:00",
          "1992-01-20T00:00:00",
          "1992-01-27T00:00:00",
          "1992-02-03T00:00:00",
          "1992-02-10T00:00:00",
          "1992-02-17T00:00:00",
          "1992-02-24T00:00:00",
          "1992-03-02T00:00:00",
          "1992-03-09T00:00:00",
          "1992-03-16T00:00:00",
          "1992-03-23T00:00:00",
          "1992-03-30T00:00:00",
          "1992-04-06T00:00:00",
          "1992-04-13T00:00:00",
          "1992-04-20T00:00:00",
          "1992-04-27T00:00:00",
          "1992-05-04T00:00:00",
          "1992-05-11T00:00:00",
          "1992-05-18T00:00:00",
          "1992-05-25T00:00:00",
          "1992-06-01T00:00:00",
          "1992-06-08T00:00:00",
          "1992-06-15T00:00:00",
          "1992-06-22T00:00:00",
          "1992-06-29T00:00:00",
          "1992-07-06T00:00:00",
          "1992-07-13T00:00:00",
          "1992-07-20T00:00:00",
          "1992-07-27T00:00:00",
          "1992-08-03T00:00:00",
          "1992-08-10T00:00:00",
          "1992-08-17T00:00:00",
          "1992-08-24T00:00:00",
          "1992-08-31T00:00:00",
          "1992-09-07T00:00:00",
          "1992-09-14T00:00:00",
          "1992-09-21T00:00:00",
          "1992-09-28T00:00:00",
          "1992-10-05T00:00:00",
          "1992-10-12T00:00:00",
          "1992-10-19T00:00:00",
          "1992-10-26T00:00:00",
          "1992-11-02T00:00:00",
          "1992-11-09T00:00:00",
          "1992-11-16T00:00:00",
          "1992-11-23T00:00:00",
          "1992-11-30T00:00:00",
          "1992-12-07T00:00:00",
          "1992-12-14T00:00:00",
          "1992-12-21T00:00:00",
          "1992-12-28T00:00:00",
          "1993-01-04T00:00:00",
          "1993-01-11T00:00:00",
          "1993-01-18T00:00:00",
          "1993-01-25T00:00:00",
          "1993-02-01T00:00:00",
          "1993-02-08T00:00:00",
          "1993-02-15T00:00:00",
          "1993-02-22T00:00:00",
          "1993-03-01T00:00:00",
          "1993-03-08T00:00:00",
          "1993-03-15T00:00:00",
          "1993-03-22T00:00:00",
          "1993-03-29T00:00:00",
          "1993-04-05T00:00:00",
          "1993-04-12T00:00:00",
          "1993-04-19T00:00:00",
          "1993-04-26T00:00:00",
          "1993-05-03T00:00:00",
          "1993-05-10T00:00:00",
          "1993-05-17T00:00:00",
          "1993-05-24T00:00:00",
          "1993-05-31T00:00:00",
          "1993-06-07T00:00:00",
          "1993-06-14T00:00:00",
          "1993-06-21T00:00:00",
          "1993-06-28T00:00:00",
          "1993-07-05T00:00:00",
          "1993-07-12T00:00:00",
          "1993-07-19T00:00:00",
          "1993-07-26T00:00:00",
          "1993-08-02T00:00:00",
          "1993-08-09T00:00:00",
          "1993-08-16T00:00:00",
          "1993-08-23T00:00:00",
          "1993-08-30T00:00:00",
          "1993-09-06T00:00:00",
          "1993-09-13T00:00:00",
          "1993-09-20T00:00:00",
          "1993-09-27T00:00:00",
          "1993-10-04T00:00:00",
          "1993-10-11T00:00:00",
          "1993-10-18T00:00:00",
          "1993-10-25T00:00:00",
          "1993-11-01T00:00:00",
          "1993-11-08T00:00:00",
          "1993-11-15T00:00:00",
          "1993-11-22T00:00:00",
          "1993-11-29T00:00:00",
          "1993-12-06T00:00:00",
          "1993-12-13T00:00:00",
          "1993-12-20T00:00:00",
          "1993-12-27T00:00:00",
          "1994-01-03T00:00:00",
          "1994-01-10T00:00:00",
          "1994-01-17T00:00:00",
          "1994-01-24T00:00:00",
          "1994-01-31T00:00:00",
          "1994-02-07T00:00:00",
          "1994-02-14T00:00:00",
          "1994-02-21T00:00:00",
          "1994-02-28T00:00:00",
          "1994-03-07T00:00:00",
          "1994-03-14T00:00:00",
          "1994-03-21T00:00:00",
          "1994-03-28T00:00:00",
          "1994-04-04T00:00:00",
          "1994-04-11T00:00:00",
          "1994-04-18T00:00:00",
          "1994-04-25T00:00:00",
          "1994-05-02T00:00:00",
          "1994-05-09T00:00:00",
          "1994-05-16T00:00:00",
          "1994-05-23T00:00:00",
          "1994-05-30T00:00:00",
          "1994-06-06T00:00:00",
          "1994-06-13T00:00:00",
          "1994-06-20T00:00:00",
          "1994-06-27T00:00:00",
          "1994-07-04T00:00:00",
          "1994-07-11T00:00:00",
          "1994-07-18T00:00:00",
          "1994-07-25T00:00:00",
          "1994-08-01T00:00:00",
          "1994-08-08T00:00:00",
          "1994-08-15T00:00:00",
          "1994-08-22T00:00:00",
          "1994-08-29T00:00:00",
          "1994-09-05T00:00:00",
          "1994-09-12T00:00:00",
          "1994-09-19T00:00:00",
          "1994-09-26T00:00:00",
          "1994-10-03T00:00:00",
          "1994-10-10T00:00:00",
          "1994-10-17T00:00:00",
          "1994-10-24T00:00:00",
          "1994-10-31T00:00:00",
          "1994-11-07T00:00:00",
          "1994-11-14T00:00:00",
          "1994-11-21T00:00:00",
          "1994-11-28T00:00:00",
          "1994-12-05T00:00:00",
          "1994-12-12T00:00:00",
          "1994-12-19T00:00:00",
          "1994-12-26T00:00:00",
          "1995-01-02T00:00:00",
          "1995-01-09T00:00:00",
          "1995-01-16T00:00:00",
          "1995-01-23T00:00:00",
          "1995-01-30T00:00:00",
          "1995-02-06T00:00:00",
          "1995-02-13T00:00:00",
          "1995-02-20T00:00:00",
          "1995-02-27T00:00:00",
          "1995-03-06T00:00:00",
          "1995-03-13T00:00:00",
          "1995-03-20T00:00:00",
          "1995-03-27T00:00:00",
          "1995-04-03T00:00:00",
          "1995-04-10T00:00:00",
          "1995-04-17T00:00:00",
          "1995-04-24T00:00:00",
          "1995-05-01T00:00:00",
          "1995-05-08T00:00:00",
          "1995-05-15T00:00:00",
          "1995-05-22T00:00:00",
          "1995-05-29T00:00:00",
          "1995-06-05T00:00:00",
          "1995-06-12T00:00:00",
          "1995-06-19T00:00:00",
          "1995-06-26T00:00:00",
          "1995-07-03T00:00:00",
          "1995-07-10T00:00:00",
          "1995-07-17T00:00:00",
          "1995-07-24T00:00:00",
          "1995-07-31T00:00:00",
          "1995-08-07T00:00:00",
          "1995-08-14T00:00:00",
          "1995-08-21T00:00:00",
          "1995-08-28T00:00:00",
          "1995-09-04T00:00:00",
          "1995-09-11T00:00:00",
          "1995-09-18T00:00:00",
          "1995-09-25T00:00:00",
          "1995-10-02T00:00:00",
          "1995-10-09T00:00:00",
          "1995-10-16T00:00:00",
          "1995-10-23T00:00:00",
          "1995-10-30T00:00:00",
          "1995-11-06T00:00:00",
          "1995-11-13T00:00:00",
          "1995-11-20T00:00:00",
          "1995-11-27T00:00:00",
          "1995-12-04T00:00:00",
          "1995-12-11T00:00:00",
          "1995-12-18T00:00:00",
          "1995-12-25T00:00:00",
          "1996-01-01T00:00:00",
          "1996-01-08T00:00:00",
          "1996-01-15T00:00:00",
          "1996-01-22T00:00:00",
          "1996-01-29T00:00:00",
          "1996-02-05T00:00:00",
          "1996-02-12T00:00:00",
          "1996-02-19T00:00:00",
          "1996-02-26T00:00:00",
          "1996-03-04T00:00:00",
          "1996-03-11T00:00:00",
          "1996-03-18T00:00:00",
          "1996-03-25T00:00:00",
          "1996-04-01T00:00:00",
          "1996-04-08T00:00:00",
          "1996-04-15T00:00:00",
          "1996-04-22T00:00:00",
          "1996-04-29T00:00:00",
          "1996-05-06T00:00:00",
          "1996-05-13T00:00:00",
          "1996-05-20T00:00:00",
          "1996-05-27T00:00:00",
          "1996-06-03T00:00:00",
          "1996-06-10T00:00:00",
          "1996-06-17T00:00:00",
          "1996-06-24T00:00:00",
          "1996-07-01T00:00:00",
          "1996-07-08T00:00:00",
          "1996-07-15T00:00:00",
          "1996-07-22T00:00:00",
          "1996-07-29T00:00:00",
          "1996-08-05T00:00:00",
          "1996-08-12T00:00:00",
          "1996-08-19T00:00:00",
          "1996-08-26T00:00:00",
          "1996-09-02T00:00:00",
          "1996-09-09T00:00:00",
          "1996-09-16T00:00:00",
          "1996-09-23T00:00:00",
          "1996-09-30T00:00:00",
          "1996-10-07T00:00:00",
          "1996-10-14T00:00:00",
          "1996-10-21T00:00:00",
          "1996-10-28T00:00:00",
          "1996-11-04T00:00:00",
          "1996-11-11T00:00:00",
          "1996-11-18T00:00:00",
          "1996-11-25T00:00:00",
          "1996-12-02T00:00:00",
          "1996-12-09T00:00:00",
          "1996-12-16T00:00:00",
          "1996-12-23T00:00:00",
          "1996-12-30T00:00:00",
          "1997-01-06T00:00:00",
          "1997-01-13T00:00:00",
          "1997-01-20T00:00:00",
          "1997-01-27T00:00:00",
          "1997-02-03T00:00:00",
          "1997-02-10T00:00:00",
          "1997-02-17T00:00:00",
          "1997-02-24T00:00:00",
          "1997-03-03T00:00:00",
          "1997-03-10T00:00:00",
          "1997-03-17T00:00:00",
          "1997-03-24T00:00:00",
          "1997-03-31T00:00:00",
          "1997-04-07T00:00:00",
          "1997-04-14T00:00:00",
          "1997-04-21T00:00:00",
          "1997-04-28T00:00:00",
          "1997-05-05T00:00:00",
          "1997-05-12T00:00:00",
          "1997-05-19T00:00:00",
          "1997-05-26T00:00:00",
          "1997-06-02T00:00:00",
          "1997-06-09T00:00:00",
          "1997-06-16T00:00:00",
          "1997-06-23T00:00:00",
          "1997-06-30T00:00:00",
          "1997-07-07T00:00:00",
          "1997-07-14T00:00:00",
          "1997-07-21T00:00:00",
          "1997-07-28T00:00:00",
          "1997-08-04T00:00:00",
          "1997-08-11T00:00:00",
          "1997-08-18T00:00:00",
          "1997-08-25T00:00:00",
          "1997-09-01T00:00:00",
          "1997-09-08T00:00:00",
          "1997-09-15T00:00:00",
          "1997-09-22T00:00:00",
          "1997-10-06T00:00:00",
          "1997-10-13T00:00:00",
          "1997-10-20T00:00:00",
          "1997-10-27T00:00:00",
          "1997-11-03T00:00:00",
          "1997-11-10T00:00:00",
          "1997-11-17T00:00:00",
          "1997-11-24T00:00:00",
          "1997-12-01T00:00:00",
          "1997-12-08T00:00:00",
          "1997-12-15T00:00:00",
          "1997-12-22T00:00:00",
          "1997-12-29T00:00:00",
          "1998-01-05T00:00:00",
          "1998-01-12T00:00:00",
          "1998-01-19T00:00:00",
          "1998-01-26T00:00:00",
          "1998-02-02T00:00:00",
          "1998-02-09T00:00:00",
          "1998-02-16T00:00:00",
          "1998-02-23T00:00:00",
          "1998-03-02T00:00:00",
          "1998-03-09T00:00:00",
          "1998-03-16T00:00:00",
          "1998-03-23T00:00:00",
          "1998-04-13T00:00:00",
          "1998-04-20T00:00:00",
          "1998-04-27T00:00:00",
          "1998-05-04T00:00:00",
          "1998-05-11T00:00:00",
          "1998-05-18T00:00:00",
          "1998-05-25T00:00:00",
          "1998-06-01T00:00:00",
          "1998-06-08T00:00:00",
          "1998-06-15T00:00:00",
          "1998-06-22T00:00:00",
          "1998-06-29T00:00:00",
          "1998-07-06T00:00:00",
          "1998-07-13T00:00:00",
          "1998-07-20T00:00:00",
          "1998-07-27T00:00:00",
          "1998-08-03T00:00:00",
          "1998-08-10T00:00:00",
          "1998-08-17T00:00:00",
          "1998-08-24T00:00:00",
          "1998-08-31T00:00:00",
          "1998-09-07T00:00:00",
          "1998-09-14T00:00:00",
          "1998-09-21T00:00:00",
          "1998-09-28T00:00:00",
          "1998-10-05T00:00:00",
          "1998-10-12T00:00:00",
          "1998-10-19T00:00:00",
          "1998-10-26T00:00:00",
          "1998-11-02T00:00:00",
          "1998-11-09T00:00:00",
          "1998-11-16T00:00:00",
          "1998-11-23T00:00:00",
          "1998-11-30T00:00:00",
          "1998-12-07T00:00:00",
          "1998-12-14T00:00:00",
          "1998-12-21T00:00:00",
          "1998-12-28T00:00:00",
          "1999-01-04T00:00:00",
          "1999-01-11T00:00:00",
          "1999-01-18T00:00:00",
          "1999-01-25T00:00:00",
          "1999-02-01T00:00:00",
          "1999-02-08T00:00:00",
          "1999-02-15T00:00:00",
          "1999-02-22T00:00:00",
          "1999-03-01T00:00:00",
          "1999-03-08T00:00:00",
          "1999-03-15T00:00:00",
          "1999-03-22T00:00:00",
          "1999-03-29T00:00:00",
          "1999-04-05T00:00:00",
          "1999-04-12T00:00:00",
          "1999-04-19T00:00:00",
          "1999-04-26T00:00:00",
          "1999-05-03T00:00:00",
          "1999-05-10T00:00:00",
          "1999-05-17T00:00:00",
          "1999-05-24T00:00:00",
          "1999-05-31T00:00:00",
          "1999-06-07T00:00:00",
          "1999-06-14T00:00:00",
          "1999-06-21T00:00:00",
          "1999-06-28T00:00:00",
          "1999-07-05T00:00:00",
          "1999-07-12T00:00:00",
          "1999-07-19T00:00:00",
          "1999-07-26T00:00:00",
          "1999-08-02T00:00:00",
          "1999-08-09T00:00:00",
          "1999-08-16T00:00:00",
          "1999-08-23T00:00:00",
          "1999-08-30T00:00:00",
          "1999-09-06T00:00:00",
          "1999-09-13T00:00:00",
          "1999-09-20T00:00:00",
          "1999-09-27T00:00:00",
          "1999-10-04T00:00:00",
          "1999-10-11T00:00:00",
          "1999-10-18T00:00:00",
          "1999-10-25T00:00:00",
          "1999-11-01T00:00:00",
          "1999-11-08T00:00:00",
          "1999-11-15T00:00:00",
          "1999-11-22T00:00:00",
          "1999-11-29T00:00:00",
          "1999-12-06T00:00:00",
          "1999-12-13T00:00:00",
          "1999-12-20T00:00:00",
          "1999-12-27T00:00:00",
          "2000-01-10T00:00:00",
          "2000-01-17T00:00:00",
          "2000-01-24T00:00:00",
          "2000-01-31T00:00:00",
          "2000-02-07T00:00:00",
          "2000-02-14T00:00:00",
          "2000-02-21T00:00:00",
          "2000-02-28T00:00:00",
          "2000-03-06T00:00:00",
          "2000-03-13T00:00:00",
          "2000-03-20T00:00:00",
          "2000-03-27T00:00:00",
          "2000-04-03T00:00:00",
          "2000-04-10T00:00:00",
          "2000-04-17T00:00:00",
          "2000-04-24T00:00:00",
          "2000-05-01T00:00:00",
          "2000-05-08T00:00:00",
          "2000-05-15T00:00:00",
          "2000-05-22T00:00:00",
          "2000-05-29T00:00:00",
          "2000-06-05T00:00:00",
          "2000-06-12T00:00:00",
          "2000-06-19T00:00:00",
          "2000-06-26T00:00:00",
          "2000-07-03T00:00:00",
          "2000-07-10T00:00:00",
          "2000-07-17T00:00:00",
          "2000-07-24T00:00:00",
          "2000-07-31T00:00:00",
          "2000-08-07T00:00:00",
          "2000-08-14T00:00:00",
          "2000-08-21T00:00:00",
          "2000-08-28T00:00:00",
          "2000-09-04T00:00:00",
          "2000-09-11T00:00:00",
          "2000-09-18T00:00:00",
          "2000-09-25T00:00:00",
          "2000-10-02T00:00:00",
          "2000-10-09T00:00:00",
          "2000-10-16T00:00:00",
          "2000-10-23T00:00:00",
          "2000-10-30T00:00:00",
          "2000-11-06T00:00:00",
          "2000-11-13T00:00:00",
          "2000-11-20T00:00:00",
          "2000-11-27T00:00:00",
          "2000-12-04T00:00:00",
          "2000-12-11T00:00:00",
          "2000-12-18T00:00:00",
          "2000-12-25T00:00:00",
          "2001-01-01T00:00:00",
          "2001-01-08T00:00:00",
          "2001-01-15T00:00:00",
          "2001-01-22T00:00:00",
          "2001-01-29T00:00:00",
          "2001-02-05T00:00:00",
          "2001-02-12T00:00:00",
          "2001-02-19T00:00:00",
          "2001-02-26T00:00:00",
          "2001-03-05T00:00:00",
          "2001-03-12T00:00:00",
          "2001-03-19T00:00:00",
          "2001-03-26T00:00:00",
          "2001-04-02T00:00:00",
          "2001-04-09T00:00:00",
          "2001-04-16T00:00:00",
          "2001-04-23T00:00:00",
          "2001-04-30T00:00:00",
          "2001-05-07T00:00:00",
          "2001-05-14T00:00:00",
          "2001-05-21T00:00:00",
          "2001-05-28T00:00:00",
          "2001-06-04T00:00:00",
          "2001-06-11T00:00:00",
          "2001-06-18T00:00:00",
          "2001-06-25T00:00:00",
          "2001-07-02T00:00:00",
          "2001-07-09T00:00:00",
          "2001-07-16T00:00:00",
          "2001-07-23T00:00:00",
          "2001-07-30T00:00:00",
          "2001-08-06T00:00:00",
          "2001-08-13T00:00:00",
          "2001-08-20T00:00:00",
          "2001-08-27T00:00:00",
          "2001-09-03T00:00:00",
          "2001-09-10T00:00:00",
          "2001-09-17T00:00:00",
          "2001-09-24T00:00:00",
          "2001-10-01T00:00:00",
          "2001-10-08T00:00:00",
          "2001-10-15T00:00:00",
          "2001-10-22T00:00:00",
          "2001-10-29T00:00:00",
          "2001-11-05T00:00:00",
          "2001-11-12T00:00:00",
          "2001-11-19T00:00:00",
          "2001-11-26T00:00:00",
          "2001-12-03T00:00:00",
          "2001-12-10T00:00:00",
          "2001-12-17T00:00:00",
          "2001-12-24T00:00:00",
          "2001-12-31T00:00:00",
          "2002-01-07T00:00:00",
          "2002-01-14T00:00:00",
          "2002-01-21T00:00:00",
          "2002-01-28T00:00:00",
          "2002-02-04T00:00:00",
          "2002-02-11T00:00:00",
          "2002-02-18T00:00:00",
          "2002-02-25T00:00:00",
          "2002-03-04T00:00:00",
          "2002-03-11T00:00:00",
          "2002-03-18T00:00:00",
          "2002-03-25T00:00:00",
          "2002-04-01T00:00:00",
          "2002-04-08T00:00:00",
          "2002-04-15T00:00:00",
          "2002-04-22T00:00:00",
          "2002-04-29T00:00:00",
          "2002-05-06T00:00:00",
          "2002-05-13T00:00:00",
          "2002-05-20T00:00:00",
          "2002-05-27T00:00:00",
          "2002-06-03T00:00:00",
          "2002-06-10T00:00:00",
          "2002-06-17T00:00:00",
          "2002-06-24T00:00:00",
          "2002-07-01T00:00:00",
          "2002-07-08T00:00:00",
          "2002-07-15T00:00:00",
          "2002-07-22T00:00:00",
          "2002-07-29T00:00:00",
          "2002-08-05T00:00:00",
          "2002-08-12T00:00:00",
          "2002-08-19T00:00:00",
          "2002-08-26T00:00:00",
          "2002-09-02T00:00:00",
          "2002-09-09T00:00:00",
          "2002-09-16T00:00:00",
          "2002-09-23T00:00:00",
          "2002-09-30T00:00:00",
          "2002-10-07T00:00:00",
          "2002-10-14T00:00:00",
          "2002-10-21T00:00:00",
          "2002-10-28T00:00:00",
          "2002-11-04T00:00:00",
          "2002-11-11T00:00:00",
          "2002-11-18T00:00:00",
          "2002-11-25T00:00:00",
          "2002-12-02T00:00:00",
          "2002-12-09T00:00:00",
          "2002-12-16T00:00:00",
          "2002-12-23T00:00:00",
          "2002-12-30T00:00:00",
          "2003-01-06T00:00:00",
          "2003-01-13T00:00:00",
          "2003-01-20T00:00:00",
          "2003-01-27T00:00:00",
          "2003-02-03T00:00:00",
          "2003-02-10T00:00:00",
          "2003-02-17T00:00:00",
          "2003-02-24T00:00:00",
          "2003-03-03T00:00:00",
          "2003-03-10T00:00:00",
          "2003-03-17T00:00:00",
          "2003-03-24T00:00:00",
          "2003-03-31T00:00:00",
          "2003-04-07T00:00:00",
          "2003-04-14T00:00:00",
          "2003-04-21T00:00:00",
          "2003-04-28T00:00:00",
          "2003-05-05T00:00:00",
          "2003-05-12T00:00:00",
          "2003-05-19T00:00:00",
          "2003-05-26T00:00:00",
          "2003-06-02T00:00:00",
          "2003-06-09T00:00:00",
          "2003-06-16T00:00:00",
          "2003-06-23T00:00:00",
          "2003-06-30T00:00:00",
          "2003-07-07T00:00:00",
          "2003-07-14T00:00:00",
          "2003-07-21T00:00:00",
          "2003-07-28T00:00:00",
          "2003-08-04T00:00:00",
          "2003-08-11T00:00:00",
          "2003-08-18T00:00:00",
          "2003-08-25T00:00:00",
          "2003-09-01T00:00:00",
          "2003-09-08T00:00:00",
          "2003-09-15T00:00:00",
          "2003-09-22T00:00:00",
          "2003-09-29T00:00:00",
          "2003-10-06T00:00:00",
          "2003-10-13T00:00:00",
          "2003-10-20T00:00:00",
          "2003-10-27T00:00:00",
          "2003-11-03T00:00:00",
          "2003-11-10T00:00:00",
          "2003-11-17T00:00:00",
          "2003-11-24T00:00:00",
          "2003-12-01T00:00:00",
          "2003-12-08T00:00:00",
          "2003-12-15T00:00:00",
          "2003-12-22T00:00:00",
          "2003-12-29T00:00:00",
          "2004-01-05T00:00:00",
          "2004-01-12T00:00:00",
          "2004-01-19T00:00:00",
          "2004-01-26T00:00:00",
          "2004-02-02T00:00:00",
          "2004-02-09T00:00:00",
          "2004-02-16T00:00:00",
          "2004-02-23T00:00:00",
          "2004-03-01T00:00:00",
          "2004-03-08T00:00:00",
          "2004-03-15T00:00:00",
          "2004-03-22T00:00:00",
          "2004-03-29T00:00:00",
          "2004-04-05T00:00:00",
          "2004-04-12T00:00:00",
          "2004-04-19T00:00:00",
          "2004-04-26T00:00:00",
          "2004-05-03T00:00:00",
          "2004-05-10T00:00:00",
          "2004-05-17T00:00:00",
          "2004-05-24T00:00:00",
          "2004-05-31T00:00:00",
          "2004-06-07T00:00:00",
          "2004-06-14T00:00:00",
          "2004-06-21T00:00:00",
          "2004-06-28T00:00:00",
          "2004-07-05T00:00:00",
          "2004-07-12T00:00:00",
          "2004-07-19T00:00:00",
          "2004-07-26T00:00:00",
          "2004-08-02T00:00:00",
          "2004-08-09T00:00:00",
          "2004-08-16T00:00:00",
          "2004-08-23T00:00:00",
          "2004-08-30T00:00:00",
          "2004-09-06T00:00:00",
          "2004-09-13T00:00:00",
          "2004-09-20T00:00:00",
          "2004-09-27T00:00:00",
          "2004-10-04T00:00:00",
          "2004-10-11T00:00:00",
          "2004-10-18T00:00:00",
          "2004-10-25T00:00:00",
          "2004-11-01T00:00:00",
          "2004-11-08T00:00:00",
          "2004-11-15T00:00:00",
          "2004-11-22T00:00:00",
          "2004-11-29T00:00:00",
          "2004-12-06T00:00:00",
          "2004-12-13T00:00:00",
          "2004-12-20T00:00:00",
          "2004-12-27T00:00:00",
          "2005-01-03T00:00:00",
          "2005-01-10T00:00:00",
          "2005-01-17T00:00:00",
          "2005-01-24T00:00:00",
          "2005-01-31T00:00:00",
          "2005-02-07T00:00:00",
          "2005-02-14T00:00:00",
          "2005-02-21T00:00:00",
          "2005-02-28T00:00:00",
          "2005-03-07T00:00:00",
          "2005-03-14T00:00:00",
          "2005-03-21T00:00:00",
          "2005-03-28T00:00:00",
          "2005-04-04T00:00:00",
          "2005-04-11T00:00:00",
          "2005-04-18T00:00:00",
          "2005-04-25T00:00:00",
          "2005-05-02T00:00:00",
          "2005-05-09T00:00:00",
          "2005-05-16T00:00:00",
          "2005-05-23T00:00:00",
          "2005-05-30T00:00:00",
          "2005-06-06T00:00:00",
          "2005-06-13T00:00:00",
          "2005-06-20T00:00:00",
          "2005-06-27T00:00:00",
          "2005-07-04T00:00:00",
          "2005-07-11T00:00:00",
          "2005-07-18T00:00:00",
          "2005-07-25T00:00:00",
          "2005-08-01T00:00:00",
          "2005-08-08T00:00:00",
          "2005-08-15T00:00:00",
          "2005-08-22T00:00:00",
          "2005-08-29T00:00:00",
          "2005-09-05T00:00:00",
          "2005-09-12T00:00:00",
          "2005-09-19T00:00:00",
          "2005-09-26T00:00:00",
          "2005-10-03T00:00:00",
          "2005-10-10T00:00:00",
          "2005-10-17T00:00:00",
          "2005-10-24T00:00:00",
          "2005-10-31T00:00:00",
          "2005-11-07T00:00:00",
          "2005-11-14T00:00:00",
          "2005-11-21T00:00:00",
          "2005-11-28T00:00:00",
          "2005-12-05T00:00:00",
          "2005-12-12T00:00:00",
          "2005-12-19T00:00:00",
          "2005-12-26T00:00:00",
          "2006-01-02T00:00:00",
          "2006-01-09T00:00:00",
          "2006-01-16T00:00:00",
          "2006-01-23T00:00:00",
          "2006-01-30T00:00:00",
          "2006-02-06T00:00:00",
          "2006-02-13T00:00:00",
          "2006-02-20T00:00:00",
          "2006-02-27T00:00:00",
          "2006-03-06T00:00:00",
          "2006-03-13T00:00:00",
          "2006-03-20T00:00:00",
          "2006-03-27T00:00:00",
          "2006-04-03T00:00:00",
          "2006-04-10T00:00:00",
          "2006-04-17T00:00:00",
          "2006-04-24T00:00:00",
          "2006-05-01T00:00:00",
          "2006-05-08T00:00:00",
          "2006-05-15T00:00:00",
          "2006-05-22T00:00:00",
          "2006-05-29T00:00:00",
          "2006-06-05T00:00:00",
          "2006-06-12T00:00:00",
          "2006-06-19T00:00:00",
          "2006-06-26T00:00:00",
          "2006-07-03T00:00:00",
          "2006-07-10T00:00:00",
          "2006-07-17T00:00:00",
          "2006-07-24T00:00:00",
          "2006-07-31T00:00:00",
          "2006-08-07T00:00:00",
          "2006-08-14T00:00:00",
          "2006-08-21T00:00:00",
          "2006-08-28T00:00:00",
          "2006-09-04T00:00:00",
          "2006-09-11T00:00:00",
          "2006-09-18T00:00:00",
          "2006-09-25T00:00:00",
          "2006-10-02T00:00:00",
          "2006-10-09T00:00:00",
          "2006-10-16T00:00:00",
          "2006-10-23T00:00:00",
          "2006-10-30T00:00:00",
          "2006-11-06T00:00:00",
          "2006-11-13T00:00:00",
          "2006-11-20T00:00:00",
          "2006-11-27T00:00:00",
          "2006-12-04T00:00:00",
          "2006-12-11T00:00:00",
          "2006-12-18T00:00:00",
          "2006-12-25T00:00:00",
          "2007-01-01T00:00:00",
          "2007-01-08T00:00:00",
          "2007-01-15T00:00:00",
          "2007-01-22T00:00:00",
          "2007-01-29T00:00:00",
          "2007-02-05T00:00:00",
          "2007-02-12T00:00:00",
          "2007-02-19T00:00:00",
          "2007-02-26T00:00:00",
          "2007-03-05T00:00:00",
          "2007-03-12T00:00:00",
          "2007-03-19T00:00:00",
          "2007-03-26T00:00:00",
          "2007-04-02T00:00:00",
          "2007-04-09T00:00:00",
          "2007-04-16T00:00:00",
          "2007-04-23T00:00:00",
          "2007-04-30T00:00:00",
          "2007-05-07T00:00:00",
          "2007-05-14T00:00:00",
          "2007-05-21T00:00:00",
          "2007-05-28T00:00:00",
          "2007-06-04T00:00:00",
          "2007-06-11T00:00:00",
          "2007-06-18T00:00:00",
          "2007-06-25T00:00:00",
          "2007-07-02T00:00:00",
          "2007-07-09T00:00:00",
          "2007-07-16T00:00:00",
          "2007-07-23T00:00:00",
          "2007-07-30T00:00:00",
          "2007-08-06T00:00:00",
          "2007-08-13T00:00:00",
          "2007-08-20T00:00:00",
          "2007-08-27T00:00:00",
          "2007-09-03T00:00:00",
          "2007-09-10T00:00:00",
          "2007-09-17T00:00:00",
          "2007-09-24T00:00:00",
          "2007-10-01T00:00:00",
          "2007-10-08T00:00:00",
          "2007-10-15T00:00:00",
          "2007-10-22T00:00:00",
          "2007-10-29T00:00:00",
          "2007-11-05T00:00:00",
          "2007-11-12T00:00:00",
          "2007-11-19T00:00:00",
          "2007-11-26T00:00:00",
          "2007-12-03T00:00:00",
          "2007-12-10T00:00:00",
          "2007-12-17T00:00:00",
          "2007-12-24T00:00:00",
          "2007-12-31T00:00:00",
          "2008-01-07T00:00:00",
          "2008-01-14T00:00:00",
          "2008-01-21T00:00:00",
          "2008-01-28T00:00:00",
          "2008-02-04T00:00:00",
          "2008-02-11T00:00:00",
          "2008-02-18T00:00:00",
          "2008-02-25T00:00:00",
          "2008-03-03T00:00:00",
          "2008-03-10T00:00:00",
          "2008-03-17T00:00:00",
          "2008-03-24T00:00:00",
          "2008-03-31T00:00:00",
          "2008-04-07T00:00:00",
          "2008-04-14T00:00:00",
          "2008-04-21T00:00:00",
          "2008-04-28T00:00:00",
          "2008-05-05T00:00:00",
          "2008-05-12T00:00:00",
          "2008-05-19T00:00:00",
          "2008-05-26T00:00:00",
          "2008-06-02T00:00:00",
          "2008-06-09T00:00:00",
          "2008-06-16T00:00:00",
          "2008-06-23T00:00:00",
          "2008-06-30T00:00:00",
          "2008-07-07T00:00:00",
          "2008-07-14T00:00:00",
          "2008-07-21T00:00:00",
          "2008-07-28T00:00:00",
          "2008-08-04T00:00:00",
          "2008-08-11T00:00:00",
          "2008-08-18T00:00:00",
          "2008-08-25T00:00:00",
          "2008-09-01T00:00:00",
          "2008-09-08T00:00:00",
          "2008-09-15T00:00:00",
          "2008-09-22T00:00:00",
          "2008-09-29T00:00:00",
          "2008-10-06T00:00:00",
          "2008-10-13T00:00:00",
          "2008-10-20T00:00:00",
          "2008-10-27T00:00:00",
          "2008-11-03T00:00:00",
          "2008-11-10T00:00:00",
          "2008-11-17T00:00:00",
          "2008-11-24T00:00:00",
          "2008-12-01T00:00:00",
          "2008-12-08T00:00:00",
          "2008-12-15T00:00:00",
          "2008-12-22T00:00:00",
          "2008-12-29T00:00:00",
          "2009-01-05T00:00:00",
          "2009-01-12T00:00:00",
          "2009-01-19T00:00:00",
          "2009-01-26T00:00:00",
          "2009-02-02T00:00:00",
          "2009-02-09T00:00:00",
          "2009-02-16T00:00:00",
          "2009-02-23T00:00:00",
          "2009-03-02T00:00:00",
          "2009-03-09T00:00:00",
          "2009-03-16T00:00:00",
          "2009-03-23T00:00:00",
          "2009-03-30T00:00:00",
          "2009-04-06T00:00:00",
          "2009-04-13T00:00:00",
          "2009-04-20T00:00:00",
          "2009-04-27T00:00:00",
          "2009-05-04T00:00:00",
          "2009-05-11T00:00:00",
          "2009-05-18T00:00:00",
          "2009-05-25T00:00:00",
          "2009-06-01T00:00:00",
          "2009-06-08T00:00:00",
          "2009-06-15T00:00:00",
          "2009-06-22T00:00:00",
          "2009-06-29T00:00:00",
          "2009-07-06T00:00:00",
          "2009-07-13T00:00:00",
          "2009-07-20T00:00:00",
          "2009-07-27T00:00:00",
          "2009-08-03T00:00:00",
          "2009-08-10T00:00:00",
          "2009-08-17T00:00:00",
          "2009-08-24T00:00:00",
          "2009-08-31T00:00:00",
          "2009-09-07T00:00:00",
          "2009-09-14T00:00:00",
          "2009-09-21T00:00:00",
          "2009-09-28T00:00:00",
          "2009-10-05T00:00:00",
          "2009-10-12T00:00:00",
          "2009-10-19T00:00:00",
          "2009-10-26T00:00:00",
          "2009-11-02T00:00:00",
          "2009-11-09T00:00:00",
          "2009-11-16T00:00:00",
          "2009-11-23T00:00:00",
          "2009-11-30T00:00:00",
          "2009-12-07T00:00:00",
          "2009-12-14T00:00:00",
          "2009-12-21T00:00:00",
          "2009-12-28T00:00:00",
          "2010-01-04T00:00:00",
          "2010-01-11T00:00:00",
          "2010-01-18T00:00:00",
          "2010-01-25T00:00:00",
          "2010-02-01T00:00:00",
          "2010-02-08T00:00:00",
          "2010-02-15T00:00:00",
          "2010-02-22T00:00:00",
          "2010-03-01T00:00:00",
          "2010-03-08T00:00:00",
          "2010-03-15T00:00:00",
          "2010-03-22T00:00:00",
          "2010-03-29T00:00:00",
          "2010-04-05T00:00:00",
          "2010-04-12T00:00:00",
          "2010-04-19T00:00:00",
          "2010-04-26T00:00:00",
          "2010-05-03T00:00:00",
          "2010-05-10T00:00:00",
          "2010-05-17T00:00:00",
          "2010-05-24T00:00:00",
          "2010-05-31T00:00:00",
          "2010-06-07T00:00:00",
          "2010-06-14T00:00:00",
          "2010-06-21T00:00:00",
          "2010-06-28T00:00:00",
          "2010-07-05T00:00:00",
          "2010-07-12T00:00:00",
          "2010-07-19T00:00:00",
          "2010-07-26T00:00:00",
          "2010-08-02T00:00:00",
          "2010-08-09T00:00:00",
          "2010-08-16T00:00:00",
          "2010-08-23T00:00:00",
          "2010-08-30T00:00:00",
          "2010-09-06T00:00:00",
          "2010-09-13T00:00:00",
          "2010-09-20T00:00:00",
          "2010-09-27T00:00:00",
          "2010-10-04T00:00:00",
          "2010-10-11T00:00:00",
          "2010-10-18T00:00:00",
          "2010-10-25T00:00:00",
          "2010-11-01T00:00:00",
          "2010-11-08T00:00:00",
          "2010-11-15T00:00:00",
          "2010-11-22T00:00:00",
          "2010-11-29T00:00:00",
          "2010-12-06T00:00:00",
          "2010-12-13T00:00:00",
          "2010-12-20T00:00:00",
          "2010-12-27T00:00:00",
          "2011-01-03T00:00:00",
          "2011-01-10T00:00:00",
          "2011-01-17T00:00:00",
          "2011-01-31T00:00:00",
          "2011-02-07T00:00:00",
          "2011-02-14T00:00:00",
          "2011-02-21T00:00:00",
          "2011-02-28T00:00:00",
          "2011-03-07T00:00:00",
          "2011-03-21T00:00:00",
          "2011-04-04T00:00:00",
          "2011-04-11T00:00:00",
          "2011-04-18T00:00:00",
          "2011-04-25T00:00:00",
          "2011-05-02T00:00:00",
          "2011-05-09T00:00:00",
          "2011-05-16T00:00:00",
          "2011-05-23T00:00:00",
          "2011-06-06T00:00:00",
          "2011-06-13T00:00:00",
          "2011-06-20T00:00:00",
          "2011-07-04T00:00:00",
          "2011-07-11T00:00:00",
          "2011-07-18T00:00:00",
          "2011-07-25T00:00:00",
          "2011-08-01T00:00:00",
          "2011-08-08T00:00:00",
          "2011-08-15T00:00:00",
          "2011-08-22T00:00:00",
          "2011-08-29T00:00:00",
          "2011-09-12T00:00:00",
          "2011-09-19T00:00:00",
          "2011-09-26T00:00:00",
          "2011-10-03T00:00:00",
          "2011-10-10T00:00:00",
          "2011-10-17T00:00:00",
          "2011-10-24T00:00:00",
          "2011-10-31T00:00:00",
          "2011-11-07T00:00:00",
          "2011-11-14T00:00:00",
          "2011-11-21T00:00:00",
          "2011-11-28T00:00:00",
          "2011-12-05T00:00:00",
          "2011-12-12T00:00:00",
          "2011-12-19T00:00:00",
          "2011-12-26T00:00:00",
          "2012-01-02T00:00:00",
          "2012-01-09T00:00:00",
          "2012-01-16T00:00:00",
          "2012-01-30T00:00:00",
          "2012-02-06T00:00:00",
          "2012-02-13T00:00:00",
          "2012-02-20T00:00:00",
          "2012-02-27T00:00:00",
          "2012-03-05T00:00:00",
          "2012-03-19T00:00:00",
          "2012-04-02T00:00:00",
          "2012-04-09T00:00:00",
          "2012-04-16T00:00:00",
          "2012-04-23T00:00:00",
          "2012-04-30T00:00:00",
          "2012-05-07T00:00:00",
          "2012-05-14T00:00:00",
          "2012-05-21T00:00:00",
          "2012-05-28T00:00:00",
          "2012-06-11T00:00:00",
          "2012-06-18T00:00:00",
          "2012-06-25T00:00:00",
          "2012-07-09T00:00:00",
          "2012-07-16T00:00:00",
          "2012-07-23T00:00:00",
          "2012-07-30T00:00:00",
          "2012-08-06T00:00:00",
          "2012-08-13T00:00:00",
          "2012-08-20T00:00:00",
          "2012-08-27T00:00:00",
          "2012-09-10T00:00:00",
          "2012-09-17T00:00:00",
          "2012-09-24T00:00:00",
          "2012-10-01T00:00:00",
          "2012-10-15T00:00:00",
          "2012-10-22T00:00:00",
          "2012-10-29T00:00:00",
          "2012-11-05T00:00:00",
          "2012-11-12T00:00:00",
          "2012-11-19T00:00:00",
          "2012-11-26T00:00:00",
          "2012-12-03T00:00:00",
          "2012-12-10T00:00:00",
          "2012-12-17T00:00:00",
          "2012-12-24T00:00:00",
          "2012-12-31T00:00:00",
          "2013-01-07T00:00:00",
          "2013-01-14T00:00:00",
          "2013-01-28T00:00:00",
          "2013-02-04T00:00:00",
          "2013-02-11T00:00:00",
          "2013-02-18T00:00:00",
          "2013-02-25T00:00:00",
          "2013-03-04T00:00:00",
          "2013-03-18T00:00:00",
          "2013-04-01T00:00:00",
          "2013-04-08T00:00:00",
          "2013-04-15T00:00:00",
          "2013-04-22T00:00:00",
          "2013-04-29T00:00:00",
          "2013-05-06T00:00:00",
          "2013-05-13T00:00:00",
          "2013-05-20T00:00:00",
          "2013-05-27T00:00:00",
          "2013-06-10T00:00:00",
          "2013-06-17T00:00:00",
          "2013-06-24T00:00:00",
          "2013-07-08T00:00:00",
          "2013-07-15T00:00:00",
          "2013-07-22T00:00:00",
          "2013-07-29T00:00:00",
          "2013-08-05T00:00:00",
          "2013-08-12T00:00:00",
          "2013-08-19T00:00:00",
          "2013-08-26T00:00:00",
          "2013-09-09T00:00:00",
          "2013-09-16T00:00:00",
          "2013-09-23T00:00:00",
          "2013-09-30T00:00:00",
          "2013-10-07T00:00:00",
          "2013-10-14T00:00:00",
          "2013-10-21T00:00:00",
          "2013-10-28T00:00:00",
          "2013-11-04T00:00:00",
          "2013-11-11T00:00:00",
          "2013-11-18T00:00:00",
          "2013-11-25T00:00:00",
          "2013-12-02T00:00:00",
          "2013-12-09T00:00:00",
          "2013-12-16T00:00:00",
          "2013-12-23T00:00:00",
          "2013-12-30T00:00:00",
          "2014-01-06T00:00:00",
          "2014-01-13T00:00:00",
          "2014-01-27T00:00:00",
          "2014-02-03T00:00:00",
          "2014-02-10T00:00:00",
          "2014-02-17T00:00:00",
          "2014-02-24T00:00:00",
          "2014-03-03T00:00:00",
          "2014-03-17T00:00:00",
          "2014-03-31T00:00:00",
          "2014-04-07T00:00:00",
          "2014-04-14T00:00:00",
          "2014-04-21T00:00:00",
          "2014-04-28T00:00:00",
          "2014-05-05T00:00:00",
          "2014-05-12T00:00:00",
          "2014-05-19T00:00:00",
          "2014-05-26T00:00:00",
          "2014-06-09T00:00:00",
          "2014-06-16T00:00:00",
          "2014-06-23T00:00:00",
          "2014-07-07T00:00:00",
          "2014-07-14T00:00:00",
          "2014-07-21T00:00:00",
          "2014-07-28T00:00:00",
          "2014-08-04T00:00:00",
          "2014-08-11T00:00:00",
          "2014-08-18T00:00:00",
          "2014-08-25T00:00:00",
          "2014-09-08T00:00:00",
          "2014-09-15T00:00:00",
          "2014-09-22T00:00:00",
          "2014-09-29T00:00:00",
          "2014-10-06T00:00:00",
          "2014-10-13T00:00:00",
          "2014-10-20T00:00:00",
          "2014-10-27T00:00:00",
          "2014-11-03T00:00:00",
          "2014-11-10T00:00:00",
          "2014-11-17T00:00:00",
          "2014-11-24T00:00:00",
          "2014-12-01T00:00:00",
          "2014-12-08T00:00:00",
          "2014-12-15T00:00:00",
          "2014-12-22T00:00:00",
          "2014-12-29T00:00:00",
          "2015-01-05T00:00:00",
          "2015-01-12T00:00:00",
          "2015-01-19T00:00:00",
          "2015-02-02T00:00:00",
          "2015-02-09T00:00:00",
          "2015-02-16T00:00:00",
          "2015-02-23T00:00:00",
          "2015-03-02T00:00:00",
          "2015-03-09T00:00:00",
          "2015-03-23T00:00:00",
          "2015-04-06T00:00:00",
          "2015-04-13T00:00:00",
          "2015-04-20T00:00:00",
          "2015-04-27T00:00:00",
          "2015-05-04T00:00:00",
          "2015-05-11T00:00:00",
          "2015-05-18T00:00:00",
          "2015-05-25T00:00:00",
          "2015-06-08T00:00:00",
          "2015-06-15T00:00:00",
          "2015-06-22T00:00:00",
          "2015-06-29T00:00:00",
          "2015-07-13T00:00:00",
          "2015-07-20T00:00:00",
          "2015-07-27T00:00:00",
          "2015-08-03T00:00:00",
          "2015-08-10T00:00:00",
          "2015-08-17T00:00:00",
          "2015-08-24T00:00:00",
          "2015-08-31T00:00:00",
          "2015-09-14T00:00:00",
          "2015-09-21T00:00:00",
          "2015-09-28T00:00:00",
          "2015-10-05T00:00:00",
          "2015-10-12T00:00:00",
          "2015-10-19T00:00:00",
          "2015-10-26T00:00:00",
          "2015-11-02T00:00:00",
          "2015-11-09T00:00:00",
          "2015-11-16T00:00:00",
          "2015-11-23T00:00:00",
          "2015-11-30T00:00:00",
          "2015-12-07T00:00:00",
          "2015-12-14T00:00:00",
          "2015-12-21T00:00:00",
          "2015-12-28T00:00:00",
          "2016-01-04T00:00:00",
          "2016-01-11T00:00:00",
          "2016-01-18T00:00:00",
          "2016-02-01T00:00:00",
          "2016-02-08T00:00:00",
          "2016-02-15T00:00:00",
          "2016-02-22T00:00:00",
          "2016-02-29T00:00:00",
          "2016-03-07T00:00:00",
          "2016-03-21T00:00:00",
          "2016-04-04T00:00:00",
          "2016-04-11T00:00:00",
          "2016-04-18T00:00:00",
          "2016-04-25T00:00:00",
          "2016-05-02T00:00:00",
          "2016-05-09T00:00:00",
          "2016-05-16T00:00:00",
          "2016-05-23T00:00:00",
          "2016-06-06T00:00:00",
          "2016-06-13T00:00:00",
          "2016-06-20T00:00:00",
          "2016-06-27T00:00:00",
          "2016-07-11T00:00:00",
          "2016-07-18T00:00:00",
          "2016-07-25T00:00:00",
          "2016-08-01T00:00:00",
          "2016-08-08T00:00:00",
          "2016-08-15T00:00:00",
          "2016-08-22T00:00:00",
          "2016-08-29T00:00:00",
          "2016-09-12T00:00:00",
          "2016-09-19T00:00:00",
          "2016-09-26T00:00:00",
          "2016-10-03T00:00:00",
          "2016-10-10T00:00:00",
          "2016-10-17T00:00:00",
          "2016-10-24T00:00:00",
          "2016-10-31T00:00:00",
          "2016-11-07T00:00:00",
          "2016-11-14T00:00:00",
          "2016-11-21T00:00:00",
          "2016-11-28T00:00:00",
          "2016-12-05T00:00:00",
          "2016-12-12T00:00:00",
          "2016-12-19T00:00:00",
          "2016-12-26T00:00:00",
          "2017-01-02T00:00:00",
          "2017-01-09T00:00:00",
          "2017-01-16T00:00:00",
          "2017-01-30T00:00:00",
          "2017-02-06T00:00:00",
          "2017-02-13T00:00:00",
          "2017-02-20T00:00:00",
          "2017-02-27T00:00:00",
          "2017-03-06T00:00:00",
          "2017-03-20T00:00:00",
          "2017-04-03T00:00:00",
          "2017-04-10T00:00:00",
          "2017-04-17T00:00:00",
          "2017-04-24T00:00:00",
          "2017-05-01T00:00:00",
          "2017-05-08T00:00:00",
          "2017-05-15T00:00:00",
          "2017-05-22T00:00:00",
          "2017-05-29T00:00:00",
          "2017-06-12T00:00:00",
          "2017-06-19T00:00:00",
          "2017-06-26T00:00:00",
          "2017-07-03T00:00:00",
          "2017-07-10T00:00:00",
          "2017-07-17T00:00:00",
          "2017-07-24T00:00:00",
          "2017-07-31T00:00:00",
          "2017-08-07T00:00:00",
          "2017-08-14T00:00:00",
          "2017-08-21T00:00:00",
          "2017-08-28T00:00:00",
          "2017-09-11T00:00:00",
          "2017-09-18T00:00:00",
          "2017-09-25T00:00:00",
          "2017-10-02T00:00:00",
          "2017-10-09T00:00:00",
          "2017-10-16T00:00:00",
          "2017-10-23T00:00:00",
          "2017-10-30T00:00:00",
          "2017-11-06T00:00:00",
          "2017-11-13T00:00:00",
          "2017-11-20T00:00:00",
          "2017-11-27T00:00:00",
          "2017-12-04T00:00:00",
          "2017-12-11T00:00:00",
          "2017-12-18T00:00:00",
          "2017-12-25T00:00:00",
          "2018-01-01T00:00:00",
          "2018-01-08T00:00:00",
          "2018-01-15T00:00:00",
          "2018-01-29T00:00:00",
          "2018-02-05T00:00:00",
          "2018-02-12T00:00:00",
          "2018-02-19T00:00:00",
          "2018-02-26T00:00:00",
          "2018-03-05T00:00:00",
          "2018-03-19T00:00:00",
          "2018-04-02T00:00:00",
          "2018-04-09T00:00:00",
          "2018-04-16T00:00:00",
          "2018-04-23T00:00:00",
          "2018-04-30T00:00:00",
          "2018-05-07T00:00:00",
          "2018-05-14T00:00:00",
          "2018-05-21T00:00:00",
          "2018-05-28T00:00:00",
          "2018-06-11T00:00:00",
          "2018-06-18T00:00:00",
          "2018-06-25T00:00:00",
          "2018-07-02T00:00:00",
          "2018-07-16T00:00:00",
          "2018-07-23T00:00:00",
          "2018-07-30T00:00:00",
          "2018-08-06T00:00:00",
          "2018-08-13T00:00:00",
          "2018-08-20T00:00:00",
          "2018-08-27T00:00:00",
          "2018-09-10T00:00:00",
          "2018-09-17T00:00:00",
          "2018-09-24T00:00:00",
          "2018-10-01T00:00:00",
          "2018-10-08T00:00:00",
          "2018-10-15T00:00:00",
          "2018-10-22T00:00:00",
          "2018-10-29T00:00:00",
          "2018-11-05T00:00:00",
          "2018-11-12T00:00:00",
          "2018-11-19T00:00:00",
          "2018-11-26T00:00:00",
          "2018-12-03T00:00:00",
          "2018-12-10T00:00:00",
          "2018-12-17T00:00:00",
          "2018-12-24T00:00:00",
          "2018-12-31T00:00:00",
          "2019-01-07T00:00:00",
          "2019-01-14T00:00:00",
          "2019-01-28T00:00:00",
          "2019-02-04T00:00:00",
          "2019-02-11T00:00:00",
          "2019-02-18T00:00:00",
          "2019-02-25T00:00:00",
          "2019-03-04T00:00:00",
          "2019-03-11T00:00:00",
          "2019-03-18T00:00:00",
          "2019-04-01T00:00:00",
          "2019-04-08T00:00:00",
          "2019-04-15T00:00:00",
          "2019-04-22T00:00:00",
          "2019-04-29T00:00:00",
          "2019-05-06T00:00:00",
          "2019-05-13T00:00:00",
          "2019-05-20T00:00:00",
          "2019-05-27T00:00:00",
          "2019-06-10T00:00:00",
          "2019-06-17T00:00:00",
          "2019-06-24T00:00:00",
          "2019-07-01T00:00:00",
          "2019-07-15T00:00:00",
          "2019-07-22T00:00:00",
          "2019-07-29T00:00:00",
          "2019-08-05T00:00:00",
          "2019-08-12T00:00:00",
          "2019-08-19T00:00:00",
          "2019-08-26T00:00:00",
          "2019-09-09T00:00:00",
          "2019-09-16T00:00:00"
         ],
         "y": [
          4,
          4,
          4,
          4,
          4,
          4,
          5,
          5,
          5,
          5,
          5,
          5,
          5,
          5,
          4,
          4,
          4,
          4,
          4,
          5,
          5,
          5,
          5,
          5,
          5,
          5,
          5,
          5,
          5,
          5,
          5,
          6,
          6,
          6,
          5,
          5,
          5,
          5,
          5,
          4,
          4,
          4,
          4,
          4,
          4,
          4,
          4,
          4,
          4,
          4,
          4,
          4,
          4,
          4,
          4,
          4,
          4,
          4,
          4,
          4,
          4,
          4,
          4,
          4,
          4,
          4,
          4,
          4,
          4,
          5,
          4,
          4,
          5,
          5,
          5,
          5,
          5,
          5,
          5,
          5,
          6,
          6,
          6,
          6,
          6,
          7,
          7,
          7,
          8,
          7,
          8,
          8,
          7,
          5,
          7,
          7,
          7,
          8,
          8,
          8,
          7,
          7,
          7,
          7,
          7,
          8,
          8,
          8,
          8,
          8,
          9,
          9,
          9,
          9,
          9,
          9,
          9,
          9,
          9,
          9,
          8,
          8,
          8,
          8,
          7,
          7,
          7,
          7,
          7,
          6,
          6,
          6,
          5,
          6,
          6,
          5,
          5,
          5,
          5,
          5,
          5,
          5,
          5,
          5,
          5,
          6,
          6,
          6,
          6,
          5,
          5,
          5,
          5,
          5,
          5,
          5,
          5,
          5,
          5,
          5,
          5,
          4,
          4,
          4,
          4,
          4,
          4,
          4,
          4,
          4,
          4,
          5,
          6,
          6,
          7,
          7,
          7,
          7,
          7,
          7,
          6,
          6,
          6,
          6,
          5,
          6,
          5,
          5,
          4,
          4,
          3,
          3,
          3,
          3,
          3,
          4,
          4,
          4,
          4,
          4,
          4,
          4,
          3,
          3,
          3,
          3,
          3,
          3,
          3,
          3,
          3,
          3,
          3,
          4,
          4,
          4,
          4,
          4,
          4,
          4,
          3,
          3,
          3,
          3,
          3,
          3,
          3,
          3,
          3,
          3,
          3,
          3,
          3,
          3,
          3,
          3,
          2,
          2,
          2,
          3,
          2,
          2,
          2,
          2,
          2,
          3,
          3,
          2,
          2,
          2,
          2,
          2,
          1,
          1,
          1,
          1,
          1,
          1,
          1,
          1,
          1,
          1,
          1,
          1,
          1,
          1,
          1,
          1,
          1,
          1,
          1,
          1,
          1,
          1,
          2,
          2,
          1,
          2,
          2,
          2,
          2,
          2,
          2,
          2,
          2,
          2,
          2,
          2,
          2,
          2,
          1,
          1,
          1,
          2,
          2,
          2,
          2,
          2,
          2,
          2,
          2,
          2,
          2,
          2,
          2,
          2,
          2,
          2,
          2,
          2,
          2,
          2,
          2,
          2,
          2,
          2,
          2,
          2,
          2,
          2,
          2,
          2,
          2,
          2,
          2,
          2,
          2,
          2,
          2,
          2,
          2,
          2,
          2,
          2,
          2,
          2,
          2,
          2,
          2,
          2,
          2,
          2,
          2,
          2,
          2,
          2,
          2,
          2,
          2,
          2,
          2,
          2,
          2,
          2,
          2,
          2,
          2,
          2,
          2,
          2,
          2,
          2,
          2,
          2,
          2,
          2,
          2,
          1,
          1,
          1,
          1,
          1,
          1,
          1,
          2,
          2,
          2,
          2,
          3,
          3,
          4,
          2,
          3,
          2,
          1,
          2,
          2,
          2,
          1,
          1,
          1,
          1,
          1,
          1,
          1,
          1,
          1,
          1,
          1,
          1,
          1,
          1,
          1,
          1,
          1,
          1,
          1,
          1,
          1,
          1,
          1,
          1,
          2,
          1,
          1,
          1,
          1,
          1,
          1,
          1,
          1,
          2,
          2,
          1,
          1,
          2,
          1,
          1,
          1,
          2,
          2,
          4,
          4,
          4,
          3,
          4,
          4,
          4,
          4,
          5,
          5,
          5,
          5,
          5,
          5,
          5,
          5,
          5,
          5,
          5,
          5,
          6,
          5,
          5,
          6,
          6,
          5,
          5,
          5,
          5,
          5,
          5,
          5,
          5,
          5,
          5,
          5,
          5,
          5,
          5,
          5,
          5,
          5,
          5,
          4,
          4,
          5,
          5,
          5,
          5,
          6,
          5,
          7,
          6,
          7,
          7,
          7,
          7,
          7,
          7,
          7,
          7,
          7,
          7,
          6,
          6,
          7,
          7,
          7,
          7,
          7,
          7,
          7,
          7,
          7,
          7,
          6,
          6,
          6,
          6,
          6,
          6,
          6,
          6,
          6,
          6,
          5,
          5,
          5,
          5,
          5,
          5,
          5,
          5,
          5,
          5,
          7,
          7,
          7,
          7,
          7,
          7,
          7,
          7,
          8,
          7,
          7,
          7,
          6,
          6,
          6,
          7,
          7,
          7,
          7,
          7,
          7,
          7,
          7,
          7,
          7,
          7,
          7,
          7,
          7,
          7,
          7,
          7,
          7,
          6,
          6,
          6,
          6,
          6,
          7,
          7,
          7,
          7,
          7,
          7,
          7,
          7,
          7,
          7,
          7,
          7,
          7,
          7,
          7,
          7,
          7,
          7,
          7,
          7,
          6,
          7,
          8,
          8,
          8,
          8,
          7,
          7,
          7,
          7,
          6,
          6,
          6,
          7,
          6,
          7,
          6,
          6,
          6,
          6,
          6,
          6,
          7,
          7,
          7,
          8,
          8,
          8,
          8,
          9,
          9,
          9,
          9,
          9,
          9,
          9,
          9,
          9,
          9,
          9,
          9,
          9,
          9,
          9,
          9,
          9,
          8,
          9,
          9,
          9,
          9,
          9,
          9,
          9,
          7,
          7,
          7,
          8,
          8,
          8,
          8,
          7,
          8,
          8,
          8,
          8,
          8,
          8,
          8,
          8,
          8,
          8,
          9,
          9,
          9,
          9,
          9,
          9,
          9,
          9,
          9,
          9,
          9,
          9,
          9,
          9,
          9,
          9,
          9,
          9,
          9,
          9,
          9,
          9,
          9,
          9,
          9,
          9,
          9,
          9,
          9,
          9,
          9,
          9,
          9,
          9,
          9,
          9,
          10,
          10,
          10,
          10,
          10,
          10,
          10,
          10,
          10,
          10,
          10,
          10,
          9,
          9,
          9,
          9,
          9,
          9,
          8,
          7,
          7,
          7,
          6,
          6,
          7,
          7,
          6,
          6,
          6,
          7,
          6,
          6,
          6,
          6,
          6,
          6,
          6,
          6,
          6,
          6,
          6,
          6,
          7,
          7,
          7,
          7,
          8,
          8,
          8,
          8,
          8,
          9,
          9,
          9,
          8,
          8,
          8,
          8,
          8,
          8,
          8,
          8,
          8,
          8,
          9,
          9,
          8,
          9,
          9,
          9,
          9,
          9,
          9,
          9,
          9,
          9,
          9,
          9,
          9,
          9,
          9,
          9,
          9,
          9,
          9,
          9,
          9,
          9,
          9,
          9,
          9,
          9,
          9,
          10,
          10,
          10,
          11,
          11,
          11,
          11,
          10,
          11,
          11,
          11,
          10,
          10,
          9,
          9,
          9,
          10,
          10,
          10,
          10,
          10,
          10,
          10,
          10,
          10,
          10,
          10,
          10,
          10,
          10,
          10,
          10,
          10,
          10,
          10,
          10,
          11,
          10,
          9,
          9,
          10,
          10,
          10,
          10,
          10,
          10,
          10,
          10,
          10,
          10,
          10,
          10,
          9,
          9,
          8,
          8,
          8,
          8,
          8,
          8,
          8,
          8,
          8,
          7,
          7,
          7,
          7,
          7,
          7,
          8,
          8,
          8,
          8,
          7,
          7,
          7,
          7,
          8,
          8,
          8,
          8,
          8,
          7,
          7,
          7,
          8,
          9,
          9,
          8,
          8,
          9,
          9,
          9,
          9,
          9,
          9,
          9,
          9,
          9,
          9,
          9,
          9,
          9,
          9,
          9,
          10,
          11,
          11,
          11,
          11,
          11,
          11,
          12,
          12,
          13,
          13,
          13,
          13,
          13,
          13,
          13,
          13,
          13,
          14,
          14,
          12,
          13,
          12,
          12,
          12,
          12,
          12,
          12,
          12,
          12,
          12,
          12,
          13,
          12,
          12,
          12,
          13,
          13,
          13,
          11,
          11,
          11,
          11,
          11,
          11,
          11,
          11,
          11,
          11,
          10,
          11,
          12,
          10,
          10,
          9,
          9,
          9,
          9,
          9,
          9,
          9,
          9,
          9,
          10,
          10,
          10,
          10,
          10,
          10,
          10,
          11,
          11,
          10,
          9,
          12,
          11,
          11,
          10,
          9,
          8,
          8,
          8,
          7,
          7,
          8,
          8,
          8,
          8,
          9,
          9,
          9,
          9,
          9,
          9,
          9,
          9,
          9,
          9,
          10,
          10,
          10,
          10,
          10,
          10,
          10,
          11,
          12,
          12,
          12,
          13,
          13,
          10,
          10,
          9,
          9,
          9,
          10,
          11,
          10,
          10,
          10,
          10,
          9,
          9,
          9,
          8,
          7,
          8,
          8,
          8,
          8,
          8,
          8,
          8,
          8,
          8,
          8,
          8,
          9,
          9,
          9,
          9,
          9,
          9,
          9,
          9,
          9,
          9,
          9,
          9,
          9,
          9,
          9,
          9,
          9,
          8,
          8,
          7,
          6,
          6,
          6,
          6,
          6,
          6,
          6,
          6,
          6,
          6,
          6,
          6,
          6,
          6,
          6,
          6,
          6,
          6,
          6,
          7,
          7,
          7,
          7,
          9,
          9,
          9,
          8,
          8,
          8,
          9,
          9,
          9,
          9,
          9,
          9,
          8,
          8,
          7,
          7,
          7,
          7,
          7,
          7,
          7,
          7,
          7,
          5,
          5,
          5,
          7,
          5,
          7,
          7,
          7,
          7,
          6,
          6,
          6,
          6,
          6,
          7,
          6,
          6,
          6,
          6,
          6,
          6,
          7,
          6,
          7,
          6,
          6,
          5,
          5,
          6,
          6,
          7,
          6,
          6,
          7,
          7,
          7,
          7,
          7,
          6,
          6,
          6,
          6,
          6,
          6,
          6,
          6,
          6,
          6,
          6,
          6,
          6,
          6,
          6,
          6,
          6,
          6,
          6,
          6,
          6,
          6,
          6,
          6,
          6,
          7,
          7,
          7,
          6,
          6,
          6,
          6,
          5,
          5,
          5,
          5,
          5,
          5,
          5,
          5,
          5,
          5,
          5,
          6,
          6,
          6,
          6,
          7,
          7,
          7,
          7,
          7,
          7,
          7,
          7,
          7,
          7,
          8,
          8,
          7,
          6,
          6,
          6,
          7,
          6,
          6,
          6,
          6,
          6,
          7,
          6,
          6,
          6,
          6,
          6,
          7,
          7,
          7,
          7,
          7,
          7,
          7,
          7,
          6,
          6,
          7,
          7,
          7,
          7,
          7,
          6,
          7,
          7,
          6,
          6,
          6,
          6,
          6,
          6,
          6,
          6,
          6,
          5,
          5,
          5,
          5,
          5,
          5,
          5,
          5,
          5,
          5,
          5,
          5,
          5,
          5,
          6,
          6,
          6,
          6,
          5,
          5,
          6,
          7,
          7,
          7,
          7,
          7,
          6,
          7,
          7,
          6,
          7,
          6,
          8,
          6,
          5,
          5,
          5,
          5,
          5,
          5,
          5,
          5,
          6,
          6,
          6,
          6,
          6,
          6,
          6,
          6,
          6,
          6,
          6,
          6,
          7,
          6,
          5,
          5,
          5,
          5,
          5,
          5,
          5,
          5,
          5,
          4,
          4,
          5,
          5,
          5,
          5,
          5,
          5,
          5,
          5,
          5,
          5,
          5,
          5,
          5,
          5,
          5,
          5,
          5,
          5,
          5,
          5,
          5,
          5,
          5,
          5,
          6,
          6,
          5,
          6,
          6,
          6,
          5,
          6,
          7,
          7,
          7,
          7,
          6,
          7,
          7,
          7,
          7,
          7,
          8,
          7,
          7,
          7,
          6,
          6,
          6,
          7,
          7,
          8,
          8,
          8,
          9,
          8,
          9,
          9,
          9,
          9,
          9,
          9,
          9,
          9,
          9,
          9,
          9,
          9,
          9,
          9,
          9,
          8,
          9,
          8,
          9,
          9,
          7,
          8,
          7,
          7,
          8,
          7,
          7,
          7,
          6,
          6,
          6,
          6,
          7,
          8,
          8,
          7,
          7,
          8,
          8,
          8,
          8,
          8,
          7,
          8,
          8,
          7,
          7,
          7,
          7,
          7,
          7,
          7,
          7,
          7,
          7,
          7,
          7,
          7,
          7,
          7,
          7,
          7,
          7,
          7,
          7,
          7,
          7,
          7,
          7,
          7,
          7,
          7,
          7,
          7,
          7,
          6,
          6,
          6,
          6,
          6,
          6,
          5,
          5,
          4,
          4,
          4,
          4,
          4,
          5,
          5,
          6,
          6,
          6,
          6,
          6,
          6,
          6,
          6,
          6,
          6,
          6,
          6,
          6,
          6,
          6,
          6,
          6,
          6,
          6,
          7,
          7,
          7,
          7,
          7,
          7,
          7,
          7,
          7,
          7,
          7,
          7,
          7,
          6,
          6,
          6,
          6,
          6,
          6,
          6,
          6,
          6,
          6,
          6,
          6,
          6,
          6,
          6
         ]
        }
       ],
       "layout": {
        "template": {
         "data": {
          "bar": [
           {
            "error_x": {
             "color": "#2a3f5f"
            },
            "error_y": {
             "color": "#2a3f5f"
            },
            "marker": {
             "line": {
              "color": "#E5ECF6",
              "width": 0.5
             },
             "pattern": {
              "fillmode": "overlay",
              "size": 10,
              "solidity": 0.2
             }
            },
            "type": "bar"
           }
          ],
          "barpolar": [
           {
            "marker": {
             "line": {
              "color": "#E5ECF6",
              "width": 0.5
             },
             "pattern": {
              "fillmode": "overlay",
              "size": 10,
              "solidity": 0.2
             }
            },
            "type": "barpolar"
           }
          ],
          "carpet": [
           {
            "aaxis": {
             "endlinecolor": "#2a3f5f",
             "gridcolor": "white",
             "linecolor": "white",
             "minorgridcolor": "white",
             "startlinecolor": "#2a3f5f"
            },
            "baxis": {
             "endlinecolor": "#2a3f5f",
             "gridcolor": "white",
             "linecolor": "white",
             "minorgridcolor": "white",
             "startlinecolor": "#2a3f5f"
            },
            "type": "carpet"
           }
          ],
          "choropleth": [
           {
            "colorbar": {
             "outlinewidth": 0,
             "ticks": ""
            },
            "type": "choropleth"
           }
          ],
          "contour": [
           {
            "colorbar": {
             "outlinewidth": 0,
             "ticks": ""
            },
            "colorscale": [
             [
              0,
              "#0d0887"
             ],
             [
              0.1111111111111111,
              "#46039f"
             ],
             [
              0.2222222222222222,
              "#7201a8"
             ],
             [
              0.3333333333333333,
              "#9c179e"
             ],
             [
              0.4444444444444444,
              "#bd3786"
             ],
             [
              0.5555555555555556,
              "#d8576b"
             ],
             [
              0.6666666666666666,
              "#ed7953"
             ],
             [
              0.7777777777777778,
              "#fb9f3a"
             ],
             [
              0.8888888888888888,
              "#fdca26"
             ],
             [
              1,
              "#f0f921"
             ]
            ],
            "type": "contour"
           }
          ],
          "contourcarpet": [
           {
            "colorbar": {
             "outlinewidth": 0,
             "ticks": ""
            },
            "type": "contourcarpet"
           }
          ],
          "heatmap": [
           {
            "colorbar": {
             "outlinewidth": 0,
             "ticks": ""
            },
            "colorscale": [
             [
              0,
              "#0d0887"
             ],
             [
              0.1111111111111111,
              "#46039f"
             ],
             [
              0.2222222222222222,
              "#7201a8"
             ],
             [
              0.3333333333333333,
              "#9c179e"
             ],
             [
              0.4444444444444444,
              "#bd3786"
             ],
             [
              0.5555555555555556,
              "#d8576b"
             ],
             [
              0.6666666666666666,
              "#ed7953"
             ],
             [
              0.7777777777777778,
              "#fb9f3a"
             ],
             [
              0.8888888888888888,
              "#fdca26"
             ],
             [
              1,
              "#f0f921"
             ]
            ],
            "type": "heatmap"
           }
          ],
          "heatmapgl": [
           {
            "colorbar": {
             "outlinewidth": 0,
             "ticks": ""
            },
            "colorscale": [
             [
              0,
              "#0d0887"
             ],
             [
              0.1111111111111111,
              "#46039f"
             ],
             [
              0.2222222222222222,
              "#7201a8"
             ],
             [
              0.3333333333333333,
              "#9c179e"
             ],
             [
              0.4444444444444444,
              "#bd3786"
             ],
             [
              0.5555555555555556,
              "#d8576b"
             ],
             [
              0.6666666666666666,
              "#ed7953"
             ],
             [
              0.7777777777777778,
              "#fb9f3a"
             ],
             [
              0.8888888888888888,
              "#fdca26"
             ],
             [
              1,
              "#f0f921"
             ]
            ],
            "type": "heatmapgl"
           }
          ],
          "histogram": [
           {
            "marker": {
             "pattern": {
              "fillmode": "overlay",
              "size": 10,
              "solidity": 0.2
             }
            },
            "type": "histogram"
           }
          ],
          "histogram2d": [
           {
            "colorbar": {
             "outlinewidth": 0,
             "ticks": ""
            },
            "colorscale": [
             [
              0,
              "#0d0887"
             ],
             [
              0.1111111111111111,
              "#46039f"
             ],
             [
              0.2222222222222222,
              "#7201a8"
             ],
             [
              0.3333333333333333,
              "#9c179e"
             ],
             [
              0.4444444444444444,
              "#bd3786"
             ],
             [
              0.5555555555555556,
              "#d8576b"
             ],
             [
              0.6666666666666666,
              "#ed7953"
             ],
             [
              0.7777777777777778,
              "#fb9f3a"
             ],
             [
              0.8888888888888888,
              "#fdca26"
             ],
             [
              1,
              "#f0f921"
             ]
            ],
            "type": "histogram2d"
           }
          ],
          "histogram2dcontour": [
           {
            "colorbar": {
             "outlinewidth": 0,
             "ticks": ""
            },
            "colorscale": [
             [
              0,
              "#0d0887"
             ],
             [
              0.1111111111111111,
              "#46039f"
             ],
             [
              0.2222222222222222,
              "#7201a8"
             ],
             [
              0.3333333333333333,
              "#9c179e"
             ],
             [
              0.4444444444444444,
              "#bd3786"
             ],
             [
              0.5555555555555556,
              "#d8576b"
             ],
             [
              0.6666666666666666,
              "#ed7953"
             ],
             [
              0.7777777777777778,
              "#fb9f3a"
             ],
             [
              0.8888888888888888,
              "#fdca26"
             ],
             [
              1,
              "#f0f921"
             ]
            ],
            "type": "histogram2dcontour"
           }
          ],
          "mesh3d": [
           {
            "colorbar": {
             "outlinewidth": 0,
             "ticks": ""
            },
            "type": "mesh3d"
           }
          ],
          "parcoords": [
           {
            "line": {
             "colorbar": {
              "outlinewidth": 0,
              "ticks": ""
             }
            },
            "type": "parcoords"
           }
          ],
          "pie": [
           {
            "automargin": true,
            "type": "pie"
           }
          ],
          "scatter": [
           {
            "fillpattern": {
             "fillmode": "overlay",
             "size": 10,
             "solidity": 0.2
            },
            "type": "scatter"
           }
          ],
          "scatter3d": [
           {
            "line": {
             "colorbar": {
              "outlinewidth": 0,
              "ticks": ""
             }
            },
            "marker": {
             "colorbar": {
              "outlinewidth": 0,
              "ticks": ""
             }
            },
            "type": "scatter3d"
           }
          ],
          "scattercarpet": [
           {
            "marker": {
             "colorbar": {
              "outlinewidth": 0,
              "ticks": ""
             }
            },
            "type": "scattercarpet"
           }
          ],
          "scattergeo": [
           {
            "marker": {
             "colorbar": {
              "outlinewidth": 0,
              "ticks": ""
             }
            },
            "type": "scattergeo"
           }
          ],
          "scattergl": [
           {
            "marker": {
             "colorbar": {
              "outlinewidth": 0,
              "ticks": ""
             }
            },
            "type": "scattergl"
           }
          ],
          "scattermapbox": [
           {
            "marker": {
             "colorbar": {
              "outlinewidth": 0,
              "ticks": ""
             }
            },
            "type": "scattermapbox"
           }
          ],
          "scatterpolar": [
           {
            "marker": {
             "colorbar": {
              "outlinewidth": 0,
              "ticks": ""
             }
            },
            "type": "scatterpolar"
           }
          ],
          "scatterpolargl": [
           {
            "marker": {
             "colorbar": {
              "outlinewidth": 0,
              "ticks": ""
             }
            },
            "type": "scatterpolargl"
           }
          ],
          "scatterternary": [
           {
            "marker": {
             "colorbar": {
              "outlinewidth": 0,
              "ticks": ""
             }
            },
            "type": "scatterternary"
           }
          ],
          "surface": [
           {
            "colorbar": {
             "outlinewidth": 0,
             "ticks": ""
            },
            "colorscale": [
             [
              0,
              "#0d0887"
             ],
             [
              0.1111111111111111,
              "#46039f"
             ],
             [
              0.2222222222222222,
              "#7201a8"
             ],
             [
              0.3333333333333333,
              "#9c179e"
             ],
             [
              0.4444444444444444,
              "#bd3786"
             ],
             [
              0.5555555555555556,
              "#d8576b"
             ],
             [
              0.6666666666666666,
              "#ed7953"
             ],
             [
              0.7777777777777778,
              "#fb9f3a"
             ],
             [
              0.8888888888888888,
              "#fdca26"
             ],
             [
              1,
              "#f0f921"
             ]
            ],
            "type": "surface"
           }
          ],
          "table": [
           {
            "cells": {
             "fill": {
              "color": "#EBF0F8"
             },
             "line": {
              "color": "white"
             }
            },
            "header": {
             "fill": {
              "color": "#C8D4E3"
             },
             "line": {
              "color": "white"
             }
            },
            "type": "table"
           }
          ]
         },
         "layout": {
          "annotationdefaults": {
           "arrowcolor": "#2a3f5f",
           "arrowhead": 0,
           "arrowwidth": 1
          },
          "autotypenumbers": "strict",
          "coloraxis": {
           "colorbar": {
            "outlinewidth": 0,
            "ticks": ""
           }
          },
          "colorscale": {
           "diverging": [
            [
             0,
             "#8e0152"
            ],
            [
             0.1,
             "#c51b7d"
            ],
            [
             0.2,
             "#de77ae"
            ],
            [
             0.3,
             "#f1b6da"
            ],
            [
             0.4,
             "#fde0ef"
            ],
            [
             0.5,
             "#f7f7f7"
            ],
            [
             0.6,
             "#e6f5d0"
            ],
            [
             0.7,
             "#b8e186"
            ],
            [
             0.8,
             "#7fbc41"
            ],
            [
             0.9,
             "#4d9221"
            ],
            [
             1,
             "#276419"
            ]
           ],
           "sequential": [
            [
             0,
             "#0d0887"
            ],
            [
             0.1111111111111111,
             "#46039f"
            ],
            [
             0.2222222222222222,
             "#7201a8"
            ],
            [
             0.3333333333333333,
             "#9c179e"
            ],
            [
             0.4444444444444444,
             "#bd3786"
            ],
            [
             0.5555555555555556,
             "#d8576b"
            ],
            [
             0.6666666666666666,
             "#ed7953"
            ],
            [
             0.7777777777777778,
             "#fb9f3a"
            ],
            [
             0.8888888888888888,
             "#fdca26"
            ],
            [
             1,
             "#f0f921"
            ]
           ],
           "sequentialminus": [
            [
             0,
             "#0d0887"
            ],
            [
             0.1111111111111111,
             "#46039f"
            ],
            [
             0.2222222222222222,
             "#7201a8"
            ],
            [
             0.3333333333333333,
             "#9c179e"
            ],
            [
             0.4444444444444444,
             "#bd3786"
            ],
            [
             0.5555555555555556,
             "#d8576b"
            ],
            [
             0.6666666666666666,
             "#ed7953"
            ],
            [
             0.7777777777777778,
             "#fb9f3a"
            ],
            [
             0.8888888888888888,
             "#fdca26"
            ],
            [
             1,
             "#f0f921"
            ]
           ]
          },
          "colorway": [
           "#636efa",
           "#EF553B",
           "#00cc96",
           "#ab63fa",
           "#FFA15A",
           "#19d3f3",
           "#FF6692",
           "#B6E880",
           "#FF97FF",
           "#FECB52"
          ],
          "font": {
           "color": "#2a3f5f"
          },
          "geo": {
           "bgcolor": "white",
           "lakecolor": "white",
           "landcolor": "#E5ECF6",
           "showlakes": true,
           "showland": true,
           "subunitcolor": "white"
          },
          "hoverlabel": {
           "align": "left"
          },
          "hovermode": "closest",
          "mapbox": {
           "style": "light"
          },
          "paper_bgcolor": "white",
          "plot_bgcolor": "#E5ECF6",
          "polar": {
           "angularaxis": {
            "gridcolor": "white",
            "linecolor": "white",
            "ticks": ""
           },
           "bgcolor": "#E5ECF6",
           "radialaxis": {
            "gridcolor": "white",
            "linecolor": "white",
            "ticks": ""
           }
          },
          "scene": {
           "xaxis": {
            "backgroundcolor": "#E5ECF6",
            "gridcolor": "white",
            "gridwidth": 2,
            "linecolor": "white",
            "showbackground": true,
            "ticks": "",
            "zerolinecolor": "white"
           },
           "yaxis": {
            "backgroundcolor": "#E5ECF6",
            "gridcolor": "white",
            "gridwidth": 2,
            "linecolor": "white",
            "showbackground": true,
            "ticks": "",
            "zerolinecolor": "white"
           },
           "zaxis": {
            "backgroundcolor": "#E5ECF6",
            "gridcolor": "white",
            "gridwidth": 2,
            "linecolor": "white",
            "showbackground": true,
            "ticks": "",
            "zerolinecolor": "white"
           }
          },
          "shapedefaults": {
           "line": {
            "color": "#2a3f5f"
           }
          },
          "ternary": {
           "aaxis": {
            "gridcolor": "white",
            "linecolor": "white",
            "ticks": ""
           },
           "baxis": {
            "gridcolor": "white",
            "linecolor": "white",
            "ticks": ""
           },
           "bgcolor": "#E5ECF6",
           "caxis": {
            "gridcolor": "white",
            "linecolor": "white",
            "ticks": ""
           }
          },
          "title": {
           "x": 0.05
          },
          "xaxis": {
           "automargin": true,
           "gridcolor": "white",
           "linecolor": "white",
           "ticks": "",
           "title": {
            "standoff": 15
           },
           "zerolinecolor": "white",
           "zerolinewidth": 2
          },
          "yaxis": {
           "automargin": true,
           "gridcolor": "white",
           "linecolor": "white",
           "ticks": "",
           "title": {
            "standoff": 15
           },
           "zerolinecolor": "white",
           "zerolinewidth": 2
          }
         }
        },
        "title": {
         "text": "Evolution of argentinian players in top 100"
        },
        "xaxis": {
         "title": {
          "text": "Date"
         }
        },
        "yaxis": {
         "title": {
          "text": "Players"
         }
        }
       }
      }
     },
     "metadata": {},
     "output_type": "display_data"
    }
   ],
   "source": [
    "import plotly.graph_objects as go\n",
    "\n",
    "# Convertir columna de fechas a formato de fecha\n",
    "atp_data['Date'] = pd.to_datetime(atp_data['Date'])\n",
    "\n",
    "# Filtrar solo los jugadores argentinos\n",
    "Argentina_data = atp_data[atp_data['Country'] == 'ARG']\n",
    "\n",
    "# Contar el número de jugadores argentinos en el top 100 en cada fecha\n",
    "num_argentinian_players = Argentina_data.groupby('Date')['Ranking'].count()\n",
    "\n",
    "# Crear un objeto de figura de Plotly\n",
    "fig = go.Figure()\n",
    "\n",
    "# Agregar una línea para el número de jugadores argentinos en el top 100\n",
    "fig.add_trace(\n",
    "    go.Scatter(\n",
    "        x=num_argentinian_players.index,\n",
    "        y=num_argentinian_players.values,\n",
    "        mode='lines',\n",
    "        name='Argentinian Players'\n",
    "    )\n",
    ")\n",
    "\n",
    "# Agregar etiquetas para el eje x e y\n",
    "fig.update_layout(\n",
    "    title='Evolution of argentinian players in top 100',\n",
    "    xaxis_title='Date',\n",
    "    yaxis_title='Players',\n",
    ")\n",
    "\n",
    "# Habilitar la visualización de los nombres de los jugadores al colocar el mouse encima de la línea\n",
    "fig.update_traces(hovertemplate='Number of Players: %{y}<br>Date: %{x}<br>')\n",
    "\n",
    "# Mostrar el gráfico interactivo\n",
    "fig.show()\n"
   ]
  },
  {
   "cell_type": "code",
   "execution_count": 78,
   "metadata": {},
   "outputs": [
    {
     "data": {
      "application/vnd.plotly.v1+json": {
       "config": {
        "plotlyServerURL": "https://plot.ly"
       },
       "data": [
        {
         "name": "Argentinian Players",
         "type": "bar",
         "x": [
          1990,
          1991,
          1992,
          1993,
          1994,
          1995,
          1996,
          1997,
          1998,
          1999,
          2000,
          2001,
          2002,
          2003,
          2004,
          2005,
          2006,
          2007,
          2008,
          2009,
          2010,
          2011,
          2012,
          2013,
          2014,
          2015,
          2016,
          2017,
          2018,
          2019
         ],
         "y": [
          7,
          9,
          9,
          7,
          5,
          4,
          2,
          4,
          7,
          7,
          9,
          10,
          9,
          10,
          10,
          12,
          13,
          15,
          16,
          15,
          12,
          11,
          8,
          9,
          9,
          8,
          10,
          11,
          8,
          7
         ]
        }
       ],
       "layout": {
        "template": {
         "data": {
          "bar": [
           {
            "error_x": {
             "color": "#2a3f5f"
            },
            "error_y": {
             "color": "#2a3f5f"
            },
            "marker": {
             "line": {
              "color": "#E5ECF6",
              "width": 0.5
             },
             "pattern": {
              "fillmode": "overlay",
              "size": 10,
              "solidity": 0.2
             }
            },
            "type": "bar"
           }
          ],
          "barpolar": [
           {
            "marker": {
             "line": {
              "color": "#E5ECF6",
              "width": 0.5
             },
             "pattern": {
              "fillmode": "overlay",
              "size": 10,
              "solidity": 0.2
             }
            },
            "type": "barpolar"
           }
          ],
          "carpet": [
           {
            "aaxis": {
             "endlinecolor": "#2a3f5f",
             "gridcolor": "white",
             "linecolor": "white",
             "minorgridcolor": "white",
             "startlinecolor": "#2a3f5f"
            },
            "baxis": {
             "endlinecolor": "#2a3f5f",
             "gridcolor": "white",
             "linecolor": "white",
             "minorgridcolor": "white",
             "startlinecolor": "#2a3f5f"
            },
            "type": "carpet"
           }
          ],
          "choropleth": [
           {
            "colorbar": {
             "outlinewidth": 0,
             "ticks": ""
            },
            "type": "choropleth"
           }
          ],
          "contour": [
           {
            "colorbar": {
             "outlinewidth": 0,
             "ticks": ""
            },
            "colorscale": [
             [
              0,
              "#0d0887"
             ],
             [
              0.1111111111111111,
              "#46039f"
             ],
             [
              0.2222222222222222,
              "#7201a8"
             ],
             [
              0.3333333333333333,
              "#9c179e"
             ],
             [
              0.4444444444444444,
              "#bd3786"
             ],
             [
              0.5555555555555556,
              "#d8576b"
             ],
             [
              0.6666666666666666,
              "#ed7953"
             ],
             [
              0.7777777777777778,
              "#fb9f3a"
             ],
             [
              0.8888888888888888,
              "#fdca26"
             ],
             [
              1,
              "#f0f921"
             ]
            ],
            "type": "contour"
           }
          ],
          "contourcarpet": [
           {
            "colorbar": {
             "outlinewidth": 0,
             "ticks": ""
            },
            "type": "contourcarpet"
           }
          ],
          "heatmap": [
           {
            "colorbar": {
             "outlinewidth": 0,
             "ticks": ""
            },
            "colorscale": [
             [
              0,
              "#0d0887"
             ],
             [
              0.1111111111111111,
              "#46039f"
             ],
             [
              0.2222222222222222,
              "#7201a8"
             ],
             [
              0.3333333333333333,
              "#9c179e"
             ],
             [
              0.4444444444444444,
              "#bd3786"
             ],
             [
              0.5555555555555556,
              "#d8576b"
             ],
             [
              0.6666666666666666,
              "#ed7953"
             ],
             [
              0.7777777777777778,
              "#fb9f3a"
             ],
             [
              0.8888888888888888,
              "#fdca26"
             ],
             [
              1,
              "#f0f921"
             ]
            ],
            "type": "heatmap"
           }
          ],
          "heatmapgl": [
           {
            "colorbar": {
             "outlinewidth": 0,
             "ticks": ""
            },
            "colorscale": [
             [
              0,
              "#0d0887"
             ],
             [
              0.1111111111111111,
              "#46039f"
             ],
             [
              0.2222222222222222,
              "#7201a8"
             ],
             [
              0.3333333333333333,
              "#9c179e"
             ],
             [
              0.4444444444444444,
              "#bd3786"
             ],
             [
              0.5555555555555556,
              "#d8576b"
             ],
             [
              0.6666666666666666,
              "#ed7953"
             ],
             [
              0.7777777777777778,
              "#fb9f3a"
             ],
             [
              0.8888888888888888,
              "#fdca26"
             ],
             [
              1,
              "#f0f921"
             ]
            ],
            "type": "heatmapgl"
           }
          ],
          "histogram": [
           {
            "marker": {
             "pattern": {
              "fillmode": "overlay",
              "size": 10,
              "solidity": 0.2
             }
            },
            "type": "histogram"
           }
          ],
          "histogram2d": [
           {
            "colorbar": {
             "outlinewidth": 0,
             "ticks": ""
            },
            "colorscale": [
             [
              0,
              "#0d0887"
             ],
             [
              0.1111111111111111,
              "#46039f"
             ],
             [
              0.2222222222222222,
              "#7201a8"
             ],
             [
              0.3333333333333333,
              "#9c179e"
             ],
             [
              0.4444444444444444,
              "#bd3786"
             ],
             [
              0.5555555555555556,
              "#d8576b"
             ],
             [
              0.6666666666666666,
              "#ed7953"
             ],
             [
              0.7777777777777778,
              "#fb9f3a"
             ],
             [
              0.8888888888888888,
              "#fdca26"
             ],
             [
              1,
              "#f0f921"
             ]
            ],
            "type": "histogram2d"
           }
          ],
          "histogram2dcontour": [
           {
            "colorbar": {
             "outlinewidth": 0,
             "ticks": ""
            },
            "colorscale": [
             [
              0,
              "#0d0887"
             ],
             [
              0.1111111111111111,
              "#46039f"
             ],
             [
              0.2222222222222222,
              "#7201a8"
             ],
             [
              0.3333333333333333,
              "#9c179e"
             ],
             [
              0.4444444444444444,
              "#bd3786"
             ],
             [
              0.5555555555555556,
              "#d8576b"
             ],
             [
              0.6666666666666666,
              "#ed7953"
             ],
             [
              0.7777777777777778,
              "#fb9f3a"
             ],
             [
              0.8888888888888888,
              "#fdca26"
             ],
             [
              1,
              "#f0f921"
             ]
            ],
            "type": "histogram2dcontour"
           }
          ],
          "mesh3d": [
           {
            "colorbar": {
             "outlinewidth": 0,
             "ticks": ""
            },
            "type": "mesh3d"
           }
          ],
          "parcoords": [
           {
            "line": {
             "colorbar": {
              "outlinewidth": 0,
              "ticks": ""
             }
            },
            "type": "parcoords"
           }
          ],
          "pie": [
           {
            "automargin": true,
            "type": "pie"
           }
          ],
          "scatter": [
           {
            "fillpattern": {
             "fillmode": "overlay",
             "size": 10,
             "solidity": 0.2
            },
            "type": "scatter"
           }
          ],
          "scatter3d": [
           {
            "line": {
             "colorbar": {
              "outlinewidth": 0,
              "ticks": ""
             }
            },
            "marker": {
             "colorbar": {
              "outlinewidth": 0,
              "ticks": ""
             }
            },
            "type": "scatter3d"
           }
          ],
          "scattercarpet": [
           {
            "marker": {
             "colorbar": {
              "outlinewidth": 0,
              "ticks": ""
             }
            },
            "type": "scattercarpet"
           }
          ],
          "scattergeo": [
           {
            "marker": {
             "colorbar": {
              "outlinewidth": 0,
              "ticks": ""
             }
            },
            "type": "scattergeo"
           }
          ],
          "scattergl": [
           {
            "marker": {
             "colorbar": {
              "outlinewidth": 0,
              "ticks": ""
             }
            },
            "type": "scattergl"
           }
          ],
          "scattermapbox": [
           {
            "marker": {
             "colorbar": {
              "outlinewidth": 0,
              "ticks": ""
             }
            },
            "type": "scattermapbox"
           }
          ],
          "scatterpolar": [
           {
            "marker": {
             "colorbar": {
              "outlinewidth": 0,
              "ticks": ""
             }
            },
            "type": "scatterpolar"
           }
          ],
          "scatterpolargl": [
           {
            "marker": {
             "colorbar": {
              "outlinewidth": 0,
              "ticks": ""
             }
            },
            "type": "scatterpolargl"
           }
          ],
          "scatterternary": [
           {
            "marker": {
             "colorbar": {
              "outlinewidth": 0,
              "ticks": ""
             }
            },
            "type": "scatterternary"
           }
          ],
          "surface": [
           {
            "colorbar": {
             "outlinewidth": 0,
             "ticks": ""
            },
            "colorscale": [
             [
              0,
              "#0d0887"
             ],
             [
              0.1111111111111111,
              "#46039f"
             ],
             [
              0.2222222222222222,
              "#7201a8"
             ],
             [
              0.3333333333333333,
              "#9c179e"
             ],
             [
              0.4444444444444444,
              "#bd3786"
             ],
             [
              0.5555555555555556,
              "#d8576b"
             ],
             [
              0.6666666666666666,
              "#ed7953"
             ],
             [
              0.7777777777777778,
              "#fb9f3a"
             ],
             [
              0.8888888888888888,
              "#fdca26"
             ],
             [
              1,
              "#f0f921"
             ]
            ],
            "type": "surface"
           }
          ],
          "table": [
           {
            "cells": {
             "fill": {
              "color": "#EBF0F8"
             },
             "line": {
              "color": "white"
             }
            },
            "header": {
             "fill": {
              "color": "#C8D4E3"
             },
             "line": {
              "color": "white"
             }
            },
            "type": "table"
           }
          ]
         },
         "layout": {
          "annotationdefaults": {
           "arrowcolor": "#2a3f5f",
           "arrowhead": 0,
           "arrowwidth": 1
          },
          "autotypenumbers": "strict",
          "coloraxis": {
           "colorbar": {
            "outlinewidth": 0,
            "ticks": ""
           }
          },
          "colorscale": {
           "diverging": [
            [
             0,
             "#8e0152"
            ],
            [
             0.1,
             "#c51b7d"
            ],
            [
             0.2,
             "#de77ae"
            ],
            [
             0.3,
             "#f1b6da"
            ],
            [
             0.4,
             "#fde0ef"
            ],
            [
             0.5,
             "#f7f7f7"
            ],
            [
             0.6,
             "#e6f5d0"
            ],
            [
             0.7,
             "#b8e186"
            ],
            [
             0.8,
             "#7fbc41"
            ],
            [
             0.9,
             "#4d9221"
            ],
            [
             1,
             "#276419"
            ]
           ],
           "sequential": [
            [
             0,
             "#0d0887"
            ],
            [
             0.1111111111111111,
             "#46039f"
            ],
            [
             0.2222222222222222,
             "#7201a8"
            ],
            [
             0.3333333333333333,
             "#9c179e"
            ],
            [
             0.4444444444444444,
             "#bd3786"
            ],
            [
             0.5555555555555556,
             "#d8576b"
            ],
            [
             0.6666666666666666,
             "#ed7953"
            ],
            [
             0.7777777777777778,
             "#fb9f3a"
            ],
            [
             0.8888888888888888,
             "#fdca26"
            ],
            [
             1,
             "#f0f921"
            ]
           ],
           "sequentialminus": [
            [
             0,
             "#0d0887"
            ],
            [
             0.1111111111111111,
             "#46039f"
            ],
            [
             0.2222222222222222,
             "#7201a8"
            ],
            [
             0.3333333333333333,
             "#9c179e"
            ],
            [
             0.4444444444444444,
             "#bd3786"
            ],
            [
             0.5555555555555556,
             "#d8576b"
            ],
            [
             0.6666666666666666,
             "#ed7953"
            ],
            [
             0.7777777777777778,
             "#fb9f3a"
            ],
            [
             0.8888888888888888,
             "#fdca26"
            ],
            [
             1,
             "#f0f921"
            ]
           ]
          },
          "colorway": [
           "#636efa",
           "#EF553B",
           "#00cc96",
           "#ab63fa",
           "#FFA15A",
           "#19d3f3",
           "#FF6692",
           "#B6E880",
           "#FF97FF",
           "#FECB52"
          ],
          "font": {
           "color": "#2a3f5f"
          },
          "geo": {
           "bgcolor": "white",
           "lakecolor": "white",
           "landcolor": "#E5ECF6",
           "showlakes": true,
           "showland": true,
           "subunitcolor": "white"
          },
          "hoverlabel": {
           "align": "left"
          },
          "hovermode": "closest",
          "mapbox": {
           "style": "light"
          },
          "paper_bgcolor": "white",
          "plot_bgcolor": "#E5ECF6",
          "polar": {
           "angularaxis": {
            "gridcolor": "white",
            "linecolor": "white",
            "ticks": ""
           },
           "bgcolor": "#E5ECF6",
           "radialaxis": {
            "gridcolor": "white",
            "linecolor": "white",
            "ticks": ""
           }
          },
          "scene": {
           "xaxis": {
            "backgroundcolor": "#E5ECF6",
            "gridcolor": "white",
            "gridwidth": 2,
            "linecolor": "white",
            "showbackground": true,
            "ticks": "",
            "zerolinecolor": "white"
           },
           "yaxis": {
            "backgroundcolor": "#E5ECF6",
            "gridcolor": "white",
            "gridwidth": 2,
            "linecolor": "white",
            "showbackground": true,
            "ticks": "",
            "zerolinecolor": "white"
           },
           "zaxis": {
            "backgroundcolor": "#E5ECF6",
            "gridcolor": "white",
            "gridwidth": 2,
            "linecolor": "white",
            "showbackground": true,
            "ticks": "",
            "zerolinecolor": "white"
           }
          },
          "shapedefaults": {
           "line": {
            "color": "#2a3f5f"
           }
          },
          "ternary": {
           "aaxis": {
            "gridcolor": "white",
            "linecolor": "white",
            "ticks": ""
           },
           "baxis": {
            "gridcolor": "white",
            "linecolor": "white",
            "ticks": ""
           },
           "bgcolor": "#E5ECF6",
           "caxis": {
            "gridcolor": "white",
            "linecolor": "white",
            "ticks": ""
           }
          },
          "title": {
           "x": 0.05
          },
          "xaxis": {
           "automargin": true,
           "gridcolor": "white",
           "linecolor": "white",
           "ticks": "",
           "title": {
            "standoff": 15
           },
           "zerolinecolor": "white",
           "zerolinewidth": 2
          },
          "yaxis": {
           "automargin": true,
           "gridcolor": "white",
           "linecolor": "white",
           "ticks": "",
           "title": {
            "standoff": 15
           },
           "zerolinecolor": "white",
           "zerolinewidth": 2
          }
         }
        },
        "title": {
         "text": "Number of Argentinian players in top 100 by year"
        },
        "xaxis": {
         "title": {
          "text": "Year"
         }
        },
        "yaxis": {
         "title": {
          "text": "Number of players"
         }
        }
       }
      }
     },
     "metadata": {},
     "output_type": "display_data"
    }
   ],
   "source": [
    "# Convertir columna de fechas a formato de fecha y extraer el año\n",
    "atp_data['Date'] = pd.to_datetime(atp_data['Date'])\n",
    "atp_data['Year'] = atp_data['Date'].dt.year\n",
    "\n",
    "# Filtrar solo los jugadores argentinos\n",
    "Argentina_data = atp_data[atp_data['Country'] == 'ARG']\n",
    "\n",
    "# Contar el número de jugadores argentinos en el top 100 en cada año\n",
    "num_argentinian_players = Argentina_data.groupby('Year')['Player'].nunique()\n",
    "\n",
    "# Crear un objeto de figura de Plotly para el gráfico de barras\n",
    "fig = go.Figure()\n",
    "\n",
    "# Agregar una barra para el número de jugadores argentinos en el top 100 en cada año\n",
    "fig.add_trace(\n",
    "    go.Bar(\n",
    "        x=num_argentinian_players.index,\n",
    "        y=num_argentinian_players.values,\n",
    "        name='Argentinian Players'\n",
    "    )\n",
    ")\n",
    "\n",
    "# Agregar etiquetas para el eje x e y\n",
    "fig.update_layout(\n",
    "    title='Number of Argentinian players in top 100 by year',\n",
    "    xaxis_title='Year',\n",
    "    yaxis_title='Number of players',\n",
    ")\n",
    "\n",
    "# Mostrar el gráfico interactivo\n",
    "fig.show()\n"
   ]
  },
  {
   "cell_type": "code",
   "execution_count": 83,
   "metadata": {},
   "outputs": [
    {
     "name": "stderr",
     "output_type": "stream",
     "text": [
      "C:\\Users\\rodri\\AppData\\Local\\Temp\\ipykernel_3600\\1998174349.py:5: SettingWithCopyWarning:\n",
      "\n",
      "\n",
      "A value is trying to be set on a copy of a slice from a DataFrame.\n",
      "Try using .loc[row_indexer,col_indexer] = value instead\n",
      "\n",
      "See the caveats in the documentation: https://pandas.pydata.org/pandas-docs/stable/user_guide/indexing.html#returning-a-view-versus-a-copy\n",
      "\n"
     ]
    },
    {
     "data": {
      "application/vnd.plotly.v1+json": {
       "config": {
        "plotlyServerURL": "https://plot.ly"
       },
       "data": [
        {
         "cells": {
          "values": [
           [
            1990,
            1991,
            1992,
            1993,
            1994,
            1995,
            1996,
            1997,
            1998,
            1999,
            2000,
            2001,
            2002,
            2003,
            2004,
            2005,
            2006,
            2007,
            2008,
            2009,
            2010,
            2011,
            2012,
            2013,
            2014,
            2015,
            2016,
            2017,
            2018,
            2019
           ],
           [
            "Alberto Mancini, Martin Jaite, Guillermo Perez-Roldan, Franco Davin, Eduardo Bengoechea, Roberto Azar, Horacio De La Pena",
            "Guillermo Perez-Roldan, Franco Davin, Martin Jaite, Horacio De La Pena, Alberto Mancini, Javier Frana, Roberto Azar, Gabriel Markus, Christian Miniussi",
            "Alberto Mancini, Guillermo Perez-Roldan, Martin Jaite, Gabriel Markus, Javier Frana, Christian Miniussi, Roberto Azar, Horacio De La Pena, Franco Davin",
            "Alberto Mancini, Franco Davin, Guillermo Perez-Roldan, Gabriel Markus, Roberto Azar, Javier Frana, Horacio De La Pena",
            "Javier Frana, Horacio De La Pena, Guillermo Perez-Roldan, Franco Davin, Gabriel Markus",
            "Franco Davin, Gabriel Markus, Javier Frana, Hernan Gumy",
            "Javier Frana, Hernan Gumy",
            "Hernan Gumy, Javier Frana, Mariano Zabaleta, Franco Squillari",
            "Hernan Gumy, Franco Squillari, Lucas Arnold Ker, Guillermo Canas, Mariano Puerta, Mariano Zabaleta, Martin Rodriguez",
            "Mariano Puerta, Franco Squillari, Mariano Zabaleta, Guillermo Canas, Martin Rodriguez, Hernan Gumy, Gaston Gaudio",
            "Mariano Zabaleta, Franco Squillari, Hernan Gumy, Gaston Gaudio, Guillermo Canas, Juan Ignacio Chela, Mariano Puerta, Agustin Calleri, Guillermo Coria",
            "Franco Squillari, Mariano Puerta, Gaston Gaudio, Mariano Zabaleta, Agustin Calleri, Juan Ignacio Chela, Guillermo Coria, Guillermo Canas, Jose Acasuso, David Nalbandian",
            "Guillermo Canas, David Nalbandian, Gaston Gaudio, Guillermo Coria, Franco Squillari, Mariano Zabaleta, Agustin Calleri, Juan Ignacio Chela, Jose Acasuso",
            "David Nalbandian, Guillermo Canas, Gaston Gaudio, Juan Ignacio Chela, Jose Acasuso, Guillermo Coria, Mariano Zabaleta, Agustin Calleri, Franco Squillari, Mariano Puerta",
            "Guillermo Coria, David Nalbandian, Agustin Calleri, Mariano Zabaleta, Gaston Gaudio, Juan Ignacio Chela, Jose Acasuso, Guillermo Canas, Martin Vassallo Arguello, Juan Monaco",
            "Guillermo Coria, David Nalbandian, Gaston Gaudio, Guillermo Canas, Juan Ignacio Chela, Mariano Zabaleta, Agustin Calleri, Jose Acasuso, Juan Monaco, Mariano Puerta, Edgardo Massa, Carlos Berlocq",
            "David Nalbandian, Guillermo Coria, Gaston Gaudio, Juan Ignacio Chela, Jose Acasuso, Agustin Calleri, Mariano Puerta, Carlos Berlocq, Mariano Zabaleta, Juan Monaco, Sergio Roitman, Martin Vassallo Arguello, Juan Martin del Potro",
            "David Nalbandian, Jose Acasuso, Agustin Calleri, Juan Ignacio Chela, Gaston Gaudio, Juan Monaco, Sergio Roitman, Martin Vassallo Arguello, Juan Martin del Potro, Guillermo Canas, Diego Hartfield, Carlos Berlocq, Mariano Zabaleta, Juan-Pablo Guzman, Juan Pablo Brzezicki",
            "David Nalbandian, Guillermo Canas, Juan Ignacio Chela, Juan Monaco, Agustin Calleri, Juan Martin del Potro, Jose Acasuso, Sergio Roitman, Carlos Berlocq, Martin Vassallo Arguello, Juan Pablo Brzezicki, Diego Hartfield, Eduardo Schwank, Maximo Gonzalez, Brian Dabul, Diego Junqueira",
            "Juan Martin del Potro, David Nalbandian, Juan Monaco, Jose Acasuso, Eduardo Schwank, Agustin Calleri, Martin Vassallo Arguello, Diego Junqueira, Guillermo Canas, Brian Dabul, Maximo Gonzalez, Leonardo Mayer, Sergio Roitman, Horacio Zeballos, Juan Ignacio Chela",
            "Juan Martin del Potro, Juan Monaco, Horacio Zeballos, Jose Acasuso, David Nalbandian, Maximo Gonzalez, Juan Ignacio Chela, Leonardo Mayer, Martin Vassallo Arguello, Eduardo Schwank, Brian Dabul, Carlos Berlocq",
            "Juan Monaco, David Nalbandian, Juan Ignacio Chela, Carlos Berlocq, Eduardo Schwank, Brian Dabul, Leonardo Mayer, Horacio Zeballos, Juan Martin del Potro, Maximo Gonzalez, Diego Junqueira",
            "Juan Martin del Potro, Juan Monaco, Juan Ignacio Chela, Carlos Berlocq, David Nalbandian, Leonardo Mayer, Horacio Zeballos, Guido Pella",
            "Juan Martin del Potro, Juan Monaco, Horacio Zeballos, Carlos Berlocq, Leonardo Mayer, David Nalbandian, Guido Pella, Martin Alund, Federico Delbonis",
            "Juan Martin del Potro, Carlos Berlocq, Juan Monaco, Federico Delbonis, Horacio Zeballos, Leonardo Mayer, Diego Schwartzman, Maximo Gonzalez, Facundo Bagnis",
            "Leonardo Mayer, Federico Delbonis, Diego Schwartzman, Juan Monaco, Carlos Berlocq, Maximo Gonzalez, Facundo Bagnis, Guido Pella",
            "Leonardo Mayer, Federico Delbonis, Juan Monaco, Guido Pella, Diego Schwartzman, Facundo Bagnis, Horacio Zeballos, Carlos Berlocq, Juan Martin del Potro, Renzo Olivo",
            "Juan Martin del Potro, Federico Delbonis, Diego Schwartzman, Facundo Bagnis, Juan Monaco, Horacio Zeballos, Guido Pella, Renzo Olivo, Carlos Berlocq, Nicolas Kicker, Leonardo Mayer",
            "Juan Martin del Potro, Diego Schwartzman, Leonardo Mayer, Guido Pella, Horacio Zeballos, Federico Delbonis, Nicolas Kicker, Guido Andreozzi",
            "Juan Martin del Potro, Diego Schwartzman, Leonardo Mayer, Guido Pella, Federico Delbonis, Guido Andreozzi, Juan Ignacio Londero"
           ]
          ]
         },
         "header": {
          "values": [
           "Year",
           "Argentinian Players"
          ]
         },
         "type": "table"
        }
       ],
       "layout": {
        "template": {
         "data": {
          "bar": [
           {
            "error_x": {
             "color": "#2a3f5f"
            },
            "error_y": {
             "color": "#2a3f5f"
            },
            "marker": {
             "line": {
              "color": "#E5ECF6",
              "width": 0.5
             },
             "pattern": {
              "fillmode": "overlay",
              "size": 10,
              "solidity": 0.2
             }
            },
            "type": "bar"
           }
          ],
          "barpolar": [
           {
            "marker": {
             "line": {
              "color": "#E5ECF6",
              "width": 0.5
             },
             "pattern": {
              "fillmode": "overlay",
              "size": 10,
              "solidity": 0.2
             }
            },
            "type": "barpolar"
           }
          ],
          "carpet": [
           {
            "aaxis": {
             "endlinecolor": "#2a3f5f",
             "gridcolor": "white",
             "linecolor": "white",
             "minorgridcolor": "white",
             "startlinecolor": "#2a3f5f"
            },
            "baxis": {
             "endlinecolor": "#2a3f5f",
             "gridcolor": "white",
             "linecolor": "white",
             "minorgridcolor": "white",
             "startlinecolor": "#2a3f5f"
            },
            "type": "carpet"
           }
          ],
          "choropleth": [
           {
            "colorbar": {
             "outlinewidth": 0,
             "ticks": ""
            },
            "type": "choropleth"
           }
          ],
          "contour": [
           {
            "colorbar": {
             "outlinewidth": 0,
             "ticks": ""
            },
            "colorscale": [
             [
              0,
              "#0d0887"
             ],
             [
              0.1111111111111111,
              "#46039f"
             ],
             [
              0.2222222222222222,
              "#7201a8"
             ],
             [
              0.3333333333333333,
              "#9c179e"
             ],
             [
              0.4444444444444444,
              "#bd3786"
             ],
             [
              0.5555555555555556,
              "#d8576b"
             ],
             [
              0.6666666666666666,
              "#ed7953"
             ],
             [
              0.7777777777777778,
              "#fb9f3a"
             ],
             [
              0.8888888888888888,
              "#fdca26"
             ],
             [
              1,
              "#f0f921"
             ]
            ],
            "type": "contour"
           }
          ],
          "contourcarpet": [
           {
            "colorbar": {
             "outlinewidth": 0,
             "ticks": ""
            },
            "type": "contourcarpet"
           }
          ],
          "heatmap": [
           {
            "colorbar": {
             "outlinewidth": 0,
             "ticks": ""
            },
            "colorscale": [
             [
              0,
              "#0d0887"
             ],
             [
              0.1111111111111111,
              "#46039f"
             ],
             [
              0.2222222222222222,
              "#7201a8"
             ],
             [
              0.3333333333333333,
              "#9c179e"
             ],
             [
              0.4444444444444444,
              "#bd3786"
             ],
             [
              0.5555555555555556,
              "#d8576b"
             ],
             [
              0.6666666666666666,
              "#ed7953"
             ],
             [
              0.7777777777777778,
              "#fb9f3a"
             ],
             [
              0.8888888888888888,
              "#fdca26"
             ],
             [
              1,
              "#f0f921"
             ]
            ],
            "type": "heatmap"
           }
          ],
          "heatmapgl": [
           {
            "colorbar": {
             "outlinewidth": 0,
             "ticks": ""
            },
            "colorscale": [
             [
              0,
              "#0d0887"
             ],
             [
              0.1111111111111111,
              "#46039f"
             ],
             [
              0.2222222222222222,
              "#7201a8"
             ],
             [
              0.3333333333333333,
              "#9c179e"
             ],
             [
              0.4444444444444444,
              "#bd3786"
             ],
             [
              0.5555555555555556,
              "#d8576b"
             ],
             [
              0.6666666666666666,
              "#ed7953"
             ],
             [
              0.7777777777777778,
              "#fb9f3a"
             ],
             [
              0.8888888888888888,
              "#fdca26"
             ],
             [
              1,
              "#f0f921"
             ]
            ],
            "type": "heatmapgl"
           }
          ],
          "histogram": [
           {
            "marker": {
             "pattern": {
              "fillmode": "overlay",
              "size": 10,
              "solidity": 0.2
             }
            },
            "type": "histogram"
           }
          ],
          "histogram2d": [
           {
            "colorbar": {
             "outlinewidth": 0,
             "ticks": ""
            },
            "colorscale": [
             [
              0,
              "#0d0887"
             ],
             [
              0.1111111111111111,
              "#46039f"
             ],
             [
              0.2222222222222222,
              "#7201a8"
             ],
             [
              0.3333333333333333,
              "#9c179e"
             ],
             [
              0.4444444444444444,
              "#bd3786"
             ],
             [
              0.5555555555555556,
              "#d8576b"
             ],
             [
              0.6666666666666666,
              "#ed7953"
             ],
             [
              0.7777777777777778,
              "#fb9f3a"
             ],
             [
              0.8888888888888888,
              "#fdca26"
             ],
             [
              1,
              "#f0f921"
             ]
            ],
            "type": "histogram2d"
           }
          ],
          "histogram2dcontour": [
           {
            "colorbar": {
             "outlinewidth": 0,
             "ticks": ""
            },
            "colorscale": [
             [
              0,
              "#0d0887"
             ],
             [
              0.1111111111111111,
              "#46039f"
             ],
             [
              0.2222222222222222,
              "#7201a8"
             ],
             [
              0.3333333333333333,
              "#9c179e"
             ],
             [
              0.4444444444444444,
              "#bd3786"
             ],
             [
              0.5555555555555556,
              "#d8576b"
             ],
             [
              0.6666666666666666,
              "#ed7953"
             ],
             [
              0.7777777777777778,
              "#fb9f3a"
             ],
             [
              0.8888888888888888,
              "#fdca26"
             ],
             [
              1,
              "#f0f921"
             ]
            ],
            "type": "histogram2dcontour"
           }
          ],
          "mesh3d": [
           {
            "colorbar": {
             "outlinewidth": 0,
             "ticks": ""
            },
            "type": "mesh3d"
           }
          ],
          "parcoords": [
           {
            "line": {
             "colorbar": {
              "outlinewidth": 0,
              "ticks": ""
             }
            },
            "type": "parcoords"
           }
          ],
          "pie": [
           {
            "automargin": true,
            "type": "pie"
           }
          ],
          "scatter": [
           {
            "fillpattern": {
             "fillmode": "overlay",
             "size": 10,
             "solidity": 0.2
            },
            "type": "scatter"
           }
          ],
          "scatter3d": [
           {
            "line": {
             "colorbar": {
              "outlinewidth": 0,
              "ticks": ""
             }
            },
            "marker": {
             "colorbar": {
              "outlinewidth": 0,
              "ticks": ""
             }
            },
            "type": "scatter3d"
           }
          ],
          "scattercarpet": [
           {
            "marker": {
             "colorbar": {
              "outlinewidth": 0,
              "ticks": ""
             }
            },
            "type": "scattercarpet"
           }
          ],
          "scattergeo": [
           {
            "marker": {
             "colorbar": {
              "outlinewidth": 0,
              "ticks": ""
             }
            },
            "type": "scattergeo"
           }
          ],
          "scattergl": [
           {
            "marker": {
             "colorbar": {
              "outlinewidth": 0,
              "ticks": ""
             }
            },
            "type": "scattergl"
           }
          ],
          "scattermapbox": [
           {
            "marker": {
             "colorbar": {
              "outlinewidth": 0,
              "ticks": ""
             }
            },
            "type": "scattermapbox"
           }
          ],
          "scatterpolar": [
           {
            "marker": {
             "colorbar": {
              "outlinewidth": 0,
              "ticks": ""
             }
            },
            "type": "scatterpolar"
           }
          ],
          "scatterpolargl": [
           {
            "marker": {
             "colorbar": {
              "outlinewidth": 0,
              "ticks": ""
             }
            },
            "type": "scatterpolargl"
           }
          ],
          "scatterternary": [
           {
            "marker": {
             "colorbar": {
              "outlinewidth": 0,
              "ticks": ""
             }
            },
            "type": "scatterternary"
           }
          ],
          "surface": [
           {
            "colorbar": {
             "outlinewidth": 0,
             "ticks": ""
            },
            "colorscale": [
             [
              0,
              "#0d0887"
             ],
             [
              0.1111111111111111,
              "#46039f"
             ],
             [
              0.2222222222222222,
              "#7201a8"
             ],
             [
              0.3333333333333333,
              "#9c179e"
             ],
             [
              0.4444444444444444,
              "#bd3786"
             ],
             [
              0.5555555555555556,
              "#d8576b"
             ],
             [
              0.6666666666666666,
              "#ed7953"
             ],
             [
              0.7777777777777778,
              "#fb9f3a"
             ],
             [
              0.8888888888888888,
              "#fdca26"
             ],
             [
              1,
              "#f0f921"
             ]
            ],
            "type": "surface"
           }
          ],
          "table": [
           {
            "cells": {
             "fill": {
              "color": "#EBF0F8"
             },
             "line": {
              "color": "white"
             }
            },
            "header": {
             "fill": {
              "color": "#C8D4E3"
             },
             "line": {
              "color": "white"
             }
            },
            "type": "table"
           }
          ]
         },
         "layout": {
          "annotationdefaults": {
           "arrowcolor": "#2a3f5f",
           "arrowhead": 0,
           "arrowwidth": 1
          },
          "autotypenumbers": "strict",
          "coloraxis": {
           "colorbar": {
            "outlinewidth": 0,
            "ticks": ""
           }
          },
          "colorscale": {
           "diverging": [
            [
             0,
             "#8e0152"
            ],
            [
             0.1,
             "#c51b7d"
            ],
            [
             0.2,
             "#de77ae"
            ],
            [
             0.3,
             "#f1b6da"
            ],
            [
             0.4,
             "#fde0ef"
            ],
            [
             0.5,
             "#f7f7f7"
            ],
            [
             0.6,
             "#e6f5d0"
            ],
            [
             0.7,
             "#b8e186"
            ],
            [
             0.8,
             "#7fbc41"
            ],
            [
             0.9,
             "#4d9221"
            ],
            [
             1,
             "#276419"
            ]
           ],
           "sequential": [
            [
             0,
             "#0d0887"
            ],
            [
             0.1111111111111111,
             "#46039f"
            ],
            [
             0.2222222222222222,
             "#7201a8"
            ],
            [
             0.3333333333333333,
             "#9c179e"
            ],
            [
             0.4444444444444444,
             "#bd3786"
            ],
            [
             0.5555555555555556,
             "#d8576b"
            ],
            [
             0.6666666666666666,
             "#ed7953"
            ],
            [
             0.7777777777777778,
             "#fb9f3a"
            ],
            [
             0.8888888888888888,
             "#fdca26"
            ],
            [
             1,
             "#f0f921"
            ]
           ],
           "sequentialminus": [
            [
             0,
             "#0d0887"
            ],
            [
             0.1111111111111111,
             "#46039f"
            ],
            [
             0.2222222222222222,
             "#7201a8"
            ],
            [
             0.3333333333333333,
             "#9c179e"
            ],
            [
             0.4444444444444444,
             "#bd3786"
            ],
            [
             0.5555555555555556,
             "#d8576b"
            ],
            [
             0.6666666666666666,
             "#ed7953"
            ],
            [
             0.7777777777777778,
             "#fb9f3a"
            ],
            [
             0.8888888888888888,
             "#fdca26"
            ],
            [
             1,
             "#f0f921"
            ]
           ]
          },
          "colorway": [
           "#636efa",
           "#EF553B",
           "#00cc96",
           "#ab63fa",
           "#FFA15A",
           "#19d3f3",
           "#FF6692",
           "#B6E880",
           "#FF97FF",
           "#FECB52"
          ],
          "font": {
           "color": "#2a3f5f"
          },
          "geo": {
           "bgcolor": "white",
           "lakecolor": "white",
           "landcolor": "#E5ECF6",
           "showlakes": true,
           "showland": true,
           "subunitcolor": "white"
          },
          "hoverlabel": {
           "align": "left"
          },
          "hovermode": "closest",
          "mapbox": {
           "style": "light"
          },
          "paper_bgcolor": "white",
          "plot_bgcolor": "#E5ECF6",
          "polar": {
           "angularaxis": {
            "gridcolor": "white",
            "linecolor": "white",
            "ticks": ""
           },
           "bgcolor": "#E5ECF6",
           "radialaxis": {
            "gridcolor": "white",
            "linecolor": "white",
            "ticks": ""
           }
          },
          "scene": {
           "xaxis": {
            "backgroundcolor": "#E5ECF6",
            "gridcolor": "white",
            "gridwidth": 2,
            "linecolor": "white",
            "showbackground": true,
            "ticks": "",
            "zerolinecolor": "white"
           },
           "yaxis": {
            "backgroundcolor": "#E5ECF6",
            "gridcolor": "white",
            "gridwidth": 2,
            "linecolor": "white",
            "showbackground": true,
            "ticks": "",
            "zerolinecolor": "white"
           },
           "zaxis": {
            "backgroundcolor": "#E5ECF6",
            "gridcolor": "white",
            "gridwidth": 2,
            "linecolor": "white",
            "showbackground": true,
            "ticks": "",
            "zerolinecolor": "white"
           }
          },
          "shapedefaults": {
           "line": {
            "color": "#2a3f5f"
           }
          },
          "ternary": {
           "aaxis": {
            "gridcolor": "white",
            "linecolor": "white",
            "ticks": ""
           },
           "baxis": {
            "gridcolor": "white",
            "linecolor": "white",
            "ticks": ""
           },
           "bgcolor": "#E5ECF6",
           "caxis": {
            "gridcolor": "white",
            "linecolor": "white",
            "ticks": ""
           }
          },
          "title": {
           "x": 0.05
          },
          "xaxis": {
           "automargin": true,
           "gridcolor": "white",
           "linecolor": "white",
           "ticks": "",
           "title": {
            "standoff": 15
           },
           "zerolinecolor": "white",
           "zerolinewidth": 2
          },
          "yaxis": {
           "automargin": true,
           "gridcolor": "white",
           "linecolor": "white",
           "ticks": "",
           "title": {
            "standoff": 15
           },
           "zerolinecolor": "white",
           "zerolinewidth": 2
          }
         }
        }
       }
      }
     },
     "metadata": {},
     "output_type": "display_data"
    }
   ],
   "source": [
    "# Filtrar solo los jugadores argentinos\n",
    "Argentina_data = atp_data[atp_data['Country'] == 'ARG']\n",
    "\n",
    "# Agregar una columna con el año de cada fecha\n",
    "Argentina_data['Year'] = Argentina_data['Date'].dt.year\n",
    "\n",
    "# Contar el número de jugadores únicos en el top 100 en cada año\n",
    "num_argentinian_players = Argentina_data.groupby('Year')['Player'].agg(lambda x: ', '.join(x.unique()))\n",
    "\n",
    "# Crear un objeto de figura de Plotly\n",
    "fig = go.Figure()\n",
    "\n",
    "# Agregar una tabla para mostrar el número de jugadores argentinos en el top 100 por año\n",
    "fig.add_trace(\n",
    "    go.Table(\n",
    "        header=dict(values=['Year', 'Argentinian Players']),\n",
    "        cells=dict(values=[num_argentinian_players.index, num_argentinian_players.values]),\n",
    "    )\n",
    ")\n",
    "\n",
    "# Mostrar la tabla\n",
    "fig.show()\n"
   ]
  }
 ],
 "metadata": {
  "kernelspec": {
   "display_name": "coder",
   "language": "python",
   "name": "python3"
  },
  "language_info": {
   "codemirror_mode": {
    "name": "ipython",
    "version": 3
   },
   "file_extension": ".py",
   "mimetype": "text/x-python",
   "name": "python",
   "nbconvert_exporter": "python",
   "pygments_lexer": "ipython3",
   "version": "3.10.8"
  },
  "orig_nbformat": 4,
  "vscode": {
   "interpreter": {
    "hash": "1601e438b0970cdc0e3b7aab964ec502426485a4e4809b43ab6c1987169d4d2d"
   }
  }
 },
 "nbformat": 4,
 "nbformat_minor": 2
}
