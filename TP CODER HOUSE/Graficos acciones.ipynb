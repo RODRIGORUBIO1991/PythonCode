{
  "cells": [
    {
      "cell_type": "markdown",
      "metadata": {
        "id": "mAMqREr5qF_9"
      },
      "source": [
        "## Plotly"
      ]
    },
    {
      "cell_type": "code",
      "execution_count": null,
      "metadata": {
        "colab": {
          "base_uri": "https://localhost:8080/"
        },
        "id": "TWnFe7NeoTtK",
        "outputId": "50f4fe8b-8886-4644-a8b9-da9152a2fbb5"
      },
      "outputs": [],
      "source": [
        "!pip install chart_studio"
      ]
    },
    {
      "cell_type": "code",
      "execution_count": 3,
      "metadata": {
        "id": "QnvhtdcoqIuy"
      },
      "outputs": [],
      "source": [
        "import pandas as pd\n",
        "import numpy as np\n",
        "import chart_studio.plotly as py\n",
        "import seaborn as sns\n",
        "import plotly.express as px"
      ]
    },
    {
      "attachments": {},
      "cell_type": "markdown",
      "metadata": {},
      "source": [
        "El eje x del gráfico representa la fecha (date), mientras que el eje y representa el precio de las acciones de Google (GOOG). "
      ]
    },
    {
      "cell_type": "code",
      "execution_count": 6,
      "metadata": {
        "colab": {
          "base_uri": "https://localhost:8080/",
          "height": 542
        },
        "id": "2PJ20mRSqTbA",
        "outputId": "af97c4cb-ee0c-436d-b05c-efb92302b481"
      },
      "outputs": [
        {
          "data": {
            "application/vnd.plotly.v1+json": {
              "config": {
                "plotlyServerURL": "https://plot.ly"
              },
              "data": [
                {
                  "hovertemplate": "date=%{x}<br>GOOG=%{y}<extra></extra>",
                  "legendgroup": "",
                  "line": {
                    "color": "#636efa",
                    "dash": "solid"
                  },
                  "marker": {
                    "symbol": "circle"
                  },
                  "mode": "lines",
                  "name": "",
                  "orientation": "v",
                  "showlegend": false,
                  "type": "scatter",
                  "x": [
                    "2018-01-01",
                    "2018-01-08",
                    "2018-01-15",
                    "2018-01-22",
                    "2018-01-29",
                    "2018-02-05",
                    "2018-02-12",
                    "2018-02-19",
                    "2018-02-26",
                    "2018-03-05",
                    "2018-03-12",
                    "2018-03-19",
                    "2018-03-26",
                    "2018-04-02",
                    "2018-04-09",
                    "2018-04-16",
                    "2018-04-23",
                    "2018-04-30",
                    "2018-05-07",
                    "2018-05-14",
                    "2018-05-21",
                    "2018-05-28",
                    "2018-06-04",
                    "2018-06-11",
                    "2018-06-18",
                    "2018-06-25",
                    "2018-07-02",
                    "2018-07-09",
                    "2018-07-16",
                    "2018-07-23",
                    "2018-07-30",
                    "2018-08-06",
                    "2018-08-13",
                    "2018-08-20",
                    "2018-08-27",
                    "2018-09-03",
                    "2018-09-10",
                    "2018-09-17",
                    "2018-09-24",
                    "2018-10-01",
                    "2018-10-08",
                    "2018-10-15",
                    "2018-10-22",
                    "2018-10-29",
                    "2018-11-05",
                    "2018-11-12",
                    "2018-11-19",
                    "2018-11-26",
                    "2018-12-03",
                    "2018-12-10",
                    "2018-12-17",
                    "2018-12-24",
                    "2018-12-31",
                    "2019-01-07",
                    "2019-01-14",
                    "2019-01-21",
                    "2019-01-28",
                    "2019-02-04",
                    "2019-02-11",
                    "2019-02-18",
                    "2019-02-25",
                    "2019-03-04",
                    "2019-03-11",
                    "2019-03-18",
                    "2019-03-25",
                    "2019-04-01",
                    "2019-04-08",
                    "2019-04-15",
                    "2019-04-22",
                    "2019-04-29",
                    "2019-05-06",
                    "2019-05-13",
                    "2019-05-20",
                    "2019-05-27",
                    "2019-06-03",
                    "2019-06-10",
                    "2019-06-17",
                    "2019-06-24",
                    "2019-07-01",
                    "2019-07-08",
                    "2019-07-15",
                    "2019-07-22",
                    "2019-07-29",
                    "2019-08-05",
                    "2019-08-12",
                    "2019-08-19",
                    "2019-08-26",
                    "2019-09-02",
                    "2019-09-09",
                    "2019-09-16",
                    "2019-09-23",
                    "2019-09-30",
                    "2019-10-07",
                    "2019-10-14",
                    "2019-10-21",
                    "2019-10-28",
                    "2019-11-04",
                    "2019-11-11",
                    "2019-11-18",
                    "2019-11-25",
                    "2019-12-02",
                    "2019-12-09",
                    "2019-12-16",
                    "2019-12-23",
                    "2019-12-30"
                  ],
                  "xaxis": "x",
                  "y": [
                    1,
                    1.018172278347936,
                    1.032007866452698,
                    1.066782783389724,
                    1.0087731636550117,
                    0.9415276737437316,
                    0.99325918262539,
                    1.0222821547641083,
                    0.9788520214265992,
                    1.0524482730908842,
                    1.0303929312465263,
                    0.926821104067592,
                    0.9360932452590338,
                    0.913638710861412,
                    0.93380695379017,
                    0.9734447261178653,
                    0.9345146364100892,
                    0.9509902470625956,
                    0.9963982380519172,
                    0.9674568868105002,
                    0.9758943718805396,
                    1.015668254641377,
                    1.0169111849053498,
                    1.0453898287179595,
                    1.0483111519067918,
                    1.0121753574512644,
                    1.0344211867653972,
                    1.0785588920381208,
                    1.075011617811375,
                    1.1236312044424703,
                    1.1102129167272332,
                    1.1228237368393843,
                    1.0895729410299655,
                    1.1074367837463466,
                    1.1052048693141154,
                    1.0567939333314087,
                    1.0637798374890872,
                    1.0579370795194665,
                    1.0827776350267664,
                    1.0500077089175164,
                    1.007121903906116,
                    0.9947651405743836,
                    0.9720929301886708,
                    0.959681788913054,
                    0.9672663993407256,
                    0.9630385756700248,
                    0.9289168536315806,
                    0.992923504040418,
                    0.9404389054995582,
                    0.945446952912676,
                    0.8886892896888904,
                    0.9408925313390586,
                    0.9714034098401132,
                    0.9591373489949891,
                    0.9963982380519172,
                    0.989802500200548,
                    1.0077298024501202,
                    0.9934950771344468,
                    1.0103608540932627,
                    1.0073850422758417,
                    1.035165084150587,
                    1.0363716889645844,
                    1.0746032883264525,
                    1.0936918990354445,
                    1.064487521016258,
                    1.095188886079836,
                    1.1049145977684258,
                    1.1216987538299403,
                    1.1541874899828073,
                    1.075456162061569,
                    1.0562859304552756,
                    1.0544986709579427,
                    1.0283425342867192,
                    1.001270175031893,
                    0.9671666152648106,
                    0.98468558802946,
                    1.0178275181736574,
                    0.980657443195294,
                    1.0266368965939394,
                    1.0387124690620373,
                    1.025285100664745,
                    1.1344366027859267,
                    1.0832494231376286,
                    1.0778240762422375,
                    1.068379555417282,
                    1.0445098208996275,
                    1.0779056980467905,
                    1.0931748145700046,
                    1.12459294475006,
                    1.115856106545024,
                    1.1114649285805127,
                    1.0968672799119472,
                    1.10271900878617,
                    1.129972884606169,
                    1.1477913211905195,
                    1.155602744537941,
                    1.189742629754999,
                    1.2110630442115171,
                    1.1751993590303178,
                    1.183927115646047,
                    1.216279741365772,
                    1.222820990588552,
                    1.22441776261611,
                    1.2265044859331442,
                    1.213013658002661
                  ],
                  "yaxis": "y"
                }
              ],
              "layout": {
                "legend": {
                  "tracegroupgap": 0
                },
                "margin": {
                  "t": 60
                },
                "template": {
                  "data": {
                    "bar": [
                      {
                        "error_x": {
                          "color": "#2a3f5f"
                        },
                        "error_y": {
                          "color": "#2a3f5f"
                        },
                        "marker": {
                          "line": {
                            "color": "#E5ECF6",
                            "width": 0.5
                          },
                          "pattern": {
                            "fillmode": "overlay",
                            "size": 10,
                            "solidity": 0.2
                          }
                        },
                        "type": "bar"
                      }
                    ],
                    "barpolar": [
                      {
                        "marker": {
                          "line": {
                            "color": "#E5ECF6",
                            "width": 0.5
                          },
                          "pattern": {
                            "fillmode": "overlay",
                            "size": 10,
                            "solidity": 0.2
                          }
                        },
                        "type": "barpolar"
                      }
                    ],
                    "carpet": [
                      {
                        "aaxis": {
                          "endlinecolor": "#2a3f5f",
                          "gridcolor": "white",
                          "linecolor": "white",
                          "minorgridcolor": "white",
                          "startlinecolor": "#2a3f5f"
                        },
                        "baxis": {
                          "endlinecolor": "#2a3f5f",
                          "gridcolor": "white",
                          "linecolor": "white",
                          "minorgridcolor": "white",
                          "startlinecolor": "#2a3f5f"
                        },
                        "type": "carpet"
                      }
                    ],
                    "choropleth": [
                      {
                        "colorbar": {
                          "outlinewidth": 0,
                          "ticks": ""
                        },
                        "type": "choropleth"
                      }
                    ],
                    "contour": [
                      {
                        "colorbar": {
                          "outlinewidth": 0,
                          "ticks": ""
                        },
                        "colorscale": [
                          [
                            0,
                            "#0d0887"
                          ],
                          [
                            0.1111111111111111,
                            "#46039f"
                          ],
                          [
                            0.2222222222222222,
                            "#7201a8"
                          ],
                          [
                            0.3333333333333333,
                            "#9c179e"
                          ],
                          [
                            0.4444444444444444,
                            "#bd3786"
                          ],
                          [
                            0.5555555555555556,
                            "#d8576b"
                          ],
                          [
                            0.6666666666666666,
                            "#ed7953"
                          ],
                          [
                            0.7777777777777778,
                            "#fb9f3a"
                          ],
                          [
                            0.8888888888888888,
                            "#fdca26"
                          ],
                          [
                            1,
                            "#f0f921"
                          ]
                        ],
                        "type": "contour"
                      }
                    ],
                    "contourcarpet": [
                      {
                        "colorbar": {
                          "outlinewidth": 0,
                          "ticks": ""
                        },
                        "type": "contourcarpet"
                      }
                    ],
                    "heatmap": [
                      {
                        "colorbar": {
                          "outlinewidth": 0,
                          "ticks": ""
                        },
                        "colorscale": [
                          [
                            0,
                            "#0d0887"
                          ],
                          [
                            0.1111111111111111,
                            "#46039f"
                          ],
                          [
                            0.2222222222222222,
                            "#7201a8"
                          ],
                          [
                            0.3333333333333333,
                            "#9c179e"
                          ],
                          [
                            0.4444444444444444,
                            "#bd3786"
                          ],
                          [
                            0.5555555555555556,
                            "#d8576b"
                          ],
                          [
                            0.6666666666666666,
                            "#ed7953"
                          ],
                          [
                            0.7777777777777778,
                            "#fb9f3a"
                          ],
                          [
                            0.8888888888888888,
                            "#fdca26"
                          ],
                          [
                            1,
                            "#f0f921"
                          ]
                        ],
                        "type": "heatmap"
                      }
                    ],
                    "heatmapgl": [
                      {
                        "colorbar": {
                          "outlinewidth": 0,
                          "ticks": ""
                        },
                        "colorscale": [
                          [
                            0,
                            "#0d0887"
                          ],
                          [
                            0.1111111111111111,
                            "#46039f"
                          ],
                          [
                            0.2222222222222222,
                            "#7201a8"
                          ],
                          [
                            0.3333333333333333,
                            "#9c179e"
                          ],
                          [
                            0.4444444444444444,
                            "#bd3786"
                          ],
                          [
                            0.5555555555555556,
                            "#d8576b"
                          ],
                          [
                            0.6666666666666666,
                            "#ed7953"
                          ],
                          [
                            0.7777777777777778,
                            "#fb9f3a"
                          ],
                          [
                            0.8888888888888888,
                            "#fdca26"
                          ],
                          [
                            1,
                            "#f0f921"
                          ]
                        ],
                        "type": "heatmapgl"
                      }
                    ],
                    "histogram": [
                      {
                        "marker": {
                          "pattern": {
                            "fillmode": "overlay",
                            "size": 10,
                            "solidity": 0.2
                          }
                        },
                        "type": "histogram"
                      }
                    ],
                    "histogram2d": [
                      {
                        "colorbar": {
                          "outlinewidth": 0,
                          "ticks": ""
                        },
                        "colorscale": [
                          [
                            0,
                            "#0d0887"
                          ],
                          [
                            0.1111111111111111,
                            "#46039f"
                          ],
                          [
                            0.2222222222222222,
                            "#7201a8"
                          ],
                          [
                            0.3333333333333333,
                            "#9c179e"
                          ],
                          [
                            0.4444444444444444,
                            "#bd3786"
                          ],
                          [
                            0.5555555555555556,
                            "#d8576b"
                          ],
                          [
                            0.6666666666666666,
                            "#ed7953"
                          ],
                          [
                            0.7777777777777778,
                            "#fb9f3a"
                          ],
                          [
                            0.8888888888888888,
                            "#fdca26"
                          ],
                          [
                            1,
                            "#f0f921"
                          ]
                        ],
                        "type": "histogram2d"
                      }
                    ],
                    "histogram2dcontour": [
                      {
                        "colorbar": {
                          "outlinewidth": 0,
                          "ticks": ""
                        },
                        "colorscale": [
                          [
                            0,
                            "#0d0887"
                          ],
                          [
                            0.1111111111111111,
                            "#46039f"
                          ],
                          [
                            0.2222222222222222,
                            "#7201a8"
                          ],
                          [
                            0.3333333333333333,
                            "#9c179e"
                          ],
                          [
                            0.4444444444444444,
                            "#bd3786"
                          ],
                          [
                            0.5555555555555556,
                            "#d8576b"
                          ],
                          [
                            0.6666666666666666,
                            "#ed7953"
                          ],
                          [
                            0.7777777777777778,
                            "#fb9f3a"
                          ],
                          [
                            0.8888888888888888,
                            "#fdca26"
                          ],
                          [
                            1,
                            "#f0f921"
                          ]
                        ],
                        "type": "histogram2dcontour"
                      }
                    ],
                    "mesh3d": [
                      {
                        "colorbar": {
                          "outlinewidth": 0,
                          "ticks": ""
                        },
                        "type": "mesh3d"
                      }
                    ],
                    "parcoords": [
                      {
                        "line": {
                          "colorbar": {
                            "outlinewidth": 0,
                            "ticks": ""
                          }
                        },
                        "type": "parcoords"
                      }
                    ],
                    "pie": [
                      {
                        "automargin": true,
                        "type": "pie"
                      }
                    ],
                    "scatter": [
                      {
                        "fillpattern": {
                          "fillmode": "overlay",
                          "size": 10,
                          "solidity": 0.2
                        },
                        "type": "scatter"
                      }
                    ],
                    "scatter3d": [
                      {
                        "line": {
                          "colorbar": {
                            "outlinewidth": 0,
                            "ticks": ""
                          }
                        },
                        "marker": {
                          "colorbar": {
                            "outlinewidth": 0,
                            "ticks": ""
                          }
                        },
                        "type": "scatter3d"
                      }
                    ],
                    "scattercarpet": [
                      {
                        "marker": {
                          "colorbar": {
                            "outlinewidth": 0,
                            "ticks": ""
                          }
                        },
                        "type": "scattercarpet"
                      }
                    ],
                    "scattergeo": [
                      {
                        "marker": {
                          "colorbar": {
                            "outlinewidth": 0,
                            "ticks": ""
                          }
                        },
                        "type": "scattergeo"
                      }
                    ],
                    "scattergl": [
                      {
                        "marker": {
                          "colorbar": {
                            "outlinewidth": 0,
                            "ticks": ""
                          }
                        },
                        "type": "scattergl"
                      }
                    ],
                    "scattermapbox": [
                      {
                        "marker": {
                          "colorbar": {
                            "outlinewidth": 0,
                            "ticks": ""
                          }
                        },
                        "type": "scattermapbox"
                      }
                    ],
                    "scatterpolar": [
                      {
                        "marker": {
                          "colorbar": {
                            "outlinewidth": 0,
                            "ticks": ""
                          }
                        },
                        "type": "scatterpolar"
                      }
                    ],
                    "scatterpolargl": [
                      {
                        "marker": {
                          "colorbar": {
                            "outlinewidth": 0,
                            "ticks": ""
                          }
                        },
                        "type": "scatterpolargl"
                      }
                    ],
                    "scatterternary": [
                      {
                        "marker": {
                          "colorbar": {
                            "outlinewidth": 0,
                            "ticks": ""
                          }
                        },
                        "type": "scatterternary"
                      }
                    ],
                    "surface": [
                      {
                        "colorbar": {
                          "outlinewidth": 0,
                          "ticks": ""
                        },
                        "colorscale": [
                          [
                            0,
                            "#0d0887"
                          ],
                          [
                            0.1111111111111111,
                            "#46039f"
                          ],
                          [
                            0.2222222222222222,
                            "#7201a8"
                          ],
                          [
                            0.3333333333333333,
                            "#9c179e"
                          ],
                          [
                            0.4444444444444444,
                            "#bd3786"
                          ],
                          [
                            0.5555555555555556,
                            "#d8576b"
                          ],
                          [
                            0.6666666666666666,
                            "#ed7953"
                          ],
                          [
                            0.7777777777777778,
                            "#fb9f3a"
                          ],
                          [
                            0.8888888888888888,
                            "#fdca26"
                          ],
                          [
                            1,
                            "#f0f921"
                          ]
                        ],
                        "type": "surface"
                      }
                    ],
                    "table": [
                      {
                        "cells": {
                          "fill": {
                            "color": "#EBF0F8"
                          },
                          "line": {
                            "color": "white"
                          }
                        },
                        "header": {
                          "fill": {
                            "color": "#C8D4E3"
                          },
                          "line": {
                            "color": "white"
                          }
                        },
                        "type": "table"
                      }
                    ]
                  },
                  "layout": {
                    "annotationdefaults": {
                      "arrowcolor": "#2a3f5f",
                      "arrowhead": 0,
                      "arrowwidth": 1
                    },
                    "autotypenumbers": "strict",
                    "coloraxis": {
                      "colorbar": {
                        "outlinewidth": 0,
                        "ticks": ""
                      }
                    },
                    "colorscale": {
                      "diverging": [
                        [
                          0,
                          "#8e0152"
                        ],
                        [
                          0.1,
                          "#c51b7d"
                        ],
                        [
                          0.2,
                          "#de77ae"
                        ],
                        [
                          0.3,
                          "#f1b6da"
                        ],
                        [
                          0.4,
                          "#fde0ef"
                        ],
                        [
                          0.5,
                          "#f7f7f7"
                        ],
                        [
                          0.6,
                          "#e6f5d0"
                        ],
                        [
                          0.7,
                          "#b8e186"
                        ],
                        [
                          0.8,
                          "#7fbc41"
                        ],
                        [
                          0.9,
                          "#4d9221"
                        ],
                        [
                          1,
                          "#276419"
                        ]
                      ],
                      "sequential": [
                        [
                          0,
                          "#0d0887"
                        ],
                        [
                          0.1111111111111111,
                          "#46039f"
                        ],
                        [
                          0.2222222222222222,
                          "#7201a8"
                        ],
                        [
                          0.3333333333333333,
                          "#9c179e"
                        ],
                        [
                          0.4444444444444444,
                          "#bd3786"
                        ],
                        [
                          0.5555555555555556,
                          "#d8576b"
                        ],
                        [
                          0.6666666666666666,
                          "#ed7953"
                        ],
                        [
                          0.7777777777777778,
                          "#fb9f3a"
                        ],
                        [
                          0.8888888888888888,
                          "#fdca26"
                        ],
                        [
                          1,
                          "#f0f921"
                        ]
                      ],
                      "sequentialminus": [
                        [
                          0,
                          "#0d0887"
                        ],
                        [
                          0.1111111111111111,
                          "#46039f"
                        ],
                        [
                          0.2222222222222222,
                          "#7201a8"
                        ],
                        [
                          0.3333333333333333,
                          "#9c179e"
                        ],
                        [
                          0.4444444444444444,
                          "#bd3786"
                        ],
                        [
                          0.5555555555555556,
                          "#d8576b"
                        ],
                        [
                          0.6666666666666666,
                          "#ed7953"
                        ],
                        [
                          0.7777777777777778,
                          "#fb9f3a"
                        ],
                        [
                          0.8888888888888888,
                          "#fdca26"
                        ],
                        [
                          1,
                          "#f0f921"
                        ]
                      ]
                    },
                    "colorway": [
                      "#636efa",
                      "#EF553B",
                      "#00cc96",
                      "#ab63fa",
                      "#FFA15A",
                      "#19d3f3",
                      "#FF6692",
                      "#B6E880",
                      "#FF97FF",
                      "#FECB52"
                    ],
                    "font": {
                      "color": "#2a3f5f"
                    },
                    "geo": {
                      "bgcolor": "white",
                      "lakecolor": "white",
                      "landcolor": "#E5ECF6",
                      "showlakes": true,
                      "showland": true,
                      "subunitcolor": "white"
                    },
                    "hoverlabel": {
                      "align": "left"
                    },
                    "hovermode": "closest",
                    "mapbox": {
                      "style": "light"
                    },
                    "paper_bgcolor": "white",
                    "plot_bgcolor": "#E5ECF6",
                    "polar": {
                      "angularaxis": {
                        "gridcolor": "white",
                        "linecolor": "white",
                        "ticks": ""
                      },
                      "bgcolor": "#E5ECF6",
                      "radialaxis": {
                        "gridcolor": "white",
                        "linecolor": "white",
                        "ticks": ""
                      }
                    },
                    "scene": {
                      "xaxis": {
                        "backgroundcolor": "#E5ECF6",
                        "gridcolor": "white",
                        "gridwidth": 2,
                        "linecolor": "white",
                        "showbackground": true,
                        "ticks": "",
                        "zerolinecolor": "white"
                      },
                      "yaxis": {
                        "backgroundcolor": "#E5ECF6",
                        "gridcolor": "white",
                        "gridwidth": 2,
                        "linecolor": "white",
                        "showbackground": true,
                        "ticks": "",
                        "zerolinecolor": "white"
                      },
                      "zaxis": {
                        "backgroundcolor": "#E5ECF6",
                        "gridcolor": "white",
                        "gridwidth": 2,
                        "linecolor": "white",
                        "showbackground": true,
                        "ticks": "",
                        "zerolinecolor": "white"
                      }
                    },
                    "shapedefaults": {
                      "line": {
                        "color": "#2a3f5f"
                      }
                    },
                    "ternary": {
                      "aaxis": {
                        "gridcolor": "white",
                        "linecolor": "white",
                        "ticks": ""
                      },
                      "baxis": {
                        "gridcolor": "white",
                        "linecolor": "white",
                        "ticks": ""
                      },
                      "bgcolor": "#E5ECF6",
                      "caxis": {
                        "gridcolor": "white",
                        "linecolor": "white",
                        "ticks": ""
                      }
                    },
                    "title": {
                      "x": 0.05
                    },
                    "xaxis": {
                      "automargin": true,
                      "gridcolor": "white",
                      "linecolor": "white",
                      "ticks": "",
                      "title": {
                        "standoff": 15
                      },
                      "zerolinecolor": "white",
                      "zerolinewidth": 2
                    },
                    "yaxis": {
                      "automargin": true,
                      "gridcolor": "white",
                      "linecolor": "white",
                      "ticks": "",
                      "title": {
                        "standoff": 15
                      },
                      "zerolinecolor": "white",
                      "zerolinewidth": 2
                    }
                  }
                },
                "xaxis": {
                  "anchor": "y",
                  "domain": [
                    0,
                    1
                  ],
                  "title": {
                    "text": "date"
                  }
                },
                "yaxis": {
                  "anchor": "x",
                  "domain": [
                    0,
                    1
                  ],
                  "title": {
                    "text": "GOOG"
                  }
                }
              }
            }
          },
          "metadata": {},
          "output_type": "display_data"
        }
      ],
      "source": [
        "import plotly.graph_objects as go\n",
        "df_stocks=px.data.stocks()\n",
        "px.line(df_stocks, x='date',y='GOOG', labels={'x':'Fecha', 'y':'Precio'})"
      ]
    },
    {
      "attachments": {},
      "cell_type": "markdown",
      "metadata": {},
      "source": [
        "Series de datos correspondientes a las acciones de tres empresas (Apple, Amazon y Alphabet) durante el período 2018/19."
      ]
    },
    {
      "cell_type": "code",
      "execution_count": 11,
      "metadata": {
        "colab": {
          "base_uri": "https://localhost:8080/",
          "height": 542
        },
        "id": "L6Wb_sYLqqQQ",
        "outputId": "e8229f60-67e2-4cd5-ae36-5e8f759ba127"
      },
      "outputs": [
        {
          "data": {
            "application/vnd.plotly.v1+json": {
              "config": {
                "plotlyServerURL": "https://plot.ly"
              },
              "data": [
                {
                  "mode": "lines",
                  "name": "Apple",
                  "type": "scatter",
                  "x": [
                    "2019-01-07T00:00:00",
                    "2019-01-14T00:00:00",
                    "2019-01-21T00:00:00",
                    "2019-01-28T00:00:00",
                    "2019-02-04T00:00:00",
                    "2019-02-11T00:00:00",
                    "2019-02-18T00:00:00",
                    "2019-02-25T00:00:00",
                    "2019-03-04T00:00:00",
                    "2019-03-11T00:00:00",
                    "2019-03-18T00:00:00",
                    "2019-03-25T00:00:00",
                    "2019-04-01T00:00:00",
                    "2019-04-08T00:00:00",
                    "2019-04-15T00:00:00",
                    "2019-04-22T00:00:00",
                    "2019-04-29T00:00:00",
                    "2019-05-06T00:00:00",
                    "2019-05-13T00:00:00",
                    "2019-05-20T00:00:00",
                    "2019-05-27T00:00:00",
                    "2019-06-03T00:00:00",
                    "2019-06-10T00:00:00",
                    "2019-06-17T00:00:00",
                    "2019-06-24T00:00:00",
                    "2019-07-01T00:00:00",
                    "2019-07-08T00:00:00",
                    "2019-07-15T00:00:00",
                    "2019-07-22T00:00:00",
                    "2019-07-29T00:00:00",
                    "2019-08-05T00:00:00",
                    "2019-08-12T00:00:00",
                    "2019-08-19T00:00:00",
                    "2019-08-26T00:00:00",
                    "2019-09-02T00:00:00",
                    "2019-09-09T00:00:00",
                    "2019-09-16T00:00:00",
                    "2019-09-23T00:00:00",
                    "2019-09-30T00:00:00",
                    "2019-10-07T00:00:00",
                    "2019-10-14T00:00:00",
                    "2019-10-21T00:00:00",
                    "2019-10-28T00:00:00",
                    "2019-11-04T00:00:00",
                    "2019-11-11T00:00:00",
                    "2019-11-18T00:00:00",
                    "2019-11-25T00:00:00",
                    "2019-12-02T00:00:00",
                    "2019-12-09T00:00:00",
                    "2019-12-16T00:00:00",
                    "2019-12-23T00:00:00",
                    "2019-12-30T00:00:00"
                  ],
                  "y": [
                    0.8702285314285714,
                    0.8961143257142857,
                    0.9014856857142858,
                    0.95154288,
                    0.9737714514285716,
                    0.97382856,
                    0.9884000057142855,
                    0.9998285771428572,
                    0.9880571657142858,
                    1.0635428285714286,
                    1.0917143028571428,
                    1.0854285542857145,
                    1.1257142857142857,
                    1.1363999714285713,
                    1.1649142914285715,
                    1.1674285885714286,
                    1.21,
                    1.126742817142857,
                    1.08,
                    1.02268572,
                    1.00040004,
                    1.0865713942857145,
                    1.1013714571428572,
                    1.135885708571429,
                    1.130971417142857,
                    1.167028548571429,
                    1.1617143028571428,
                    1.15765712,
                    1.1870857428571429,
                    1.1658285942857145,
                    1.1485143142857142,
                    1.18,
                    1.1579428514285717,
                    1.1928000285714286,
                    1.218628542857143,
                    1.25,
                    1.2441714057142856,
                    1.25040004,
                    1.2971999714285716,
                    1.3497714685714286,
                    1.3509143085714286,
                    1.409028582857143,
                    1.4618286114285712,
                    1.4865143714285716,
                    1.5186286285714288,
                    1.4958857085714288,
                    1.5271428571428571,
                    1.5469142342857145,
                    1.57228568,
                    1.5968000114285714,
                    1.6559999314285714,
                    1.6779999657142857
                  ]
                },
                {
                  "mode": "lines+markers",
                  "name": "Amazon",
                  "type": "scatter",
                  "x": [
                    "2019-01-07T00:00:00",
                    "2019-01-14T00:00:00",
                    "2019-01-21T00:00:00",
                    "2019-01-28T00:00:00",
                    "2019-02-04T00:00:00",
                    "2019-02-11T00:00:00",
                    "2019-02-18T00:00:00",
                    "2019-02-25T00:00:00",
                    "2019-03-04T00:00:00",
                    "2019-03-11T00:00:00",
                    "2019-03-18T00:00:00",
                    "2019-03-25T00:00:00",
                    "2019-04-01T00:00:00",
                    "2019-04-08T00:00:00",
                    "2019-04-15T00:00:00",
                    "2019-04-22T00:00:00",
                    "2019-04-29T00:00:00",
                    "2019-05-06T00:00:00",
                    "2019-05-13T00:00:00",
                    "2019-05-20T00:00:00",
                    "2019-05-27T00:00:00",
                    "2019-06-03T00:00:00",
                    "2019-06-10T00:00:00",
                    "2019-06-17T00:00:00",
                    "2019-06-24T00:00:00",
                    "2019-07-01T00:00:00",
                    "2019-07-08T00:00:00",
                    "2019-07-15T00:00:00",
                    "2019-07-22T00:00:00",
                    "2019-07-29T00:00:00",
                    "2019-08-05T00:00:00",
                    "2019-08-12T00:00:00",
                    "2019-08-19T00:00:00",
                    "2019-08-26T00:00:00",
                    "2019-09-02T00:00:00",
                    "2019-09-09T00:00:00",
                    "2019-09-16T00:00:00",
                    "2019-09-23T00:00:00",
                    "2019-09-30T00:00:00",
                    "2019-10-07T00:00:00",
                    "2019-10-14T00:00:00",
                    "2019-10-21T00:00:00",
                    "2019-10-28T00:00:00",
                    "2019-11-04T00:00:00",
                    "2019-11-11T00:00:00",
                    "2019-11-18T00:00:00",
                    "2019-11-25T00:00:00",
                    "2019-12-02T00:00:00",
                    "2019-12-09T00:00:00",
                    "2019-12-16T00:00:00",
                    "2019-12-23T00:00:00",
                    "2019-12-30T00:00:00"
                  ],
                  "y": [
                    1.334721869745653,
                    1.3799892040777797,
                    1.359137222458745,
                    1.3230632475991762,
                    1.2921391799289847,
                    1.3081910371293215,
                    1.3273996770823542,
                    1.3600809993969647,
                    1.3186455808291295,
                    1.393136635454831,
                    1.435776232539301,
                    1.4487771761299302,
                    1.4947687054188046,
                    1.4994712046698764,
                    1.5146280474808236,
                    1.5869876346023932,
                    1.596612214272432,
                    1.537644171481961,
                    1.5205753430783882,
                    1.483378627942562,
                    1.44415601504927,
                    1.4677172714127285,
                    1.521120475440709,
                    1.5549896884611636,
                    1.540613747734834,
                    1.58070684404494,
                    1.6361032717659916,
                    1.5982882308164057,
                    1.5808207570233568,
                    1.4833460531345568,
                    1.4706054102388,
                    1.4583936118945735,
                    1.4234505212166575,
                    1.445148654606286,
                    1.491701504811883,
                    1.4964446227063888,
                    1.4596872708598625,
                    1.4037863302335007,
                    1.4153391824933792,
                    1.4090502488441077,
                    1.4298696556551374,
                    1.43297747571907,
                    1.4574742658589632,
                    1.452950830015895,
                    1.4152089825177483,
                    1.420277551536714,
                    1.465089434095106,
                    1.425061388144621,
                    1.4326601685000062,
                    1.4534552436648156,
                    1.52122624451373,
                    1.503360026888393
                  ]
                },
                {
                  "line": {
                    "color": "firebrick",
                    "dash": "dashdot",
                    "width": 2
                  },
                  "mode": "lines+markers",
                  "name": "Alphabet",
                  "type": "scatter",
                  "x": [
                    "2019-01-07T00:00:00",
                    "2019-01-14T00:00:00",
                    "2019-01-21T00:00:00",
                    "2019-01-28T00:00:00",
                    "2019-02-04T00:00:00",
                    "2019-02-11T00:00:00",
                    "2019-02-18T00:00:00",
                    "2019-02-25T00:00:00",
                    "2019-03-04T00:00:00",
                    "2019-03-11T00:00:00",
                    "2019-03-18T00:00:00",
                    "2019-03-25T00:00:00",
                    "2019-04-01T00:00:00",
                    "2019-04-08T00:00:00",
                    "2019-04-15T00:00:00",
                    "2019-04-22T00:00:00",
                    "2019-04-29T00:00:00",
                    "2019-05-06T00:00:00",
                    "2019-05-13T00:00:00",
                    "2019-05-20T00:00:00",
                    "2019-05-27T00:00:00",
                    "2019-06-03T00:00:00",
                    "2019-06-10T00:00:00",
                    "2019-06-17T00:00:00",
                    "2019-06-24T00:00:00",
                    "2019-07-01T00:00:00",
                    "2019-07-08T00:00:00",
                    "2019-07-15T00:00:00",
                    "2019-07-22T00:00:00",
                    "2019-07-29T00:00:00",
                    "2019-08-05T00:00:00",
                    "2019-08-12T00:00:00",
                    "2019-08-19T00:00:00",
                    "2019-08-26T00:00:00",
                    "2019-09-02T00:00:00",
                    "2019-09-09T00:00:00",
                    "2019-09-16T00:00:00",
                    "2019-09-23T00:00:00",
                    "2019-09-30T00:00:00",
                    "2019-10-07T00:00:00",
                    "2019-10-14T00:00:00",
                    "2019-10-21T00:00:00",
                    "2019-10-28T00:00:00",
                    "2019-11-04T00:00:00",
                    "2019-11-11T00:00:00",
                    "2019-11-18T00:00:00",
                    "2019-11-25T00:00:00",
                    "2019-12-02T00:00:00",
                    "2019-12-09T00:00:00",
                    "2019-12-16T00:00:00",
                    "2019-12-23T00:00:00",
                    "2019-12-30T00:00:00"
                  ],
                  "y": [
                    0.9591373489949891,
                    0.9963982380519172,
                    0.989802500200548,
                    1.0077298024501202,
                    0.9934950771344468,
                    1.0103608540932627,
                    1.0073850422758417,
                    1.035165084150587,
                    1.0363716889645844,
                    1.0746032883264525,
                    1.0936918990354445,
                    1.064487521016258,
                    1.095188886079836,
                    1.1049145977684258,
                    1.1216987538299403,
                    1.1541874899828073,
                    1.075456162061569,
                    1.0562859304552756,
                    1.0544986709579427,
                    1.0283425342867192,
                    1.001270175031893,
                    0.9671666152648106,
                    0.98468558802946,
                    1.0178275181736574,
                    0.980657443195294,
                    1.0266368965939394,
                    1.0387124690620373,
                    1.025285100664745,
                    1.1344366027859267,
                    1.0832494231376286,
                    1.0778240762422375,
                    1.068379555417282,
                    1.0445098208996275,
                    1.0779056980467905,
                    1.0931748145700046,
                    1.12459294475006,
                    1.115856106545024,
                    1.1114649285805127,
                    1.0968672799119472,
                    1.10271900878617,
                    1.129972884606169,
                    1.1477913211905195,
                    1.155602744537941,
                    1.189742629754999,
                    1.2110630442115171,
                    1.1751993590303178,
                    1.183927115646047,
                    1.216279741365772,
                    1.222820990588552,
                    1.22441776261611,
                    1.2265044859331442,
                    1.213013658002661
                  ]
                }
              ],
              "layout": {
                "template": {
                  "data": {
                    "bar": [
                      {
                        "error_x": {
                          "color": "#2a3f5f"
                        },
                        "error_y": {
                          "color": "#2a3f5f"
                        },
                        "marker": {
                          "line": {
                            "color": "#E5ECF6",
                            "width": 0.5
                          },
                          "pattern": {
                            "fillmode": "overlay",
                            "size": 10,
                            "solidity": 0.2
                          }
                        },
                        "type": "bar"
                      }
                    ],
                    "barpolar": [
                      {
                        "marker": {
                          "line": {
                            "color": "#E5ECF6",
                            "width": 0.5
                          },
                          "pattern": {
                            "fillmode": "overlay",
                            "size": 10,
                            "solidity": 0.2
                          }
                        },
                        "type": "barpolar"
                      }
                    ],
                    "carpet": [
                      {
                        "aaxis": {
                          "endlinecolor": "#2a3f5f",
                          "gridcolor": "white",
                          "linecolor": "white",
                          "minorgridcolor": "white",
                          "startlinecolor": "#2a3f5f"
                        },
                        "baxis": {
                          "endlinecolor": "#2a3f5f",
                          "gridcolor": "white",
                          "linecolor": "white",
                          "minorgridcolor": "white",
                          "startlinecolor": "#2a3f5f"
                        },
                        "type": "carpet"
                      }
                    ],
                    "choropleth": [
                      {
                        "colorbar": {
                          "outlinewidth": 0,
                          "ticks": ""
                        },
                        "type": "choropleth"
                      }
                    ],
                    "contour": [
                      {
                        "colorbar": {
                          "outlinewidth": 0,
                          "ticks": ""
                        },
                        "colorscale": [
                          [
                            0,
                            "#0d0887"
                          ],
                          [
                            0.1111111111111111,
                            "#46039f"
                          ],
                          [
                            0.2222222222222222,
                            "#7201a8"
                          ],
                          [
                            0.3333333333333333,
                            "#9c179e"
                          ],
                          [
                            0.4444444444444444,
                            "#bd3786"
                          ],
                          [
                            0.5555555555555556,
                            "#d8576b"
                          ],
                          [
                            0.6666666666666666,
                            "#ed7953"
                          ],
                          [
                            0.7777777777777778,
                            "#fb9f3a"
                          ],
                          [
                            0.8888888888888888,
                            "#fdca26"
                          ],
                          [
                            1,
                            "#f0f921"
                          ]
                        ],
                        "type": "contour"
                      }
                    ],
                    "contourcarpet": [
                      {
                        "colorbar": {
                          "outlinewidth": 0,
                          "ticks": ""
                        },
                        "type": "contourcarpet"
                      }
                    ],
                    "heatmap": [
                      {
                        "colorbar": {
                          "outlinewidth": 0,
                          "ticks": ""
                        },
                        "colorscale": [
                          [
                            0,
                            "#0d0887"
                          ],
                          [
                            0.1111111111111111,
                            "#46039f"
                          ],
                          [
                            0.2222222222222222,
                            "#7201a8"
                          ],
                          [
                            0.3333333333333333,
                            "#9c179e"
                          ],
                          [
                            0.4444444444444444,
                            "#bd3786"
                          ],
                          [
                            0.5555555555555556,
                            "#d8576b"
                          ],
                          [
                            0.6666666666666666,
                            "#ed7953"
                          ],
                          [
                            0.7777777777777778,
                            "#fb9f3a"
                          ],
                          [
                            0.8888888888888888,
                            "#fdca26"
                          ],
                          [
                            1,
                            "#f0f921"
                          ]
                        ],
                        "type": "heatmap"
                      }
                    ],
                    "heatmapgl": [
                      {
                        "colorbar": {
                          "outlinewidth": 0,
                          "ticks": ""
                        },
                        "colorscale": [
                          [
                            0,
                            "#0d0887"
                          ],
                          [
                            0.1111111111111111,
                            "#46039f"
                          ],
                          [
                            0.2222222222222222,
                            "#7201a8"
                          ],
                          [
                            0.3333333333333333,
                            "#9c179e"
                          ],
                          [
                            0.4444444444444444,
                            "#bd3786"
                          ],
                          [
                            0.5555555555555556,
                            "#d8576b"
                          ],
                          [
                            0.6666666666666666,
                            "#ed7953"
                          ],
                          [
                            0.7777777777777778,
                            "#fb9f3a"
                          ],
                          [
                            0.8888888888888888,
                            "#fdca26"
                          ],
                          [
                            1,
                            "#f0f921"
                          ]
                        ],
                        "type": "heatmapgl"
                      }
                    ],
                    "histogram": [
                      {
                        "marker": {
                          "pattern": {
                            "fillmode": "overlay",
                            "size": 10,
                            "solidity": 0.2
                          }
                        },
                        "type": "histogram"
                      }
                    ],
                    "histogram2d": [
                      {
                        "colorbar": {
                          "outlinewidth": 0,
                          "ticks": ""
                        },
                        "colorscale": [
                          [
                            0,
                            "#0d0887"
                          ],
                          [
                            0.1111111111111111,
                            "#46039f"
                          ],
                          [
                            0.2222222222222222,
                            "#7201a8"
                          ],
                          [
                            0.3333333333333333,
                            "#9c179e"
                          ],
                          [
                            0.4444444444444444,
                            "#bd3786"
                          ],
                          [
                            0.5555555555555556,
                            "#d8576b"
                          ],
                          [
                            0.6666666666666666,
                            "#ed7953"
                          ],
                          [
                            0.7777777777777778,
                            "#fb9f3a"
                          ],
                          [
                            0.8888888888888888,
                            "#fdca26"
                          ],
                          [
                            1,
                            "#f0f921"
                          ]
                        ],
                        "type": "histogram2d"
                      }
                    ],
                    "histogram2dcontour": [
                      {
                        "colorbar": {
                          "outlinewidth": 0,
                          "ticks": ""
                        },
                        "colorscale": [
                          [
                            0,
                            "#0d0887"
                          ],
                          [
                            0.1111111111111111,
                            "#46039f"
                          ],
                          [
                            0.2222222222222222,
                            "#7201a8"
                          ],
                          [
                            0.3333333333333333,
                            "#9c179e"
                          ],
                          [
                            0.4444444444444444,
                            "#bd3786"
                          ],
                          [
                            0.5555555555555556,
                            "#d8576b"
                          ],
                          [
                            0.6666666666666666,
                            "#ed7953"
                          ],
                          [
                            0.7777777777777778,
                            "#fb9f3a"
                          ],
                          [
                            0.8888888888888888,
                            "#fdca26"
                          ],
                          [
                            1,
                            "#f0f921"
                          ]
                        ],
                        "type": "histogram2dcontour"
                      }
                    ],
                    "mesh3d": [
                      {
                        "colorbar": {
                          "outlinewidth": 0,
                          "ticks": ""
                        },
                        "type": "mesh3d"
                      }
                    ],
                    "parcoords": [
                      {
                        "line": {
                          "colorbar": {
                            "outlinewidth": 0,
                            "ticks": ""
                          }
                        },
                        "type": "parcoords"
                      }
                    ],
                    "pie": [
                      {
                        "automargin": true,
                        "type": "pie"
                      }
                    ],
                    "scatter": [
                      {
                        "fillpattern": {
                          "fillmode": "overlay",
                          "size": 10,
                          "solidity": 0.2
                        },
                        "type": "scatter"
                      }
                    ],
                    "scatter3d": [
                      {
                        "line": {
                          "colorbar": {
                            "outlinewidth": 0,
                            "ticks": ""
                          }
                        },
                        "marker": {
                          "colorbar": {
                            "outlinewidth": 0,
                            "ticks": ""
                          }
                        },
                        "type": "scatter3d"
                      }
                    ],
                    "scattercarpet": [
                      {
                        "marker": {
                          "colorbar": {
                            "outlinewidth": 0,
                            "ticks": ""
                          }
                        },
                        "type": "scattercarpet"
                      }
                    ],
                    "scattergeo": [
                      {
                        "marker": {
                          "colorbar": {
                            "outlinewidth": 0,
                            "ticks": ""
                          }
                        },
                        "type": "scattergeo"
                      }
                    ],
                    "scattergl": [
                      {
                        "marker": {
                          "colorbar": {
                            "outlinewidth": 0,
                            "ticks": ""
                          }
                        },
                        "type": "scattergl"
                      }
                    ],
                    "scattermapbox": [
                      {
                        "marker": {
                          "colorbar": {
                            "outlinewidth": 0,
                            "ticks": ""
                          }
                        },
                        "type": "scattermapbox"
                      }
                    ],
                    "scatterpolar": [
                      {
                        "marker": {
                          "colorbar": {
                            "outlinewidth": 0,
                            "ticks": ""
                          }
                        },
                        "type": "scatterpolar"
                      }
                    ],
                    "scatterpolargl": [
                      {
                        "marker": {
                          "colorbar": {
                            "outlinewidth": 0,
                            "ticks": ""
                          }
                        },
                        "type": "scatterpolargl"
                      }
                    ],
                    "scatterternary": [
                      {
                        "marker": {
                          "colorbar": {
                            "outlinewidth": 0,
                            "ticks": ""
                          }
                        },
                        "type": "scatterternary"
                      }
                    ],
                    "surface": [
                      {
                        "colorbar": {
                          "outlinewidth": 0,
                          "ticks": ""
                        },
                        "colorscale": [
                          [
                            0,
                            "#0d0887"
                          ],
                          [
                            0.1111111111111111,
                            "#46039f"
                          ],
                          [
                            0.2222222222222222,
                            "#7201a8"
                          ],
                          [
                            0.3333333333333333,
                            "#9c179e"
                          ],
                          [
                            0.4444444444444444,
                            "#bd3786"
                          ],
                          [
                            0.5555555555555556,
                            "#d8576b"
                          ],
                          [
                            0.6666666666666666,
                            "#ed7953"
                          ],
                          [
                            0.7777777777777778,
                            "#fb9f3a"
                          ],
                          [
                            0.8888888888888888,
                            "#fdca26"
                          ],
                          [
                            1,
                            "#f0f921"
                          ]
                        ],
                        "type": "surface"
                      }
                    ],
                    "table": [
                      {
                        "cells": {
                          "fill": {
                            "color": "#EBF0F8"
                          },
                          "line": {
                            "color": "white"
                          }
                        },
                        "header": {
                          "fill": {
                            "color": "#C8D4E3"
                          },
                          "line": {
                            "color": "white"
                          }
                        },
                        "type": "table"
                      }
                    ]
                  },
                  "layout": {
                    "annotationdefaults": {
                      "arrowcolor": "#2a3f5f",
                      "arrowhead": 0,
                      "arrowwidth": 1
                    },
                    "autotypenumbers": "strict",
                    "coloraxis": {
                      "colorbar": {
                        "outlinewidth": 0,
                        "ticks": ""
                      }
                    },
                    "colorscale": {
                      "diverging": [
                        [
                          0,
                          "#8e0152"
                        ],
                        [
                          0.1,
                          "#c51b7d"
                        ],
                        [
                          0.2,
                          "#de77ae"
                        ],
                        [
                          0.3,
                          "#f1b6da"
                        ],
                        [
                          0.4,
                          "#fde0ef"
                        ],
                        [
                          0.5,
                          "#f7f7f7"
                        ],
                        [
                          0.6,
                          "#e6f5d0"
                        ],
                        [
                          0.7,
                          "#b8e186"
                        ],
                        [
                          0.8,
                          "#7fbc41"
                        ],
                        [
                          0.9,
                          "#4d9221"
                        ],
                        [
                          1,
                          "#276419"
                        ]
                      ],
                      "sequential": [
                        [
                          0,
                          "#0d0887"
                        ],
                        [
                          0.1111111111111111,
                          "#46039f"
                        ],
                        [
                          0.2222222222222222,
                          "#7201a8"
                        ],
                        [
                          0.3333333333333333,
                          "#9c179e"
                        ],
                        [
                          0.4444444444444444,
                          "#bd3786"
                        ],
                        [
                          0.5555555555555556,
                          "#d8576b"
                        ],
                        [
                          0.6666666666666666,
                          "#ed7953"
                        ],
                        [
                          0.7777777777777778,
                          "#fb9f3a"
                        ],
                        [
                          0.8888888888888888,
                          "#fdca26"
                        ],
                        [
                          1,
                          "#f0f921"
                        ]
                      ],
                      "sequentialminus": [
                        [
                          0,
                          "#0d0887"
                        ],
                        [
                          0.1111111111111111,
                          "#46039f"
                        ],
                        [
                          0.2222222222222222,
                          "#7201a8"
                        ],
                        [
                          0.3333333333333333,
                          "#9c179e"
                        ],
                        [
                          0.4444444444444444,
                          "#bd3786"
                        ],
                        [
                          0.5555555555555556,
                          "#d8576b"
                        ],
                        [
                          0.6666666666666666,
                          "#ed7953"
                        ],
                        [
                          0.7777777777777778,
                          "#fb9f3a"
                        ],
                        [
                          0.8888888888888888,
                          "#fdca26"
                        ],
                        [
                          1,
                          "#f0f921"
                        ]
                      ]
                    },
                    "colorway": [
                      "#636efa",
                      "#EF553B",
                      "#00cc96",
                      "#ab63fa",
                      "#FFA15A",
                      "#19d3f3",
                      "#FF6692",
                      "#B6E880",
                      "#FF97FF",
                      "#FECB52"
                    ],
                    "font": {
                      "color": "#2a3f5f"
                    },
                    "geo": {
                      "bgcolor": "white",
                      "lakecolor": "white",
                      "landcolor": "#E5ECF6",
                      "showlakes": true,
                      "showland": true,
                      "subunitcolor": "white"
                    },
                    "hoverlabel": {
                      "align": "left"
                    },
                    "hovermode": "closest",
                    "mapbox": {
                      "style": "light"
                    },
                    "paper_bgcolor": "white",
                    "plot_bgcolor": "#E5ECF6",
                    "polar": {
                      "angularaxis": {
                        "gridcolor": "white",
                        "linecolor": "white",
                        "ticks": ""
                      },
                      "bgcolor": "#E5ECF6",
                      "radialaxis": {
                        "gridcolor": "white",
                        "linecolor": "white",
                        "ticks": ""
                      }
                    },
                    "scene": {
                      "xaxis": {
                        "backgroundcolor": "#E5ECF6",
                        "gridcolor": "white",
                        "gridwidth": 2,
                        "linecolor": "white",
                        "showbackground": true,
                        "ticks": "",
                        "zerolinecolor": "white"
                      },
                      "yaxis": {
                        "backgroundcolor": "#E5ECF6",
                        "gridcolor": "white",
                        "gridwidth": 2,
                        "linecolor": "white",
                        "showbackground": true,
                        "ticks": "",
                        "zerolinecolor": "white"
                      },
                      "zaxis": {
                        "backgroundcolor": "#E5ECF6",
                        "gridcolor": "white",
                        "gridwidth": 2,
                        "linecolor": "white",
                        "showbackground": true,
                        "ticks": "",
                        "zerolinecolor": "white"
                      }
                    },
                    "shapedefaults": {
                      "line": {
                        "color": "#2a3f5f"
                      }
                    },
                    "ternary": {
                      "aaxis": {
                        "gridcolor": "white",
                        "linecolor": "white",
                        "ticks": ""
                      },
                      "baxis": {
                        "gridcolor": "white",
                        "linecolor": "white",
                        "ticks": ""
                      },
                      "bgcolor": "#E5ECF6",
                      "caxis": {
                        "gridcolor": "white",
                        "linecolor": "white",
                        "ticks": ""
                      }
                    },
                    "title": {
                      "x": 0.05
                    },
                    "xaxis": {
                      "automargin": true,
                      "gridcolor": "white",
                      "linecolor": "white",
                      "ticks": "",
                      "title": {
                        "standoff": 15
                      },
                      "zerolinecolor": "white",
                      "zerolinewidth": 2
                    },
                    "yaxis": {
                      "automargin": true,
                      "gridcolor": "white",
                      "linecolor": "white",
                      "ticks": "",
                      "title": {
                        "standoff": 15
                      },
                      "zerolinecolor": "white",
                      "zerolinewidth": 2
                    }
                  }
                },
                "title": {
                  "text": "Precio de acciones 2018/19"
                },
                "xaxis": {
                  "title": {
                    "text": "Fecha"
                  }
                },
                "yaxis": {
                  "title": {
                    "text": "Precio"
                  }
                }
              }
            }
          },
          "metadata": {},
          "output_type": "display_data"
        }
      ],
      "source": [
        "# Agregar lineas, definiendo x e y, nombre, marcadores, colores y formas.\n",
        "\n",
        "fig = go.Figure()\n",
        "fig.add_trace(go.Scatter(x=df_stocks.date, y=df_stocks.AAPL,\n",
        "                         mode='lines', name='Apple'))\n",
        "fig.add_trace(go.Scatter(x=df_stocks.date, y=df_stocks.AMZN,\n",
        "                         mode='lines+markers', name='Amazon'))\n",
        "fig.add_trace(go.Scatter(x=df_stocks.date, y=df_stocks.GOOG,\n",
        "                         mode='lines+markers', name='Alphabet',\n",
        "                         line=dict(color='firebrick',width=2,\n",
        "                                   dash='dashdot')))\n",
        "fig.update_layout(title='Precio de acciones 2018/19',\n",
        "                  xaxis_title='Fecha',yaxis_title='Precio')"
      ]
    },
    {
      "attachments": {},
      "cell_type": "markdown",
      "metadata": {},
      "source": [
        "Porcentaje de crecimiento diarios"
      ]
    },
    {
      "cell_type": "code",
      "execution_count": 14,
      "metadata": {},
      "outputs": [
        {
          "data": {
            "application/vnd.plotly.v1+json": {
              "config": {
                "plotlyServerURL": "https://plot.ly"
              },
              "data": [
                {
                  "hovertemplate": "variable=AAPL_pct_change<br>date=%{x}<br>value=%{y}<extra></extra>",
                  "legendgroup": "AAPL_pct_change",
                  "line": {
                    "color": "#636efa",
                    "dash": "solid"
                  },
                  "marker": {
                    "symbol": "circle"
                  },
                  "mode": "lines",
                  "name": "AAPL_pct_change",
                  "orientation": "v",
                  "showlegend": true,
                  "type": "scatter",
                  "x": [
                    "2019-01-07T00:00:00",
                    "2019-01-14T00:00:00",
                    "2019-01-21T00:00:00",
                    "2019-01-28T00:00:00",
                    "2019-02-04T00:00:00",
                    "2019-02-11T00:00:00",
                    "2019-02-18T00:00:00",
                    "2019-02-25T00:00:00",
                    "2019-03-04T00:00:00",
                    "2019-03-11T00:00:00",
                    "2019-03-18T00:00:00",
                    "2019-03-25T00:00:00",
                    "2019-04-01T00:00:00",
                    "2019-04-08T00:00:00",
                    "2019-04-15T00:00:00",
                    "2019-04-22T00:00:00",
                    "2019-04-29T00:00:00",
                    "2019-05-06T00:00:00",
                    "2019-05-13T00:00:00",
                    "2019-05-20T00:00:00",
                    "2019-05-27T00:00:00",
                    "2019-06-03T00:00:00",
                    "2019-06-10T00:00:00",
                    "2019-06-17T00:00:00",
                    "2019-06-24T00:00:00",
                    "2019-07-01T00:00:00",
                    "2019-07-08T00:00:00",
                    "2019-07-15T00:00:00",
                    "2019-07-22T00:00:00",
                    "2019-07-29T00:00:00",
                    "2019-08-05T00:00:00",
                    "2019-08-12T00:00:00",
                    "2019-08-19T00:00:00",
                    "2019-08-26T00:00:00",
                    "2019-09-02T00:00:00",
                    "2019-09-09T00:00:00",
                    "2019-09-16T00:00:00",
                    "2019-09-23T00:00:00",
                    "2019-09-30T00:00:00",
                    "2019-10-07T00:00:00",
                    "2019-10-14T00:00:00",
                    "2019-10-21T00:00:00",
                    "2019-10-28T00:00:00",
                    "2019-11-04T00:00:00",
                    "2019-11-11T00:00:00",
                    "2019-11-18T00:00:00",
                    "2019-11-25T00:00:00",
                    "2019-12-02T00:00:00",
                    "2019-12-09T00:00:00",
                    "2019-12-16T00:00:00",
                    "2019-12-23T00:00:00",
                    "2019-12-30T00:00:00"
                  ],
                  "xaxis": "x",
                  "y": [
                    null,
                    2.9745972869011927,
                    0.5994056612942389,
                    5.5527442175692165,
                    2.336055672926851,
                    0.005864679165168418,
                    1.4963050287091217,
                    1.1562698667036742,
                    -1.1773429663522683,
                    7.639807237526863,
                    2.648833082119939,
                    -0.5757686379099125,
                    3.71150466509349,
                    0.9492360406091249,
                    2.509179929330241,
                    0.2158353761609222,
                    3.646596618013742,
                    -6.880758913813468,
                    -4.148490359262757,
                    -5.306877777777796,
                    -2.179132803379713,
                    8.613689608180607,
                    1.3620883942809803,
                    3.13375212374829,
                    -0.4326396037460767,
                    3.188155852750185,
                    -0.45536552818620235,
                    -0.3492410179649519,
                    2.5420845558435046,
                    -1.7907003516245967,
                    -1.4851479955858005,
                    2.7414273660026023,
                    -1.869249878934598,
                    3.0102674842590993,
                    2.1653683490138853,
                    2.5743248282454223,
                    -0.4662875428571467,
                    0.500625095313012,
                    3.7427966995723816,
                    4.052690279121851,
                    0.0846691478231909,
                    4.301847564792571,
                    3.7472645490528977,
                    1.6886904392900304,
                    2.1603731359821854,
                    -1.4975958948827528,
                    2.089541225798519,
                    1.29466454630498,
                    1.640132668764327,
                    1.559152496292615,
                    3.70740979310471,
                    1.3285045408628626
                  ],
                  "yaxis": "y"
                },
                {
                  "hovertemplate": "variable=AMZN_pct_change<br>date=%{x}<br>value=%{y}<extra></extra>",
                  "legendgroup": "AMZN_pct_change",
                  "line": {
                    "color": "#EF553B",
                    "dash": "solid"
                  },
                  "marker": {
                    "symbol": "circle"
                  },
                  "mode": "lines",
                  "name": "AMZN_pct_change",
                  "orientation": "v",
                  "showlegend": true,
                  "type": "scatter",
                  "x": [
                    "2019-01-07T00:00:00",
                    "2019-01-14T00:00:00",
                    "2019-01-21T00:00:00",
                    "2019-01-28T00:00:00",
                    "2019-02-04T00:00:00",
                    "2019-02-11T00:00:00",
                    "2019-02-18T00:00:00",
                    "2019-02-25T00:00:00",
                    "2019-03-04T00:00:00",
                    "2019-03-11T00:00:00",
                    "2019-03-18T00:00:00",
                    "2019-03-25T00:00:00",
                    "2019-04-01T00:00:00",
                    "2019-04-08T00:00:00",
                    "2019-04-15T00:00:00",
                    "2019-04-22T00:00:00",
                    "2019-04-29T00:00:00",
                    "2019-05-06T00:00:00",
                    "2019-05-13T00:00:00",
                    "2019-05-20T00:00:00",
                    "2019-05-27T00:00:00",
                    "2019-06-03T00:00:00",
                    "2019-06-10T00:00:00",
                    "2019-06-17T00:00:00",
                    "2019-06-24T00:00:00",
                    "2019-07-01T00:00:00",
                    "2019-07-08T00:00:00",
                    "2019-07-15T00:00:00",
                    "2019-07-22T00:00:00",
                    "2019-07-29T00:00:00",
                    "2019-08-05T00:00:00",
                    "2019-08-12T00:00:00",
                    "2019-08-19T00:00:00",
                    "2019-08-26T00:00:00",
                    "2019-09-02T00:00:00",
                    "2019-09-09T00:00:00",
                    "2019-09-16T00:00:00",
                    "2019-09-23T00:00:00",
                    "2019-09-30T00:00:00",
                    "2019-10-07T00:00:00",
                    "2019-10-14T00:00:00",
                    "2019-10-21T00:00:00",
                    "2019-10-28T00:00:00",
                    "2019-11-04T00:00:00",
                    "2019-11-11T00:00:00",
                    "2019-11-18T00:00:00",
                    "2019-11-25T00:00:00",
                    "2019-12-02T00:00:00",
                    "2019-12-09T00:00:00",
                    "2019-12-16T00:00:00",
                    "2019-12-23T00:00:00",
                    "2019-12-30T00:00:00"
                  ],
                  "xaxis": "x",
                  "y": [
                    null,
                    3.39151814008658,
                    -1.5110249817475663,
                    -2.654181951864232,
                    -2.3373083430672015,
                    1.2422699852827845,
                    1.4683360004654977,
                    2.462055918715045,
                    -3.046540506499751,
                    5.649058072060842,
                    3.0606902438215844,
                    0.905499289930134,
                    3.17450675277271,
                    0.3145971168666106,
                    1.010812529359928,
                    4.7773832817846085,
                    0.6064684727332459,
                    -3.6933227908031663,
                    -1.1100636103034356,
                    -2.446226377742111,
                    -2.6441403532753815,
                    1.6314896810269097,
                    3.6385211967001174,
                    2.2265963523133703,
                    -0.9245039264894506,
                    2.602410654134113,
                    3.504535197639491,
                    -2.3112869219293675,
                    -1.0928863427922875,
                    -6.166081983408556,
                    -0.8589123804815246,
                    -0.8303925892835906,
                    -2.395998610589223,
                    1.5243335167760108,
                    3.2213191395372265,
                    0.3179669578133204,
                    -2.456312200851707,
                    -3.829651853676297,
                    0.8229779711529828,
                    -0.4443410969653505,
                    1.4775489254629903,
                    0.21734988581940673,
                    1.7095028048225602,
                    -0.31036128383387096,
                    -2.5975997754675517,
                    0.35814986207538535,
                    3.1551496754916863,
                    -2.7321230376088135,
                    0.5332247732344086,
                    1.4515008947712849,
                    4.662751133501231,
                    -1.1744615693931704
                  ],
                  "yaxis": "y"
                },
                {
                  "hovertemplate": "variable=GOOG_pct_change<br>date=%{x}<br>value=%{y}<extra></extra>",
                  "legendgroup": "GOOG_pct_change",
                  "line": {
                    "color": "#00cc96",
                    "dash": "solid"
                  },
                  "marker": {
                    "symbol": "circle"
                  },
                  "mode": "lines",
                  "name": "GOOG_pct_change",
                  "orientation": "v",
                  "showlegend": true,
                  "type": "scatter",
                  "x": [
                    "2019-01-07T00:00:00",
                    "2019-01-14T00:00:00",
                    "2019-01-21T00:00:00",
                    "2019-01-28T00:00:00",
                    "2019-02-04T00:00:00",
                    "2019-02-11T00:00:00",
                    "2019-02-18T00:00:00",
                    "2019-02-25T00:00:00",
                    "2019-03-04T00:00:00",
                    "2019-03-11T00:00:00",
                    "2019-03-18T00:00:00",
                    "2019-03-25T00:00:00",
                    "2019-04-01T00:00:00",
                    "2019-04-08T00:00:00",
                    "2019-04-15T00:00:00",
                    "2019-04-22T00:00:00",
                    "2019-04-29T00:00:00",
                    "2019-05-06T00:00:00",
                    "2019-05-13T00:00:00",
                    "2019-05-20T00:00:00",
                    "2019-05-27T00:00:00",
                    "2019-06-03T00:00:00",
                    "2019-06-10T00:00:00",
                    "2019-06-17T00:00:00",
                    "2019-06-24T00:00:00",
                    "2019-07-01T00:00:00",
                    "2019-07-08T00:00:00",
                    "2019-07-15T00:00:00",
                    "2019-07-22T00:00:00",
                    "2019-07-29T00:00:00",
                    "2019-08-05T00:00:00",
                    "2019-08-12T00:00:00",
                    "2019-08-19T00:00:00",
                    "2019-08-26T00:00:00",
                    "2019-09-02T00:00:00",
                    "2019-09-09T00:00:00",
                    "2019-09-16T00:00:00",
                    "2019-09-23T00:00:00",
                    "2019-09-30T00:00:00",
                    "2019-10-07T00:00:00",
                    "2019-10-14T00:00:00",
                    "2019-10-21T00:00:00",
                    "2019-10-28T00:00:00",
                    "2019-11-04T00:00:00",
                    "2019-11-11T00:00:00",
                    "2019-11-18T00:00:00",
                    "2019-11-25T00:00:00",
                    "2019-12-02T00:00:00",
                    "2019-12-09T00:00:00",
                    "2019-12-16T00:00:00",
                    "2019-12-23T00:00:00",
                    "2019-12-30T00:00:00"
                  ],
                  "xaxis": "x",
                  "y": [
                    null,
                    3.8848335012676705,
                    -0.6619580002735326,
                    1.8111999359407438,
                    -1.4125537699752555,
                    1.697620586854054,
                    -0.2945296034941536,
                    2.757638907560689,
                    0.11656158350699108,
                    3.6889853099001835,
                    1.7763402472664946,
                    -2.6702564081294344,
                    2.884145136268712,
                    0.8880396625829956,
                    1.519045552969711,
                    2.8963869347217397,
                    -6.821363825595705,
                    -1.7825209694782407,
                    -0.1692022439949148,
                    -2.4804333463467,
                    -2.6326207807405466,
                    -3.4060297227964664,
                    1.8113707078126096,
                    3.3657373020479,
                    -3.6519031284455328,
                    4.68863553911647,
                    1.1762262303411042,
                    -1.2926934832521386,
                    10.645965892844167,
                    -4.512123420788228,
                    -0.5008400447310324,
                    -0.8762581049296392,
                    -2.2341998587132705,
                    3.197277467281201,
                    1.416554022386407,
                    2.874026163181731,
                    -0.7768889397556822,
                    -0.3935254679124922,
                    -1.3133701561963473,
                    0.5334947063688977,
                    2.4715159168244405,
                    1.5768906340226874,
                    0.6805612835022457,
                    2.954292500465483,
                    1.7920190403624359,
                    -2.9613392426278695,
                    0.7426617916921341,
                    2.7326534963320714,
                    0.5378079565343086,
                    0.13058101225342789,
                    0.17042576322772174,
                    -1.0999411812358195
                  ],
                  "yaxis": "y"
                }
              ],
              "layout": {
                "legend": {
                  "title": {
                    "text": "variable"
                  },
                  "tracegroupgap": 0
                },
                "template": {
                  "data": {
                    "bar": [
                      {
                        "error_x": {
                          "color": "#2a3f5f"
                        },
                        "error_y": {
                          "color": "#2a3f5f"
                        },
                        "marker": {
                          "line": {
                            "color": "#E5ECF6",
                            "width": 0.5
                          },
                          "pattern": {
                            "fillmode": "overlay",
                            "size": 10,
                            "solidity": 0.2
                          }
                        },
                        "type": "bar"
                      }
                    ],
                    "barpolar": [
                      {
                        "marker": {
                          "line": {
                            "color": "#E5ECF6",
                            "width": 0.5
                          },
                          "pattern": {
                            "fillmode": "overlay",
                            "size": 10,
                            "solidity": 0.2
                          }
                        },
                        "type": "barpolar"
                      }
                    ],
                    "carpet": [
                      {
                        "aaxis": {
                          "endlinecolor": "#2a3f5f",
                          "gridcolor": "white",
                          "linecolor": "white",
                          "minorgridcolor": "white",
                          "startlinecolor": "#2a3f5f"
                        },
                        "baxis": {
                          "endlinecolor": "#2a3f5f",
                          "gridcolor": "white",
                          "linecolor": "white",
                          "minorgridcolor": "white",
                          "startlinecolor": "#2a3f5f"
                        },
                        "type": "carpet"
                      }
                    ],
                    "choropleth": [
                      {
                        "colorbar": {
                          "outlinewidth": 0,
                          "ticks": ""
                        },
                        "type": "choropleth"
                      }
                    ],
                    "contour": [
                      {
                        "colorbar": {
                          "outlinewidth": 0,
                          "ticks": ""
                        },
                        "colorscale": [
                          [
                            0,
                            "#0d0887"
                          ],
                          [
                            0.1111111111111111,
                            "#46039f"
                          ],
                          [
                            0.2222222222222222,
                            "#7201a8"
                          ],
                          [
                            0.3333333333333333,
                            "#9c179e"
                          ],
                          [
                            0.4444444444444444,
                            "#bd3786"
                          ],
                          [
                            0.5555555555555556,
                            "#d8576b"
                          ],
                          [
                            0.6666666666666666,
                            "#ed7953"
                          ],
                          [
                            0.7777777777777778,
                            "#fb9f3a"
                          ],
                          [
                            0.8888888888888888,
                            "#fdca26"
                          ],
                          [
                            1,
                            "#f0f921"
                          ]
                        ],
                        "type": "contour"
                      }
                    ],
                    "contourcarpet": [
                      {
                        "colorbar": {
                          "outlinewidth": 0,
                          "ticks": ""
                        },
                        "type": "contourcarpet"
                      }
                    ],
                    "heatmap": [
                      {
                        "colorbar": {
                          "outlinewidth": 0,
                          "ticks": ""
                        },
                        "colorscale": [
                          [
                            0,
                            "#0d0887"
                          ],
                          [
                            0.1111111111111111,
                            "#46039f"
                          ],
                          [
                            0.2222222222222222,
                            "#7201a8"
                          ],
                          [
                            0.3333333333333333,
                            "#9c179e"
                          ],
                          [
                            0.4444444444444444,
                            "#bd3786"
                          ],
                          [
                            0.5555555555555556,
                            "#d8576b"
                          ],
                          [
                            0.6666666666666666,
                            "#ed7953"
                          ],
                          [
                            0.7777777777777778,
                            "#fb9f3a"
                          ],
                          [
                            0.8888888888888888,
                            "#fdca26"
                          ],
                          [
                            1,
                            "#f0f921"
                          ]
                        ],
                        "type": "heatmap"
                      }
                    ],
                    "heatmapgl": [
                      {
                        "colorbar": {
                          "outlinewidth": 0,
                          "ticks": ""
                        },
                        "colorscale": [
                          [
                            0,
                            "#0d0887"
                          ],
                          [
                            0.1111111111111111,
                            "#46039f"
                          ],
                          [
                            0.2222222222222222,
                            "#7201a8"
                          ],
                          [
                            0.3333333333333333,
                            "#9c179e"
                          ],
                          [
                            0.4444444444444444,
                            "#bd3786"
                          ],
                          [
                            0.5555555555555556,
                            "#d8576b"
                          ],
                          [
                            0.6666666666666666,
                            "#ed7953"
                          ],
                          [
                            0.7777777777777778,
                            "#fb9f3a"
                          ],
                          [
                            0.8888888888888888,
                            "#fdca26"
                          ],
                          [
                            1,
                            "#f0f921"
                          ]
                        ],
                        "type": "heatmapgl"
                      }
                    ],
                    "histogram": [
                      {
                        "marker": {
                          "pattern": {
                            "fillmode": "overlay",
                            "size": 10,
                            "solidity": 0.2
                          }
                        },
                        "type": "histogram"
                      }
                    ],
                    "histogram2d": [
                      {
                        "colorbar": {
                          "outlinewidth": 0,
                          "ticks": ""
                        },
                        "colorscale": [
                          [
                            0,
                            "#0d0887"
                          ],
                          [
                            0.1111111111111111,
                            "#46039f"
                          ],
                          [
                            0.2222222222222222,
                            "#7201a8"
                          ],
                          [
                            0.3333333333333333,
                            "#9c179e"
                          ],
                          [
                            0.4444444444444444,
                            "#bd3786"
                          ],
                          [
                            0.5555555555555556,
                            "#d8576b"
                          ],
                          [
                            0.6666666666666666,
                            "#ed7953"
                          ],
                          [
                            0.7777777777777778,
                            "#fb9f3a"
                          ],
                          [
                            0.8888888888888888,
                            "#fdca26"
                          ],
                          [
                            1,
                            "#f0f921"
                          ]
                        ],
                        "type": "histogram2d"
                      }
                    ],
                    "histogram2dcontour": [
                      {
                        "colorbar": {
                          "outlinewidth": 0,
                          "ticks": ""
                        },
                        "colorscale": [
                          [
                            0,
                            "#0d0887"
                          ],
                          [
                            0.1111111111111111,
                            "#46039f"
                          ],
                          [
                            0.2222222222222222,
                            "#7201a8"
                          ],
                          [
                            0.3333333333333333,
                            "#9c179e"
                          ],
                          [
                            0.4444444444444444,
                            "#bd3786"
                          ],
                          [
                            0.5555555555555556,
                            "#d8576b"
                          ],
                          [
                            0.6666666666666666,
                            "#ed7953"
                          ],
                          [
                            0.7777777777777778,
                            "#fb9f3a"
                          ],
                          [
                            0.8888888888888888,
                            "#fdca26"
                          ],
                          [
                            1,
                            "#f0f921"
                          ]
                        ],
                        "type": "histogram2dcontour"
                      }
                    ],
                    "mesh3d": [
                      {
                        "colorbar": {
                          "outlinewidth": 0,
                          "ticks": ""
                        },
                        "type": "mesh3d"
                      }
                    ],
                    "parcoords": [
                      {
                        "line": {
                          "colorbar": {
                            "outlinewidth": 0,
                            "ticks": ""
                          }
                        },
                        "type": "parcoords"
                      }
                    ],
                    "pie": [
                      {
                        "automargin": true,
                        "type": "pie"
                      }
                    ],
                    "scatter": [
                      {
                        "fillpattern": {
                          "fillmode": "overlay",
                          "size": 10,
                          "solidity": 0.2
                        },
                        "type": "scatter"
                      }
                    ],
                    "scatter3d": [
                      {
                        "line": {
                          "colorbar": {
                            "outlinewidth": 0,
                            "ticks": ""
                          }
                        },
                        "marker": {
                          "colorbar": {
                            "outlinewidth": 0,
                            "ticks": ""
                          }
                        },
                        "type": "scatter3d"
                      }
                    ],
                    "scattercarpet": [
                      {
                        "marker": {
                          "colorbar": {
                            "outlinewidth": 0,
                            "ticks": ""
                          }
                        },
                        "type": "scattercarpet"
                      }
                    ],
                    "scattergeo": [
                      {
                        "marker": {
                          "colorbar": {
                            "outlinewidth": 0,
                            "ticks": ""
                          }
                        },
                        "type": "scattergeo"
                      }
                    ],
                    "scattergl": [
                      {
                        "marker": {
                          "colorbar": {
                            "outlinewidth": 0,
                            "ticks": ""
                          }
                        },
                        "type": "scattergl"
                      }
                    ],
                    "scattermapbox": [
                      {
                        "marker": {
                          "colorbar": {
                            "outlinewidth": 0,
                            "ticks": ""
                          }
                        },
                        "type": "scattermapbox"
                      }
                    ],
                    "scatterpolar": [
                      {
                        "marker": {
                          "colorbar": {
                            "outlinewidth": 0,
                            "ticks": ""
                          }
                        },
                        "type": "scatterpolar"
                      }
                    ],
                    "scatterpolargl": [
                      {
                        "marker": {
                          "colorbar": {
                            "outlinewidth": 0,
                            "ticks": ""
                          }
                        },
                        "type": "scatterpolargl"
                      }
                    ],
                    "scatterternary": [
                      {
                        "marker": {
                          "colorbar": {
                            "outlinewidth": 0,
                            "ticks": ""
                          }
                        },
                        "type": "scatterternary"
                      }
                    ],
                    "surface": [
                      {
                        "colorbar": {
                          "outlinewidth": 0,
                          "ticks": ""
                        },
                        "colorscale": [
                          [
                            0,
                            "#0d0887"
                          ],
                          [
                            0.1111111111111111,
                            "#46039f"
                          ],
                          [
                            0.2222222222222222,
                            "#7201a8"
                          ],
                          [
                            0.3333333333333333,
                            "#9c179e"
                          ],
                          [
                            0.4444444444444444,
                            "#bd3786"
                          ],
                          [
                            0.5555555555555556,
                            "#d8576b"
                          ],
                          [
                            0.6666666666666666,
                            "#ed7953"
                          ],
                          [
                            0.7777777777777778,
                            "#fb9f3a"
                          ],
                          [
                            0.8888888888888888,
                            "#fdca26"
                          ],
                          [
                            1,
                            "#f0f921"
                          ]
                        ],
                        "type": "surface"
                      }
                    ],
                    "table": [
                      {
                        "cells": {
                          "fill": {
                            "color": "#EBF0F8"
                          },
                          "line": {
                            "color": "white"
                          }
                        },
                        "header": {
                          "fill": {
                            "color": "#C8D4E3"
                          },
                          "line": {
                            "color": "white"
                          }
                        },
                        "type": "table"
                      }
                    ]
                  },
                  "layout": {
                    "annotationdefaults": {
                      "arrowcolor": "#2a3f5f",
                      "arrowhead": 0,
                      "arrowwidth": 1
                    },
                    "autotypenumbers": "strict",
                    "coloraxis": {
                      "colorbar": {
                        "outlinewidth": 0,
                        "ticks": ""
                      }
                    },
                    "colorscale": {
                      "diverging": [
                        [
                          0,
                          "#8e0152"
                        ],
                        [
                          0.1,
                          "#c51b7d"
                        ],
                        [
                          0.2,
                          "#de77ae"
                        ],
                        [
                          0.3,
                          "#f1b6da"
                        ],
                        [
                          0.4,
                          "#fde0ef"
                        ],
                        [
                          0.5,
                          "#f7f7f7"
                        ],
                        [
                          0.6,
                          "#e6f5d0"
                        ],
                        [
                          0.7,
                          "#b8e186"
                        ],
                        [
                          0.8,
                          "#7fbc41"
                        ],
                        [
                          0.9,
                          "#4d9221"
                        ],
                        [
                          1,
                          "#276419"
                        ]
                      ],
                      "sequential": [
                        [
                          0,
                          "#0d0887"
                        ],
                        [
                          0.1111111111111111,
                          "#46039f"
                        ],
                        [
                          0.2222222222222222,
                          "#7201a8"
                        ],
                        [
                          0.3333333333333333,
                          "#9c179e"
                        ],
                        [
                          0.4444444444444444,
                          "#bd3786"
                        ],
                        [
                          0.5555555555555556,
                          "#d8576b"
                        ],
                        [
                          0.6666666666666666,
                          "#ed7953"
                        ],
                        [
                          0.7777777777777778,
                          "#fb9f3a"
                        ],
                        [
                          0.8888888888888888,
                          "#fdca26"
                        ],
                        [
                          1,
                          "#f0f921"
                        ]
                      ],
                      "sequentialminus": [
                        [
                          0,
                          "#0d0887"
                        ],
                        [
                          0.1111111111111111,
                          "#46039f"
                        ],
                        [
                          0.2222222222222222,
                          "#7201a8"
                        ],
                        [
                          0.3333333333333333,
                          "#9c179e"
                        ],
                        [
                          0.4444444444444444,
                          "#bd3786"
                        ],
                        [
                          0.5555555555555556,
                          "#d8576b"
                        ],
                        [
                          0.6666666666666666,
                          "#ed7953"
                        ],
                        [
                          0.7777777777777778,
                          "#fb9f3a"
                        ],
                        [
                          0.8888888888888888,
                          "#fdca26"
                        ],
                        [
                          1,
                          "#f0f921"
                        ]
                      ]
                    },
                    "colorway": [
                      "#636efa",
                      "#EF553B",
                      "#00cc96",
                      "#ab63fa",
                      "#FFA15A",
                      "#19d3f3",
                      "#FF6692",
                      "#B6E880",
                      "#FF97FF",
                      "#FECB52"
                    ],
                    "font": {
                      "color": "#2a3f5f"
                    },
                    "geo": {
                      "bgcolor": "white",
                      "lakecolor": "white",
                      "landcolor": "#E5ECF6",
                      "showlakes": true,
                      "showland": true,
                      "subunitcolor": "white"
                    },
                    "hoverlabel": {
                      "align": "left"
                    },
                    "hovermode": "closest",
                    "mapbox": {
                      "style": "light"
                    },
                    "paper_bgcolor": "white",
                    "plot_bgcolor": "#E5ECF6",
                    "polar": {
                      "angularaxis": {
                        "gridcolor": "white",
                        "linecolor": "white",
                        "ticks": ""
                      },
                      "bgcolor": "#E5ECF6",
                      "radialaxis": {
                        "gridcolor": "white",
                        "linecolor": "white",
                        "ticks": ""
                      }
                    },
                    "scene": {
                      "xaxis": {
                        "backgroundcolor": "#E5ECF6",
                        "gridcolor": "white",
                        "gridwidth": 2,
                        "linecolor": "white",
                        "showbackground": true,
                        "ticks": "",
                        "zerolinecolor": "white"
                      },
                      "yaxis": {
                        "backgroundcolor": "#E5ECF6",
                        "gridcolor": "white",
                        "gridwidth": 2,
                        "linecolor": "white",
                        "showbackground": true,
                        "ticks": "",
                        "zerolinecolor": "white"
                      },
                      "zaxis": {
                        "backgroundcolor": "#E5ECF6",
                        "gridcolor": "white",
                        "gridwidth": 2,
                        "linecolor": "white",
                        "showbackground": true,
                        "ticks": "",
                        "zerolinecolor": "white"
                      }
                    },
                    "shapedefaults": {
                      "line": {
                        "color": "#2a3f5f"
                      }
                    },
                    "ternary": {
                      "aaxis": {
                        "gridcolor": "white",
                        "linecolor": "white",
                        "ticks": ""
                      },
                      "baxis": {
                        "gridcolor": "white",
                        "linecolor": "white",
                        "ticks": ""
                      },
                      "bgcolor": "#E5ECF6",
                      "caxis": {
                        "gridcolor": "white",
                        "linecolor": "white",
                        "ticks": ""
                      }
                    },
                    "title": {
                      "x": 0.05
                    },
                    "xaxis": {
                      "automargin": true,
                      "gridcolor": "white",
                      "linecolor": "white",
                      "ticks": "",
                      "title": {
                        "standoff": 15
                      },
                      "zerolinecolor": "white",
                      "zerolinewidth": 2
                    },
                    "yaxis": {
                      "automargin": true,
                      "gridcolor": "white",
                      "linecolor": "white",
                      "ticks": "",
                      "title": {
                        "standoff": 15
                      },
                      "zerolinecolor": "white",
                      "zerolinewidth": 2
                    }
                  }
                },
                "title": {
                  "text": "Crecimiento porcentual diario de acciones"
                },
                "xaxis": {
                  "anchor": "y",
                  "domain": [
                    0,
                    1
                  ],
                  "title": {
                    "text": "date"
                  }
                },
                "yaxis": {
                  "anchor": "x",
                  "domain": [
                    0,
                    1
                  ],
                  "title": {
                    "text": "value"
                  }
                }
              }
            }
          },
          "metadata": {},
          "output_type": "display_data"
        }
      ],
      "source": [
        "import plotly.express as px\n",
        "\n",
        "# Calcular el cambio porcentual diario para cada acción\n",
        "df_stocks['AAPL_pct_change'] = df_stocks.AAPL.pct_change() * 100\n",
        "df_stocks['AMZN_pct_change'] = df_stocks.AMZN.pct_change() * 100\n",
        "df_stocks['GOOG_pct_change'] = df_stocks.GOOG.pct_change() * 100\n",
        "\n",
        "# Graficar los cambios porcentuales de cada acción\n",
        "fig = px.line(df_stocks, x='date', y=['AAPL_pct_change', 'AMZN_pct_change', 'GOOG_pct_change'],\n",
        "              labels={'x': 'Fecha', 'y': 'Cambio porcentual'},\n",
        "              title='Crecimiento porcentual diario de acciones')\n",
        "\n",
        "fig.show()\n"
      ]
    },
    {
      "attachments": {},
      "cell_type": "markdown",
      "metadata": {},
      "source": [
        "Gráfico con modificacion del layout\n"
      ]
    },
    {
      "cell_type": "code",
      "execution_count": 16,
      "metadata": {
        "colab": {
          "base_uri": "https://localhost:8080/",
          "height": 542
        },
        "id": "7Td017pLr8zx",
        "outputId": "9f2e023e-64af-40d0-da6c-2ebeb7fc3114"
      },
      "outputs": [
        {
          "data": {
            "application/vnd.plotly.v1+json": {
              "config": {
                "plotlyServerURL": "https://plot.ly"
              },
              "data": [
                {
                  "mode": "lines",
                  "name": "Apple",
                  "type": "scatter",
                  "x": [
                    "2019-01-07T00:00:00",
                    "2019-01-14T00:00:00",
                    "2019-01-21T00:00:00",
                    "2019-01-28T00:00:00",
                    "2019-02-04T00:00:00",
                    "2019-02-11T00:00:00",
                    "2019-02-18T00:00:00",
                    "2019-02-25T00:00:00",
                    "2019-03-04T00:00:00",
                    "2019-03-11T00:00:00",
                    "2019-03-18T00:00:00",
                    "2019-03-25T00:00:00",
                    "2019-04-01T00:00:00",
                    "2019-04-08T00:00:00",
                    "2019-04-15T00:00:00",
                    "2019-04-22T00:00:00",
                    "2019-04-29T00:00:00",
                    "2019-05-06T00:00:00",
                    "2019-05-13T00:00:00",
                    "2019-05-20T00:00:00",
                    "2019-05-27T00:00:00",
                    "2019-06-03T00:00:00",
                    "2019-06-10T00:00:00",
                    "2019-06-17T00:00:00",
                    "2019-06-24T00:00:00",
                    "2019-07-01T00:00:00",
                    "2019-07-08T00:00:00",
                    "2019-07-15T00:00:00",
                    "2019-07-22T00:00:00",
                    "2019-07-29T00:00:00",
                    "2019-08-05T00:00:00",
                    "2019-08-12T00:00:00",
                    "2019-08-19T00:00:00",
                    "2019-08-26T00:00:00",
                    "2019-09-02T00:00:00",
                    "2019-09-09T00:00:00",
                    "2019-09-16T00:00:00",
                    "2019-09-23T00:00:00",
                    "2019-09-30T00:00:00",
                    "2019-10-07T00:00:00",
                    "2019-10-14T00:00:00",
                    "2019-10-21T00:00:00",
                    "2019-10-28T00:00:00",
                    "2019-11-04T00:00:00",
                    "2019-11-11T00:00:00",
                    "2019-11-18T00:00:00",
                    "2019-11-25T00:00:00",
                    "2019-12-02T00:00:00",
                    "2019-12-09T00:00:00",
                    "2019-12-16T00:00:00",
                    "2019-12-23T00:00:00",
                    "2019-12-30T00:00:00"
                  ],
                  "y": [
                    0.8702285314285714,
                    0.8961143257142857,
                    0.9014856857142858,
                    0.95154288,
                    0.9737714514285716,
                    0.97382856,
                    0.9884000057142855,
                    0.9998285771428572,
                    0.9880571657142858,
                    1.0635428285714286,
                    1.0917143028571428,
                    1.0854285542857145,
                    1.1257142857142857,
                    1.1363999714285713,
                    1.1649142914285715,
                    1.1674285885714286,
                    1.21,
                    1.126742817142857,
                    1.08,
                    1.02268572,
                    1.00040004,
                    1.0865713942857145,
                    1.1013714571428572,
                    1.135885708571429,
                    1.130971417142857,
                    1.167028548571429,
                    1.1617143028571428,
                    1.15765712,
                    1.1870857428571429,
                    1.1658285942857145,
                    1.1485143142857142,
                    1.18,
                    1.1579428514285717,
                    1.1928000285714286,
                    1.218628542857143,
                    1.25,
                    1.2441714057142856,
                    1.25040004,
                    1.2971999714285716,
                    1.3497714685714286,
                    1.3509143085714286,
                    1.409028582857143,
                    1.4618286114285712,
                    1.4865143714285716,
                    1.5186286285714288,
                    1.4958857085714288,
                    1.5271428571428571,
                    1.5469142342857145,
                    1.57228568,
                    1.5968000114285714,
                    1.6559999314285714,
                    1.6779999657142857
                  ]
                },
                {
                  "mode": "lines+markers",
                  "name": "Amazon",
                  "type": "scatter",
                  "x": [
                    "2019-01-07T00:00:00",
                    "2019-01-14T00:00:00",
                    "2019-01-21T00:00:00",
                    "2019-01-28T00:00:00",
                    "2019-02-04T00:00:00",
                    "2019-02-11T00:00:00",
                    "2019-02-18T00:00:00",
                    "2019-02-25T00:00:00",
                    "2019-03-04T00:00:00",
                    "2019-03-11T00:00:00",
                    "2019-03-18T00:00:00",
                    "2019-03-25T00:00:00",
                    "2019-04-01T00:00:00",
                    "2019-04-08T00:00:00",
                    "2019-04-15T00:00:00",
                    "2019-04-22T00:00:00",
                    "2019-04-29T00:00:00",
                    "2019-05-06T00:00:00",
                    "2019-05-13T00:00:00",
                    "2019-05-20T00:00:00",
                    "2019-05-27T00:00:00",
                    "2019-06-03T00:00:00",
                    "2019-06-10T00:00:00",
                    "2019-06-17T00:00:00",
                    "2019-06-24T00:00:00",
                    "2019-07-01T00:00:00",
                    "2019-07-08T00:00:00",
                    "2019-07-15T00:00:00",
                    "2019-07-22T00:00:00",
                    "2019-07-29T00:00:00",
                    "2019-08-05T00:00:00",
                    "2019-08-12T00:00:00",
                    "2019-08-19T00:00:00",
                    "2019-08-26T00:00:00",
                    "2019-09-02T00:00:00",
                    "2019-09-09T00:00:00",
                    "2019-09-16T00:00:00",
                    "2019-09-23T00:00:00",
                    "2019-09-30T00:00:00",
                    "2019-10-07T00:00:00",
                    "2019-10-14T00:00:00",
                    "2019-10-21T00:00:00",
                    "2019-10-28T00:00:00",
                    "2019-11-04T00:00:00",
                    "2019-11-11T00:00:00",
                    "2019-11-18T00:00:00",
                    "2019-11-25T00:00:00",
                    "2019-12-02T00:00:00",
                    "2019-12-09T00:00:00",
                    "2019-12-16T00:00:00",
                    "2019-12-23T00:00:00",
                    "2019-12-30T00:00:00"
                  ],
                  "y": [
                    1.334721869745653,
                    1.3799892040777797,
                    1.359137222458745,
                    1.3230632475991762,
                    1.2921391799289847,
                    1.3081910371293215,
                    1.3273996770823542,
                    1.3600809993969647,
                    1.3186455808291295,
                    1.393136635454831,
                    1.435776232539301,
                    1.4487771761299302,
                    1.4947687054188046,
                    1.4994712046698764,
                    1.5146280474808236,
                    1.5869876346023932,
                    1.596612214272432,
                    1.537644171481961,
                    1.5205753430783882,
                    1.483378627942562,
                    1.44415601504927,
                    1.4677172714127285,
                    1.521120475440709,
                    1.5549896884611636,
                    1.540613747734834,
                    1.58070684404494,
                    1.6361032717659916,
                    1.5982882308164057,
                    1.5808207570233568,
                    1.4833460531345568,
                    1.4706054102388,
                    1.4583936118945735,
                    1.4234505212166575,
                    1.445148654606286,
                    1.491701504811883,
                    1.4964446227063888,
                    1.4596872708598625,
                    1.4037863302335007,
                    1.4153391824933792,
                    1.4090502488441077,
                    1.4298696556551374,
                    1.43297747571907,
                    1.4574742658589632,
                    1.452950830015895,
                    1.4152089825177483,
                    1.420277551536714,
                    1.465089434095106,
                    1.425061388144621,
                    1.4326601685000062,
                    1.4534552436648156,
                    1.52122624451373,
                    1.503360026888393
                  ]
                },
                {
                  "line": {
                    "color": "firebrick",
                    "dash": "dashdot",
                    "width": 2
                  },
                  "mode": "lines+markers",
                  "name": "Google",
                  "type": "scatter",
                  "x": [
                    "2019-01-07T00:00:00",
                    "2019-01-14T00:00:00",
                    "2019-01-21T00:00:00",
                    "2019-01-28T00:00:00",
                    "2019-02-04T00:00:00",
                    "2019-02-11T00:00:00",
                    "2019-02-18T00:00:00",
                    "2019-02-25T00:00:00",
                    "2019-03-04T00:00:00",
                    "2019-03-11T00:00:00",
                    "2019-03-18T00:00:00",
                    "2019-03-25T00:00:00",
                    "2019-04-01T00:00:00",
                    "2019-04-08T00:00:00",
                    "2019-04-15T00:00:00",
                    "2019-04-22T00:00:00",
                    "2019-04-29T00:00:00",
                    "2019-05-06T00:00:00",
                    "2019-05-13T00:00:00",
                    "2019-05-20T00:00:00",
                    "2019-05-27T00:00:00",
                    "2019-06-03T00:00:00",
                    "2019-06-10T00:00:00",
                    "2019-06-17T00:00:00",
                    "2019-06-24T00:00:00",
                    "2019-07-01T00:00:00",
                    "2019-07-08T00:00:00",
                    "2019-07-15T00:00:00",
                    "2019-07-22T00:00:00",
                    "2019-07-29T00:00:00",
                    "2019-08-05T00:00:00",
                    "2019-08-12T00:00:00",
                    "2019-08-19T00:00:00",
                    "2019-08-26T00:00:00",
                    "2019-09-02T00:00:00",
                    "2019-09-09T00:00:00",
                    "2019-09-16T00:00:00",
                    "2019-09-23T00:00:00",
                    "2019-09-30T00:00:00",
                    "2019-10-07T00:00:00",
                    "2019-10-14T00:00:00",
                    "2019-10-21T00:00:00",
                    "2019-10-28T00:00:00",
                    "2019-11-04T00:00:00",
                    "2019-11-11T00:00:00",
                    "2019-11-18T00:00:00",
                    "2019-11-25T00:00:00",
                    "2019-12-02T00:00:00",
                    "2019-12-09T00:00:00",
                    "2019-12-16T00:00:00",
                    "2019-12-23T00:00:00",
                    "2019-12-30T00:00:00"
                  ],
                  "y": [
                    0.9591373489949891,
                    0.9963982380519172,
                    0.989802500200548,
                    1.0077298024501202,
                    0.9934950771344468,
                    1.0103608540932627,
                    1.0073850422758417,
                    1.035165084150587,
                    1.0363716889645844,
                    1.0746032883264525,
                    1.0936918990354445,
                    1.064487521016258,
                    1.095188886079836,
                    1.1049145977684258,
                    1.1216987538299403,
                    1.1541874899828073,
                    1.075456162061569,
                    1.0562859304552756,
                    1.0544986709579427,
                    1.0283425342867192,
                    1.001270175031893,
                    0.9671666152648106,
                    0.98468558802946,
                    1.0178275181736574,
                    0.980657443195294,
                    1.0266368965939394,
                    1.0387124690620373,
                    1.025285100664745,
                    1.1344366027859267,
                    1.0832494231376286,
                    1.0778240762422375,
                    1.068379555417282,
                    1.0445098208996275,
                    1.0779056980467905,
                    1.0931748145700046,
                    1.12459294475006,
                    1.115856106545024,
                    1.1114649285805127,
                    1.0968672799119472,
                    1.10271900878617,
                    1.129972884606169,
                    1.1477913211905195,
                    1.155602744537941,
                    1.189742629754999,
                    1.2110630442115171,
                    1.1751993590303178,
                    1.183927115646047,
                    1.216279741365772,
                    1.222820990588552,
                    1.22441776261611,
                    1.2265044859331442,
                    1.213013658002661
                  ]
                }
              ],
              "layout": {
                "autosize": false,
                "margin": {
                  "autoexpand": true,
                  "l": 100,
                  "r": 20,
                  "t": 110
                },
                "plot_bgcolor": "white",
                "showlegend": true,
                "template": {
                  "data": {
                    "bar": [
                      {
                        "error_x": {
                          "color": "#2a3f5f"
                        },
                        "error_y": {
                          "color": "#2a3f5f"
                        },
                        "marker": {
                          "line": {
                            "color": "#E5ECF6",
                            "width": 0.5
                          },
                          "pattern": {
                            "fillmode": "overlay",
                            "size": 10,
                            "solidity": 0.2
                          }
                        },
                        "type": "bar"
                      }
                    ],
                    "barpolar": [
                      {
                        "marker": {
                          "line": {
                            "color": "#E5ECF6",
                            "width": 0.5
                          },
                          "pattern": {
                            "fillmode": "overlay",
                            "size": 10,
                            "solidity": 0.2
                          }
                        },
                        "type": "barpolar"
                      }
                    ],
                    "carpet": [
                      {
                        "aaxis": {
                          "endlinecolor": "#2a3f5f",
                          "gridcolor": "white",
                          "linecolor": "white",
                          "minorgridcolor": "white",
                          "startlinecolor": "#2a3f5f"
                        },
                        "baxis": {
                          "endlinecolor": "#2a3f5f",
                          "gridcolor": "white",
                          "linecolor": "white",
                          "minorgridcolor": "white",
                          "startlinecolor": "#2a3f5f"
                        },
                        "type": "carpet"
                      }
                    ],
                    "choropleth": [
                      {
                        "colorbar": {
                          "outlinewidth": 0,
                          "ticks": ""
                        },
                        "type": "choropleth"
                      }
                    ],
                    "contour": [
                      {
                        "colorbar": {
                          "outlinewidth": 0,
                          "ticks": ""
                        },
                        "colorscale": [
                          [
                            0,
                            "#0d0887"
                          ],
                          [
                            0.1111111111111111,
                            "#46039f"
                          ],
                          [
                            0.2222222222222222,
                            "#7201a8"
                          ],
                          [
                            0.3333333333333333,
                            "#9c179e"
                          ],
                          [
                            0.4444444444444444,
                            "#bd3786"
                          ],
                          [
                            0.5555555555555556,
                            "#d8576b"
                          ],
                          [
                            0.6666666666666666,
                            "#ed7953"
                          ],
                          [
                            0.7777777777777778,
                            "#fb9f3a"
                          ],
                          [
                            0.8888888888888888,
                            "#fdca26"
                          ],
                          [
                            1,
                            "#f0f921"
                          ]
                        ],
                        "type": "contour"
                      }
                    ],
                    "contourcarpet": [
                      {
                        "colorbar": {
                          "outlinewidth": 0,
                          "ticks": ""
                        },
                        "type": "contourcarpet"
                      }
                    ],
                    "heatmap": [
                      {
                        "colorbar": {
                          "outlinewidth": 0,
                          "ticks": ""
                        },
                        "colorscale": [
                          [
                            0,
                            "#0d0887"
                          ],
                          [
                            0.1111111111111111,
                            "#46039f"
                          ],
                          [
                            0.2222222222222222,
                            "#7201a8"
                          ],
                          [
                            0.3333333333333333,
                            "#9c179e"
                          ],
                          [
                            0.4444444444444444,
                            "#bd3786"
                          ],
                          [
                            0.5555555555555556,
                            "#d8576b"
                          ],
                          [
                            0.6666666666666666,
                            "#ed7953"
                          ],
                          [
                            0.7777777777777778,
                            "#fb9f3a"
                          ],
                          [
                            0.8888888888888888,
                            "#fdca26"
                          ],
                          [
                            1,
                            "#f0f921"
                          ]
                        ],
                        "type": "heatmap"
                      }
                    ],
                    "heatmapgl": [
                      {
                        "colorbar": {
                          "outlinewidth": 0,
                          "ticks": ""
                        },
                        "colorscale": [
                          [
                            0,
                            "#0d0887"
                          ],
                          [
                            0.1111111111111111,
                            "#46039f"
                          ],
                          [
                            0.2222222222222222,
                            "#7201a8"
                          ],
                          [
                            0.3333333333333333,
                            "#9c179e"
                          ],
                          [
                            0.4444444444444444,
                            "#bd3786"
                          ],
                          [
                            0.5555555555555556,
                            "#d8576b"
                          ],
                          [
                            0.6666666666666666,
                            "#ed7953"
                          ],
                          [
                            0.7777777777777778,
                            "#fb9f3a"
                          ],
                          [
                            0.8888888888888888,
                            "#fdca26"
                          ],
                          [
                            1,
                            "#f0f921"
                          ]
                        ],
                        "type": "heatmapgl"
                      }
                    ],
                    "histogram": [
                      {
                        "marker": {
                          "pattern": {
                            "fillmode": "overlay",
                            "size": 10,
                            "solidity": 0.2
                          }
                        },
                        "type": "histogram"
                      }
                    ],
                    "histogram2d": [
                      {
                        "colorbar": {
                          "outlinewidth": 0,
                          "ticks": ""
                        },
                        "colorscale": [
                          [
                            0,
                            "#0d0887"
                          ],
                          [
                            0.1111111111111111,
                            "#46039f"
                          ],
                          [
                            0.2222222222222222,
                            "#7201a8"
                          ],
                          [
                            0.3333333333333333,
                            "#9c179e"
                          ],
                          [
                            0.4444444444444444,
                            "#bd3786"
                          ],
                          [
                            0.5555555555555556,
                            "#d8576b"
                          ],
                          [
                            0.6666666666666666,
                            "#ed7953"
                          ],
                          [
                            0.7777777777777778,
                            "#fb9f3a"
                          ],
                          [
                            0.8888888888888888,
                            "#fdca26"
                          ],
                          [
                            1,
                            "#f0f921"
                          ]
                        ],
                        "type": "histogram2d"
                      }
                    ],
                    "histogram2dcontour": [
                      {
                        "colorbar": {
                          "outlinewidth": 0,
                          "ticks": ""
                        },
                        "colorscale": [
                          [
                            0,
                            "#0d0887"
                          ],
                          [
                            0.1111111111111111,
                            "#46039f"
                          ],
                          [
                            0.2222222222222222,
                            "#7201a8"
                          ],
                          [
                            0.3333333333333333,
                            "#9c179e"
                          ],
                          [
                            0.4444444444444444,
                            "#bd3786"
                          ],
                          [
                            0.5555555555555556,
                            "#d8576b"
                          ],
                          [
                            0.6666666666666666,
                            "#ed7953"
                          ],
                          [
                            0.7777777777777778,
                            "#fb9f3a"
                          ],
                          [
                            0.8888888888888888,
                            "#fdca26"
                          ],
                          [
                            1,
                            "#f0f921"
                          ]
                        ],
                        "type": "histogram2dcontour"
                      }
                    ],
                    "mesh3d": [
                      {
                        "colorbar": {
                          "outlinewidth": 0,
                          "ticks": ""
                        },
                        "type": "mesh3d"
                      }
                    ],
                    "parcoords": [
                      {
                        "line": {
                          "colorbar": {
                            "outlinewidth": 0,
                            "ticks": ""
                          }
                        },
                        "type": "parcoords"
                      }
                    ],
                    "pie": [
                      {
                        "automargin": true,
                        "type": "pie"
                      }
                    ],
                    "scatter": [
                      {
                        "fillpattern": {
                          "fillmode": "overlay",
                          "size": 10,
                          "solidity": 0.2
                        },
                        "type": "scatter"
                      }
                    ],
                    "scatter3d": [
                      {
                        "line": {
                          "colorbar": {
                            "outlinewidth": 0,
                            "ticks": ""
                          }
                        },
                        "marker": {
                          "colorbar": {
                            "outlinewidth": 0,
                            "ticks": ""
                          }
                        },
                        "type": "scatter3d"
                      }
                    ],
                    "scattercarpet": [
                      {
                        "marker": {
                          "colorbar": {
                            "outlinewidth": 0,
                            "ticks": ""
                          }
                        },
                        "type": "scattercarpet"
                      }
                    ],
                    "scattergeo": [
                      {
                        "marker": {
                          "colorbar": {
                            "outlinewidth": 0,
                            "ticks": ""
                          }
                        },
                        "type": "scattergeo"
                      }
                    ],
                    "scattergl": [
                      {
                        "marker": {
                          "colorbar": {
                            "outlinewidth": 0,
                            "ticks": ""
                          }
                        },
                        "type": "scattergl"
                      }
                    ],
                    "scattermapbox": [
                      {
                        "marker": {
                          "colorbar": {
                            "outlinewidth": 0,
                            "ticks": ""
                          }
                        },
                        "type": "scattermapbox"
                      }
                    ],
                    "scatterpolar": [
                      {
                        "marker": {
                          "colorbar": {
                            "outlinewidth": 0,
                            "ticks": ""
                          }
                        },
                        "type": "scatterpolar"
                      }
                    ],
                    "scatterpolargl": [
                      {
                        "marker": {
                          "colorbar": {
                            "outlinewidth": 0,
                            "ticks": ""
                          }
                        },
                        "type": "scatterpolargl"
                      }
                    ],
                    "scatterternary": [
                      {
                        "marker": {
                          "colorbar": {
                            "outlinewidth": 0,
                            "ticks": ""
                          }
                        },
                        "type": "scatterternary"
                      }
                    ],
                    "surface": [
                      {
                        "colorbar": {
                          "outlinewidth": 0,
                          "ticks": ""
                        },
                        "colorscale": [
                          [
                            0,
                            "#0d0887"
                          ],
                          [
                            0.1111111111111111,
                            "#46039f"
                          ],
                          [
                            0.2222222222222222,
                            "#7201a8"
                          ],
                          [
                            0.3333333333333333,
                            "#9c179e"
                          ],
                          [
                            0.4444444444444444,
                            "#bd3786"
                          ],
                          [
                            0.5555555555555556,
                            "#d8576b"
                          ],
                          [
                            0.6666666666666666,
                            "#ed7953"
                          ],
                          [
                            0.7777777777777778,
                            "#fb9f3a"
                          ],
                          [
                            0.8888888888888888,
                            "#fdca26"
                          ],
                          [
                            1,
                            "#f0f921"
                          ]
                        ],
                        "type": "surface"
                      }
                    ],
                    "table": [
                      {
                        "cells": {
                          "fill": {
                            "color": "#EBF0F8"
                          },
                          "line": {
                            "color": "white"
                          }
                        },
                        "header": {
                          "fill": {
                            "color": "#C8D4E3"
                          },
                          "line": {
                            "color": "white"
                          }
                        },
                        "type": "table"
                      }
                    ]
                  },
                  "layout": {
                    "annotationdefaults": {
                      "arrowcolor": "#2a3f5f",
                      "arrowhead": 0,
                      "arrowwidth": 1
                    },
                    "autotypenumbers": "strict",
                    "coloraxis": {
                      "colorbar": {
                        "outlinewidth": 0,
                        "ticks": ""
                      }
                    },
                    "colorscale": {
                      "diverging": [
                        [
                          0,
                          "#8e0152"
                        ],
                        [
                          0.1,
                          "#c51b7d"
                        ],
                        [
                          0.2,
                          "#de77ae"
                        ],
                        [
                          0.3,
                          "#f1b6da"
                        ],
                        [
                          0.4,
                          "#fde0ef"
                        ],
                        [
                          0.5,
                          "#f7f7f7"
                        ],
                        [
                          0.6,
                          "#e6f5d0"
                        ],
                        [
                          0.7,
                          "#b8e186"
                        ],
                        [
                          0.8,
                          "#7fbc41"
                        ],
                        [
                          0.9,
                          "#4d9221"
                        ],
                        [
                          1,
                          "#276419"
                        ]
                      ],
                      "sequential": [
                        [
                          0,
                          "#0d0887"
                        ],
                        [
                          0.1111111111111111,
                          "#46039f"
                        ],
                        [
                          0.2222222222222222,
                          "#7201a8"
                        ],
                        [
                          0.3333333333333333,
                          "#9c179e"
                        ],
                        [
                          0.4444444444444444,
                          "#bd3786"
                        ],
                        [
                          0.5555555555555556,
                          "#d8576b"
                        ],
                        [
                          0.6666666666666666,
                          "#ed7953"
                        ],
                        [
                          0.7777777777777778,
                          "#fb9f3a"
                        ],
                        [
                          0.8888888888888888,
                          "#fdca26"
                        ],
                        [
                          1,
                          "#f0f921"
                        ]
                      ],
                      "sequentialminus": [
                        [
                          0,
                          "#0d0887"
                        ],
                        [
                          0.1111111111111111,
                          "#46039f"
                        ],
                        [
                          0.2222222222222222,
                          "#7201a8"
                        ],
                        [
                          0.3333333333333333,
                          "#9c179e"
                        ],
                        [
                          0.4444444444444444,
                          "#bd3786"
                        ],
                        [
                          0.5555555555555556,
                          "#d8576b"
                        ],
                        [
                          0.6666666666666666,
                          "#ed7953"
                        ],
                        [
                          0.7777777777777778,
                          "#fb9f3a"
                        ],
                        [
                          0.8888888888888888,
                          "#fdca26"
                        ],
                        [
                          1,
                          "#f0f921"
                        ]
                      ]
                    },
                    "colorway": [
                      "#636efa",
                      "#EF553B",
                      "#00cc96",
                      "#ab63fa",
                      "#FFA15A",
                      "#19d3f3",
                      "#FF6692",
                      "#B6E880",
                      "#FF97FF",
                      "#FECB52"
                    ],
                    "font": {
                      "color": "#2a3f5f"
                    },
                    "geo": {
                      "bgcolor": "white",
                      "lakecolor": "white",
                      "landcolor": "#E5ECF6",
                      "showlakes": true,
                      "showland": true,
                      "subunitcolor": "white"
                    },
                    "hoverlabel": {
                      "align": "left"
                    },
                    "hovermode": "closest",
                    "mapbox": {
                      "style": "light"
                    },
                    "paper_bgcolor": "white",
                    "plot_bgcolor": "#E5ECF6",
                    "polar": {
                      "angularaxis": {
                        "gridcolor": "white",
                        "linecolor": "white",
                        "ticks": ""
                      },
                      "bgcolor": "#E5ECF6",
                      "radialaxis": {
                        "gridcolor": "white",
                        "linecolor": "white",
                        "ticks": ""
                      }
                    },
                    "scene": {
                      "xaxis": {
                        "backgroundcolor": "#E5ECF6",
                        "gridcolor": "white",
                        "gridwidth": 2,
                        "linecolor": "white",
                        "showbackground": true,
                        "ticks": "",
                        "zerolinecolor": "white"
                      },
                      "yaxis": {
                        "backgroundcolor": "#E5ECF6",
                        "gridcolor": "white",
                        "gridwidth": 2,
                        "linecolor": "white",
                        "showbackground": true,
                        "ticks": "",
                        "zerolinecolor": "white"
                      },
                      "zaxis": {
                        "backgroundcolor": "#E5ECF6",
                        "gridcolor": "white",
                        "gridwidth": 2,
                        "linecolor": "white",
                        "showbackground": true,
                        "ticks": "",
                        "zerolinecolor": "white"
                      }
                    },
                    "shapedefaults": {
                      "line": {
                        "color": "#2a3f5f"
                      }
                    },
                    "ternary": {
                      "aaxis": {
                        "gridcolor": "white",
                        "linecolor": "white",
                        "ticks": ""
                      },
                      "baxis": {
                        "gridcolor": "white",
                        "linecolor": "white",
                        "ticks": ""
                      },
                      "bgcolor": "#E5ECF6",
                      "caxis": {
                        "gridcolor": "white",
                        "linecolor": "white",
                        "ticks": ""
                      }
                    },
                    "title": {
                      "x": 0.05
                    },
                    "xaxis": {
                      "automargin": true,
                      "gridcolor": "white",
                      "linecolor": "white",
                      "ticks": "",
                      "title": {
                        "standoff": 15
                      },
                      "zerolinecolor": "white",
                      "zerolinewidth": 2
                    },
                    "yaxis": {
                      "automargin": true,
                      "gridcolor": "white",
                      "linecolor": "white",
                      "ticks": "",
                      "title": {
                        "standoff": 15
                      },
                      "zerolinecolor": "white",
                      "zerolinewidth": 2
                    }
                  }
                },
                "xaxis": {
                  "linecolor": "rgb(204,204,204)",
                  "linewidth": 2,
                  "showgrid": false,
                  "showline": true,
                  "showticklabels": true,
                  "tickfont": {
                    "color": "rgb(82,82,82)",
                    "family": "Arial",
                    "size": 12
                  },
                  "ticks": "outside"
                },
                "yaxis": {
                  "showgrid": false,
                  "showline": false,
                  "showticklabels": false,
                  "zeroline": false
                }
              }
            }
          },
          "metadata": {},
          "output_type": "display_data"
        }
      ],
      "source": [
        "\n",
        "fig = go.Figure()\n",
        "fig.add_trace(go.Scatter(x=df_stocks.date, y=df_stocks.AAPL,\n",
        "                         mode='lines', name='Apple'))\n",
        "fig.add_trace(go.Scatter(x=df_stocks.date, y=df_stocks.AMZN,\n",
        "                         mode='lines+markers', name='Amazon'))\n",
        "fig.add_trace(go.Scatter(x=df_stocks.date, y=df_stocks.GOOG,\n",
        "                         mode='lines+markers', name='Google',\n",
        "                         line=dict(color='firebrick',width=2,\n",
        "                                   dash='dashdot')))\n",
        "fig.update_layout(\n",
        "    xaxis=dict(showline=True, showgrid=False, showticklabels=True,\n",
        "               linecolor='rgb(204,204,204)', linewidth=2, ticks='outside',\n",
        "               tickfont=dict(family='Arial', size=12, color='rgb(82,82,82)')\n",
        "               ),\n",
        "               yaxis=dict(showgrid=False, zeroline=False, showline=False,\n",
        "                          showticklabels=False                   \n",
        "               ),\n",
        "               autosize=False,\n",
        "               margin=dict(\n",
        "                   autoexpand=True,l=100, r=20, t=110),\n",
        "                           showlegend=True, plot_bgcolor='white'\n",
        "        )"
      ]
    }
  ],
  "metadata": {
    "colab": {
      "provenance": []
    },
    "kernelspec": {
      "display_name": "Python 3",
      "name": "python3"
    },
    "language_info": {
      "codemirror_mode": {
        "name": "ipython",
        "version": 3
      },
      "file_extension": ".py",
      "mimetype": "text/x-python",
      "name": "python",
      "nbconvert_exporter": "python",
      "pygments_lexer": "ipython3",
      "version": "3.10.8"
    }
  },
  "nbformat": 4,
  "nbformat_minor": 0
}
