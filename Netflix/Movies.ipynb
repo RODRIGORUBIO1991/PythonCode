{
 "cells": [
  {
   "attachments": {},
   "cell_type": "markdown",
   "metadata": {},
   "source": [
    "# Proyecto: \n",
    "## Investigación de la base de datos de películas de TMDb\n"
   ]
  },
  {
   "attachments": {},
   "cell_type": "markdown",
   "metadata": {},
   "source": [
    "### Introducción\n",
    "En este proyecto de análisis de datos, exploraremos un archivo de base de datos de películas de TMDb, que cuenta con información importante de más de 10.000 películas, incluyendo detalles sobre presupuesto, ingresos, fechas de estreno, entre otros.\n",
    "\n",
    "A lo largo de este análisis, utilizaremos diferentes herramientas y técnicas para explorar, visualizar y entender mejor los datos que contiene esta base de datos de películas. Exploraremos preguntas como ¿cuáles son las películas más populares? ¿Cuál es la relación entre el presupuesto y los ingresos de una película? ¿Cómo ha evolucionado la industria cinematográfica a lo largo del tiempo?\n",
    "\n",
    "¡Prepárate para sumergirte en el mundo del cine y el análisis de datos con nosotros!"
   ]
  },
  {
   "cell_type": "code",
   "execution_count": 32,
   "metadata": {},
   "outputs": [
    {
     "name": "stdout",
     "output_type": "stream",
     "text": [
      "       id    imdb_id  popularity     budget     revenue  \\\n",
      "0  135397  tt0369610   32.985763  150000000  1513528810   \n",
      "1   76341  tt1392190   28.419936  150000000   378436354   \n",
      "2  262500  tt2908446   13.112507  110000000   295238201   \n",
      "3  140607  tt2488496   11.173104  200000000  2068178225   \n",
      "4  168259  tt2820852    9.335014  190000000  1506249360   \n",
      "\n",
      "                 original_title  \\\n",
      "0                Jurassic World   \n",
      "1            Mad Max: Fury Road   \n",
      "2                     Insurgent   \n",
      "3  Star Wars: The Force Awakens   \n",
      "4                     Furious 7   \n",
      "\n",
      "                                                cast  \\\n",
      "0  Chris Pratt|Bryce Dallas Howard|Irrfan Khan|Vi...   \n",
      "1  Tom Hardy|Charlize Theron|Hugh Keays-Byrne|Nic...   \n",
      "2  Shailene Woodley|Theo James|Kate Winslet|Ansel...   \n",
      "3  Harrison Ford|Mark Hamill|Carrie Fisher|Adam D...   \n",
      "4  Vin Diesel|Paul Walker|Jason Statham|Michelle ...   \n",
      "\n",
      "                                            homepage          director  \\\n",
      "0                      http://www.jurassicworld.com/   Colin Trevorrow   \n",
      "1                        http://www.madmaxmovie.com/     George Miller   \n",
      "2     http://www.thedivergentseries.movie/#insurgent  Robert Schwentke   \n",
      "3  http://www.starwars.com/films/star-wars-episod...       J.J. Abrams   \n",
      "4                           http://www.furious7.com/         James Wan   \n",
      "\n",
      "                         tagline  \\\n",
      "0              The park is open.   \n",
      "1             What a Lovely Day.   \n",
      "2     One Choice Can Destroy You   \n",
      "3  Every generation has a story.   \n",
      "4            Vengeance Hits Home   \n",
      "\n",
      "                                            keywords  \\\n",
      "0  monster|dna|tyrannosaurus rex|velociraptor|island   \n",
      "1   future|chase|post-apocalyptic|dystopia|australia   \n",
      "2  based on novel|revolution|dystopia|sequel|dyst...   \n",
      "3              android|spaceship|jedi|space opera|3d   \n",
      "4                car race|speed|revenge|suspense|car   \n",
      "\n",
      "                                            overview  runtime  \\\n",
      "0  Twenty-two years after the events of Jurassic ...      124   \n",
      "1  An apocalyptic story set in the furthest reach...      120   \n",
      "2  Beatrice Prior must confront her inner demons ...      119   \n",
      "3  Thirty years after defeating the Galactic Empi...      136   \n",
      "4  Deckard Shaw seeks revenge against Dominic Tor...      137   \n",
      "\n",
      "                                      genres  \\\n",
      "0  Action|Adventure|Science Fiction|Thriller   \n",
      "1  Action|Adventure|Science Fiction|Thriller   \n",
      "2         Adventure|Science Fiction|Thriller   \n",
      "3   Action|Adventure|Science Fiction|Fantasy   \n",
      "4                      Action|Crime|Thriller   \n",
      "\n",
      "                                production_companies release_date  vote_count  \\\n",
      "0  Universal Studios|Amblin Entertainment|Legenda...     6/9/2015        5562   \n",
      "1  Village Roadshow Pictures|Kennedy Miller Produ...    5/13/2015        6185   \n",
      "2  Summit Entertainment|Mandeville Films|Red Wago...    3/18/2015        2480   \n",
      "3          Lucasfilm|Truenorth Productions|Bad Robot   12/15/2015        5292   \n",
      "4  Universal Pictures|Original Film|Media Rights ...     4/1/2015        2947   \n",
      "\n",
      "   vote_average  release_year   budget_adj   revenue_adj  \n",
      "0           6.5          2015  137999939.3  1.392446e+09  \n",
      "1           7.1          2015  137999939.3  3.481613e+08  \n",
      "2           6.3          2015  101199955.5  2.716190e+08  \n",
      "3           7.5          2015  183999919.0  1.902723e+09  \n",
      "4           7.3          2015  174799923.1  1.385749e+09  \n"
     ]
    }
   ],
   "source": [
    "import pandas as pd\n",
    "import numpy as np\n",
    "from matplotlib import pyplot as plt\n",
    "import seaborn as sns\n",
    "\n",
    "url = \"https://raw.githubusercontent.com/JuzerShakir/Investigate_TMDb_Movies/master/data.csv\"\n",
    "movie_data = pd.read_csv(url, encoding=\"utf-8\")\n",
    "\n",
    "pd.set_option(\"display.max_columns\", None) # Ajustar el ancho de las columnas\n",
    "print(movie_data.head(5))\n"
   ]
  },
  {
   "attachments": {},
   "cell_type": "markdown",
   "metadata": {},
   "source": [
    "Tipos de datos que tenemos"
   ]
  },
  {
   "cell_type": "code",
   "execution_count": 33,
   "metadata": {},
   "outputs": [
    {
     "name": "stdout",
     "output_type": "stream",
     "text": [
      "id                        int64\n",
      "imdb_id                  object\n",
      "popularity              float64\n",
      "budget                    int64\n",
      "revenue                   int64\n",
      "original_title           object\n",
      "cast                     object\n",
      "homepage                 object\n",
      "director                 object\n",
      "tagline                  object\n",
      "keywords                 object\n",
      "overview                 object\n",
      "runtime                   int64\n",
      "genres                   object\n",
      "production_companies     object\n",
      "release_date             object\n",
      "vote_count                int64\n",
      "vote_average            float64\n",
      "release_year              int64\n",
      "budget_adj              float64\n",
      "revenue_adj             float64\n",
      "dtype: object\n"
     ]
    }
   ],
   "source": [
    "import pandas as pd\n",
    "\n",
    "url = \"https://raw.githubusercontent.com/JuzerShakir/Investigate_TMDb_Movies/master/data.csv\"\n",
    "movie_data = pd.read_csv(url, encoding=\"utf-8\")\n",
    "\n",
    "print(movie_data.dtypes)\n"
   ]
  },
  {
   "attachments": {},
   "cell_type": "markdown",
   "metadata": {},
   "source": [
    "Ver la cantidad de datos que tenemos"
   ]
  },
  {
   "cell_type": "code",
   "execution_count": 6,
   "metadata": {},
   "outputs": [
    {
     "name": "stdout",
     "output_type": "stream",
     "text": [
      "En total hay 10865 peliculas y 21 columnas en esta base.\n"
     ]
    }
   ],
   "source": [
    "rows, col = movie_data.shape\n",
    "print('En total hay {} peliculas y {} columnas en esta base.'.format(rows-1, col))\n"
   ]
  },
  {
   "attachments": {},
   "cell_type": "markdown",
   "metadata": {},
   "source": [
    "Ver que columnas tienen mayor cantidad de nulls"
   ]
  },
  {
   "cell_type": "code",
   "execution_count": 34,
   "metadata": {},
   "outputs": [
    {
     "data": {
      "text/plain": [
       "<AxesSubplot: >"
      ]
     },
     "execution_count": 34,
     "metadata": {},
     "output_type": "execute_result"
    },
    {
     "data": {
      "image/png": "[encoded data removed]",
      "text/plain": [
       "<Figure size 1800x720 with 2 Axes>"
      ]
     },
     "metadata": {
      "needs_background": "light"
     },
     "output_type": "display_data"
    }
   ],
   "source": [
    "import pandas as pd\n",
    "import missingno as msno\n",
    "\n",
    "url = \"https://raw.githubusercontent.com/JuzerShakir/Investigate_TMDb_Movies/master/data.csv\"\n",
    "movie_data = pd.read_csv(url, encoding=\"utf-8\")\n",
    "\n",
    "msno.matrix(movie_data)\n"
   ]
  },
  {
   "attachments": {},
   "cell_type": "markdown",
   "metadata": {},
   "source": [
    "Elimino 3 columnas que tienen demasiados nulls y que no soy útiles para el trabajo"
   ]
  },
  {
   "cell_type": "code",
   "execution_count": 25,
   "metadata": {},
   "outputs": [],
   "source": [
    "movie_data = movie_data.drop(['homepage', 'tagline', 'keywords'], axis=1)\n"
   ]
  },
  {
   "attachments": {},
   "cell_type": "markdown",
   "metadata": {},
   "source": [
    "Realizamos limpieza de la base"
   ]
  },
  {
   "cell_type": "code",
   "execution_count": 35,
   "metadata": {},
   "outputs": [
    {
     "name": "stdout",
     "output_type": "stream",
     "text": [
      "          budget     revenue                original_title  \\\n",
      "0      150000000  1513528810                Jurassic World   \n",
      "1      150000000   378436354            Mad Max: Fury Road   \n",
      "2      110000000   295238201                     Insurgent   \n",
      "3      200000000  2068178225  Star Wars: The Force Awakens   \n",
      "4      190000000  1506249360                     Furious 7   \n",
      "...          ...         ...                           ...   \n",
      "10861          0           0            The Endless Summer   \n",
      "10862          0           0                    Grand Prix   \n",
      "10863          0           0           Beregis Avtomobilya   \n",
      "10864          0           0        What's Up, Tiger Lily?   \n",
      "10865      19000           0      Manos: The Hands of Fate   \n",
      "\n",
      "                                                    cast  \\\n",
      "0      Chris Pratt|Bryce Dallas Howard|Irrfan Khan|Vi...   \n",
      "1      Tom Hardy|Charlize Theron|Hugh Keays-Byrne|Nic...   \n",
      "2      Shailene Woodley|Theo James|Kate Winslet|Ansel...   \n",
      "3      Harrison Ford|Mark Hamill|Carrie Fisher|Adam D...   \n",
      "4      Vin Diesel|Paul Walker|Jason Statham|Michelle ...   \n",
      "...                                                  ...   \n",
      "10861  Michael Hynson|Robert August|Lord 'Tally Ho' B...   \n",
      "10862  James Garner|Eva Marie Saint|Yves Montand|Tosh...   \n",
      "10863  Innokentiy Smoktunovskiy|Oleg Efremov|Georgi Z...   \n",
      "10864  Tatsuya Mihashi|Akiko Wakabayashi|Mie Hama|Joh...   \n",
      "10865  Harold P. Warren|Tom Neyman|John Reynolds|Dian...   \n",
      "\n",
      "                                                homepage            director  \\\n",
      "0                          http://www.jurassicworld.com/     Colin Trevorrow   \n",
      "1                            http://www.madmaxmovie.com/       George Miller   \n",
      "2         http://www.thedivergentseries.movie/#insurgent    Robert Schwentke   \n",
      "3      http://www.starwars.com/films/star-wars-episod...         J.J. Abrams   \n",
      "4                               http://www.furious7.com/           James Wan   \n",
      "...                                                  ...                 ...   \n",
      "10861                                                NaN         Bruce Brown   \n",
      "10862                                                NaN  John Frankenheimer   \n",
      "10863                                                NaN      Eldar Ryazanov   \n",
      "10864                                                NaN         Woody Allen   \n",
      "10865                                                NaN    Harold P. Warren   \n",
      "\n",
      "                                                 tagline  \\\n",
      "0                                      The park is open.   \n",
      "1                                     What a Lovely Day.   \n",
      "2                             One Choice Can Destroy You   \n",
      "3                          Every generation has a story.   \n",
      "4                                    Vengeance Hits Home   \n",
      "...                                                  ...   \n",
      "10861                                                NaN   \n",
      "10862  Cinerama sweeps YOU into a drama of speed and ...   \n",
      "10863                                                NaN   \n",
      "10864                          WOODY ALLEN STRIKES BACK!   \n",
      "10865       It's Shocking! It's Beyond Your Imagination!   \n",
      "\n",
      "                                                keywords  runtime  \\\n",
      "0      monster|dna|tyrannosaurus rex|velociraptor|island      124   \n",
      "1       future|chase|post-apocalyptic|dystopia|australia      120   \n",
      "2      based on novel|revolution|dystopia|sequel|dyst...      119   \n",
      "3                  android|spaceship|jedi|space opera|3d      136   \n",
      "4                    car race|speed|revenge|suspense|car      137   \n",
      "...                                                  ...      ...   \n",
      "10861                           surfer|surfboard|surfing       95   \n",
      "10862                          car race|racing|formula 1      176   \n",
      "10863                           car|trolley|stealing car       94   \n",
      "10864                                              spoof       80   \n",
      "10865                fire|gun|drive|sacrifice|flashlight       74   \n",
      "\n",
      "                                          genres release_date  release_year  \n",
      "0      Action|Adventure|Science Fiction|Thriller     6/9/2015          2015  \n",
      "1      Action|Adventure|Science Fiction|Thriller    5/13/2015          2015  \n",
      "2             Adventure|Science Fiction|Thriller    3/18/2015          2015  \n",
      "3       Action|Adventure|Science Fiction|Fantasy   12/15/2015          2015  \n",
      "4                          Action|Crime|Thriller     4/1/2015          2015  \n",
      "...                                          ...          ...           ...  \n",
      "10861                                Documentary    6/15/1966          1966  \n",
      "10862                     Action|Adventure|Drama   12/21/1966          1966  \n",
      "10863                             Mystery|Comedy     1/1/1966          1966  \n",
      "10864                              Action|Comedy    11/2/1966          1966  \n",
      "10865                                     Horror   11/15/1966          1966  \n",
      "\n",
      "[10866 rows x 12 columns]\n"
     ]
    },
    {
     "name": "stderr",
     "output_type": "stream",
     "text": [
      "C:\\Users\\rodri\\AppData\\Local\\Temp\\ipykernel_22300\\2912052796.py:6: FutureWarning: In a future version of pandas all arguments of DataFrame.drop except for the argument 'labels' will be keyword-only.\n",
      "  movie_data = movie_data.drop(del_col, 1)\n"
     ]
    }
   ],
   "source": [
    "#Creamos una lista de columnas a eliminar\n",
    "del_col = [ 'id', 'imdb_id', 'popularity', 'budget_adj', 'revenue_adj', 'overview', 'production_companies', 'vote_count', 'vote_average']\n",
    "\n",
    " \n",
    "#Las eliminamos\n",
    "movie_data = movie_data.drop(del_col, 1)\n",
    "#miramos nuestra base de datos\n",
    "movie_data.head(3)\n",
    "print(movie_data)\n"
   ]
  },
  {
   "cell_type": "code",
   "execution_count": 38,
   "metadata": {},
   "outputs": [],
   "source": [
    "#Eliminamos los duplicados, dejando solo el primero\n",
    "movie_data.drop_duplicates(keep = 'first', inplace = True)\n",
    "\n",
    "\n"
   ]
  },
  {
   "attachments": {},
   "cell_type": "markdown",
   "metadata": {},
   "source": [
    "Limpieza final"
   ]
  },
  {
   "cell_type": "code",
   "execution_count": 40,
   "metadata": {},
   "outputs": [
    {
     "name": "stdout",
     "output_type": "stream",
     "text": [
      "Después de la limpieza, solo tenemos datos de 3853 peliculas.\n"
     ]
    }
   ],
   "source": [
    "#Estas columnas hay que chequearlas\n",
    "check_row = ['budget', 'revenue']\n",
    "\n",
    "#Reemplazamos con 0 a los NaN\n",
    "movie_data[check_row] = movie_data[check_row].replace(0, np.NaN)\n",
    "\n",
    "movie_data.dropna(subset = check_row, inplace = True)\n",
    "\n",
    "rows, col = movie_data.shape\n",
    "print('Después de la limpieza, solo tenemos datos de {} peliculas.'.format(rows-1))"
   ]
  },
  {
   "cell_type": "code",
   "execution_count": 43,
   "metadata": {},
   "outputs": [],
   "source": [
    "#Cambiamos el nombre de estas columnas\n",
    "movie_data.rename(columns = {'budget' : 'budget_(in_US-Dollars)', 'revenue' : 'revenue_(in_US-Dollars)'}, inplace = True)"
   ]
  },
  {
   "attachments": {},
   "cell_type": "markdown",
   "metadata": {},
   "source": [
    "Insertar una nueva columna en la tabla movie_data llamada \"profit_(in_US_Dollars)\" que representa la ganancia en dólares estadounidenses de cada película. "
   ]
  },
  {
   "cell_type": "code",
   "execution_count": 44,
   "metadata": {},
   "outputs": [
    {
     "data": {
      "text/html": [
       "<div>\n",
       "<style scoped>\n",
       "    .dataframe tbody tr th:only-of-type {\n",
       "        vertical-align: middle;\n",
       "    }\n",
       "\n",
       "    .dataframe tbody tr th {\n",
       "        vertical-align: top;\n",
       "    }\n",
       "\n",
       "    .dataframe thead th {\n",
       "        text-align: right;\n",
       "    }\n",
       "</style>\n",
       "<table border=\"1\" class=\"dataframe\">\n",
       "  <thead>\n",
       "    <tr style=\"text-align: right;\">\n",
       "      <th></th>\n",
       "      <th>budget_(in_US-Dollars)</th>\n",
       "      <th>revenue_(in_US-Dollars)</th>\n",
       "      <th>profit_(in_US_Dollars)</th>\n",
       "      <th>original_title</th>\n",
       "      <th>cast</th>\n",
       "      <th>homepage</th>\n",
       "      <th>director</th>\n",
       "      <th>tagline</th>\n",
       "      <th>keywords</th>\n",
       "      <th>runtime</th>\n",
       "      <th>genres</th>\n",
       "      <th>release_date</th>\n",
       "      <th>release_year</th>\n",
       "    </tr>\n",
       "  </thead>\n",
       "  <tbody>\n",
       "    <tr>\n",
       "      <th>0</th>\n",
       "      <td>150000000.0</td>\n",
       "      <td>1.513529e+09</td>\n",
       "      <td>1363528810</td>\n",
       "      <td>Jurassic World</td>\n",
       "      <td>Chris Pratt|Bryce Dallas Howard|Irrfan Khan|Vi...</td>\n",
       "      <td>http://www.jurassicworld.com/</td>\n",
       "      <td>Colin Trevorrow</td>\n",
       "      <td>The park is open.</td>\n",
       "      <td>monster|dna|tyrannosaurus rex|velociraptor|island</td>\n",
       "      <td>124</td>\n",
       "      <td>Action|Adventure|Science Fiction|Thriller</td>\n",
       "      <td>6/9/2015</td>\n",
       "      <td>2015</td>\n",
       "    </tr>\n",
       "    <tr>\n",
       "      <th>1</th>\n",
       "      <td>150000000.0</td>\n",
       "      <td>3.784364e+08</td>\n",
       "      <td>228436354</td>\n",
       "      <td>Mad Max: Fury Road</td>\n",
       "      <td>Tom Hardy|Charlize Theron|Hugh Keays-Byrne|Nic...</td>\n",
       "      <td>http://www.madmaxmovie.com/</td>\n",
       "      <td>George Miller</td>\n",
       "      <td>What a Lovely Day.</td>\n",
       "      <td>future|chase|post-apocalyptic|dystopia|australia</td>\n",
       "      <td>120</td>\n",
       "      <td>Action|Adventure|Science Fiction|Thriller</td>\n",
       "      <td>5/13/2015</td>\n",
       "      <td>2015</td>\n",
       "    </tr>\n",
       "  </tbody>\n",
       "</table>\n",
       "</div>"
      ],
      "text/plain": [
       "   budget_(in_US-Dollars)  revenue_(in_US-Dollars)  profit_(in_US_Dollars)  \\\n",
       "0             150000000.0             1.513529e+09              1363528810   \n",
       "1             150000000.0             3.784364e+08               228436354   \n",
       "\n",
       "       original_title                                               cast  \\\n",
       "0      Jurassic World  Chris Pratt|Bryce Dallas Howard|Irrfan Khan|Vi...   \n",
       "1  Mad Max: Fury Road  Tom Hardy|Charlize Theron|Hugh Keays-Byrne|Nic...   \n",
       "\n",
       "                        homepage         director             tagline  \\\n",
       "0  http://www.jurassicworld.com/  Colin Trevorrow   The park is open.   \n",
       "1    http://www.madmaxmovie.com/    George Miller  What a Lovely Day.   \n",
       "\n",
       "                                            keywords  runtime  \\\n",
       "0  monster|dna|tyrannosaurus rex|velociraptor|island      124   \n",
       "1   future|chase|post-apocalyptic|dystopia|australia      120   \n",
       "\n",
       "                                      genres release_date  release_year  \n",
       "0  Action|Adventure|Science Fiction|Thriller     6/9/2015          2015  \n",
       "1  Action|Adventure|Science Fiction|Thriller    5/13/2015          2015  "
      ]
     },
     "execution_count": 44,
     "metadata": {},
     "output_type": "execute_result"
    }
   ],
   "source": [
    "movie_data.insert(2, 'profit_(in_US_Dollars)', movie_data['revenue_(in_US-Dollars)'] - movie_data['budget_(in_US-Dollars)'])\n",
    "\n",
    "movie_data['profit_(in_US_Dollars)'] = movie_data['profit_(in_US_Dollars)'].apply(np.int64)\n",
    "\n",
    "movie_data.head(2)"
   ]
  },
  {
   "cell_type": "code",
   "execution_count": 45,
   "metadata": {},
   "outputs": [],
   "source": [
    "movie_data.to_csv(\"clean_data.csv\")\n",
    "\n",
    "\n"
   ]
  },
  {
   "attachments": {},
   "cell_type": "markdown",
   "metadata": {},
   "source": [
    "Función para calcular los valores más altos y más bajos de una columna en una base de datos de películas\n",
    "\n",
    "\n",
    "\n",
    "\n"
   ]
  },
  {
   "cell_type": "code",
   "execution_count": 46,
   "metadata": {},
   "outputs": [
    {
     "data": {
      "text/html": [
       "<div>\n",
       "<style scoped>\n",
       "    .dataframe tbody tr th:only-of-type {\n",
       "        vertical-align: middle;\n",
       "    }\n",
       "\n",
       "    .dataframe tbody tr th {\n",
       "        vertical-align: top;\n",
       "    }\n",
       "\n",
       "    .dataframe thead th {\n",
       "        text-align: right;\n",
       "    }\n",
       "</style>\n",
       "<table border=\"1\" class=\"dataframe\">\n",
       "  <thead>\n",
       "    <tr style=\"text-align: right;\">\n",
       "      <th></th>\n",
       "      <th>1386</th>\n",
       "      <th>2244</th>\n",
       "    </tr>\n",
       "  </thead>\n",
       "  <tbody>\n",
       "    <tr>\n",
       "      <th>budget_(in_US-Dollars)</th>\n",
       "      <td>237000000.0</td>\n",
       "      <td>425000000.0</td>\n",
       "    </tr>\n",
       "    <tr>\n",
       "      <th>revenue_(in_US-Dollars)</th>\n",
       "      <td>2781505847.0</td>\n",
       "      <td>11087569.0</td>\n",
       "    </tr>\n",
       "    <tr>\n",
       "      <th>profit_(in_US_Dollars)</th>\n",
       "      <td>2544505847</td>\n",
       "      <td>-413912431</td>\n",
       "    </tr>\n",
       "    <tr>\n",
       "      <th>original_title</th>\n",
       "      <td>Avatar</td>\n",
       "      <td>The Warrior's Way</td>\n",
       "    </tr>\n",
       "    <tr>\n",
       "      <th>cast</th>\n",
       "      <td>Sam Worthington|Zoe Saldana|Sigourney Weaver|S...</td>\n",
       "      <td>Kate Bosworth|Jang Dong-gun|Geoffrey Rush|Dann...</td>\n",
       "    </tr>\n",
       "    <tr>\n",
       "      <th>homepage</th>\n",
       "      <td>http://www.avatarmovie.com/</td>\n",
       "      <td>http://www.iamrogue.com/thewarriorsway</td>\n",
       "    </tr>\n",
       "    <tr>\n",
       "      <th>director</th>\n",
       "      <td>James Cameron</td>\n",
       "      <td>Sngmoo Lee</td>\n",
       "    </tr>\n",
       "    <tr>\n",
       "      <th>tagline</th>\n",
       "      <td>Enter the World of Pandora.</td>\n",
       "      <td>Assassin. Hero. Legend.</td>\n",
       "    </tr>\n",
       "    <tr>\n",
       "      <th>keywords</th>\n",
       "      <td>culture clash|future|space war|space colony|so...</td>\n",
       "      <td>assassin|small town|revenge|deception|super speed</td>\n",
       "    </tr>\n",
       "    <tr>\n",
       "      <th>runtime</th>\n",
       "      <td>162</td>\n",
       "      <td>100</td>\n",
       "    </tr>\n",
       "    <tr>\n",
       "      <th>genres</th>\n",
       "      <td>Action|Adventure|Fantasy|Science Fiction</td>\n",
       "      <td>Adventure|Fantasy|Action|Western|Thriller</td>\n",
       "    </tr>\n",
       "    <tr>\n",
       "      <th>release_date</th>\n",
       "      <td>12/10/2009</td>\n",
       "      <td>12/2/2010</td>\n",
       "    </tr>\n",
       "    <tr>\n",
       "      <th>release_year</th>\n",
       "      <td>2009</td>\n",
       "      <td>2010</td>\n",
       "    </tr>\n",
       "  </tbody>\n",
       "</table>\n",
       "</div>"
      ],
      "text/plain": [
       "                                                                      1386  \\\n",
       "budget_(in_US-Dollars)                                         237000000.0   \n",
       "revenue_(in_US-Dollars)                                       2781505847.0   \n",
       "profit_(in_US_Dollars)                                          2544505847   \n",
       "original_title                                                      Avatar   \n",
       "cast                     Sam Worthington|Zoe Saldana|Sigourney Weaver|S...   \n",
       "homepage                                       http://www.avatarmovie.com/   \n",
       "director                                                     James Cameron   \n",
       "tagline                                        Enter the World of Pandora.   \n",
       "keywords                 culture clash|future|space war|space colony|so...   \n",
       "runtime                                                                162   \n",
       "genres                            Action|Adventure|Fantasy|Science Fiction   \n",
       "release_date                                                    12/10/2009   \n",
       "release_year                                                          2009   \n",
       "\n",
       "                                                                      2244  \n",
       "budget_(in_US-Dollars)                                         425000000.0  \n",
       "revenue_(in_US-Dollars)                                         11087569.0  \n",
       "profit_(in_US_Dollars)                                          -413912431  \n",
       "original_title                                           The Warrior's Way  \n",
       "cast                     Kate Bosworth|Jang Dong-gun|Geoffrey Rush|Dann...  \n",
       "homepage                            http://www.iamrogue.com/thewarriorsway  \n",
       "director                                                        Sngmoo Lee  \n",
       "tagline                                            Assassin. Hero. Legend.  \n",
       "keywords                 assassin|small town|revenge|deception|super speed  \n",
       "runtime                                                                100  \n",
       "genres                           Adventure|Fantasy|Action|Western|Thriller  \n",
       "release_date                                                     12/2/2010  \n",
       "release_year                                                          2010  "
      ]
     },
     "execution_count": 46,
     "metadata": {},
     "output_type": "execute_result"
    }
   ],
   "source": [
    "\n",
    "def highest_lowest(column_name):\n",
    "    \n",
    "    #Más alto\n",
    "    highest_id = movie_data[column_name].idxmax()\n",
    "    highest_details = pd.DataFrame(movie_data.loc[highest_id])\n",
    "    \n",
    "    #Más bajo\n",
    "    lowest_id = movie_data[column_name].idxmin()\n",
    "    lowest_details = pd.DataFrame(movie_data.loc[lowest_id])\n",
    "    \n",
    "    #concadenando\n",
    "    two_in_one_data = pd.concat([highest_details, lowest_details], axis = 1)\n",
    "    \n",
    "    return two_in_one_data\n",
    "\n",
    "#calling the function and passing the argument\n",
    "highest_lowest('profit_(in_US_Dollars)')\n"
   ]
  },
  {
   "attachments": {},
   "cell_type": "markdown",
   "metadata": {},
   "source": [
    "Peliculas con mayor y menor duración"
   ]
  },
  {
   "cell_type": "code",
   "execution_count": 47,
   "metadata": {},
   "outputs": [
    {
     "data": {
      "text/html": [
       "<div>\n",
       "<style scoped>\n",
       "    .dataframe tbody tr th:only-of-type {\n",
       "        vertical-align: middle;\n",
       "    }\n",
       "\n",
       "    .dataframe tbody tr th {\n",
       "        vertical-align: top;\n",
       "    }\n",
       "\n",
       "    .dataframe thead th {\n",
       "        text-align: right;\n",
       "    }\n",
       "</style>\n",
       "<table border=\"1\" class=\"dataframe\">\n",
       "  <thead>\n",
       "    <tr style=\"text-align: right;\">\n",
       "      <th></th>\n",
       "      <th>2107</th>\n",
       "      <th>5162</th>\n",
       "    </tr>\n",
       "  </thead>\n",
       "  <tbody>\n",
       "    <tr>\n",
       "      <th>budget_(in_US-Dollars)</th>\n",
       "      <td>18000000.0</td>\n",
       "      <td>10.0</td>\n",
       "    </tr>\n",
       "    <tr>\n",
       "      <th>revenue_(in_US-Dollars)</th>\n",
       "      <td>871279.0</td>\n",
       "      <td>5.0</td>\n",
       "    </tr>\n",
       "    <tr>\n",
       "      <th>profit_(in_US_Dollars)</th>\n",
       "      <td>-17128721</td>\n",
       "      <td>-5</td>\n",
       "    </tr>\n",
       "    <tr>\n",
       "      <th>original_title</th>\n",
       "      <td>Carlos</td>\n",
       "      <td>Kid's Story</td>\n",
       "    </tr>\n",
       "    <tr>\n",
       "      <th>cast</th>\n",
       "      <td>Edgar RamÃ­rez|Alexander Scheer|Fadi Abi Samra...</td>\n",
       "      <td>Clayton Watson|Keanu Reeves|Carrie-Anne Moss|K...</td>\n",
       "    </tr>\n",
       "    <tr>\n",
       "      <th>homepage</th>\n",
       "      <td>NaN</td>\n",
       "      <td>NaN</td>\n",
       "    </tr>\n",
       "    <tr>\n",
       "      <th>director</th>\n",
       "      <td>Olivier Assayas</td>\n",
       "      <td>Shinichiro Watanabe</td>\n",
       "    </tr>\n",
       "    <tr>\n",
       "      <th>tagline</th>\n",
       "      <td>The man who hijacked the world</td>\n",
       "      <td>NaN</td>\n",
       "    </tr>\n",
       "    <tr>\n",
       "      <th>keywords</th>\n",
       "      <td>gun|car bomb|tv mini-series|terrorism|opec</td>\n",
       "      <td>NaN</td>\n",
       "    </tr>\n",
       "    <tr>\n",
       "      <th>runtime</th>\n",
       "      <td>338</td>\n",
       "      <td>15</td>\n",
       "    </tr>\n",
       "    <tr>\n",
       "      <th>genres</th>\n",
       "      <td>Crime|Drama|Thriller|History</td>\n",
       "      <td>Science Fiction|Animation</td>\n",
       "    </tr>\n",
       "    <tr>\n",
       "      <th>release_date</th>\n",
       "      <td>5/19/2010</td>\n",
       "      <td>6/2/2003</td>\n",
       "    </tr>\n",
       "    <tr>\n",
       "      <th>release_year</th>\n",
       "      <td>2010</td>\n",
       "      <td>2003</td>\n",
       "    </tr>\n",
       "  </tbody>\n",
       "</table>\n",
       "</div>"
      ],
      "text/plain": [
       "                                                                      2107  \\\n",
       "budget_(in_US-Dollars)                                          18000000.0   \n",
       "revenue_(in_US-Dollars)                                           871279.0   \n",
       "profit_(in_US_Dollars)                                           -17128721   \n",
       "original_title                                                      Carlos   \n",
       "cast                     Edgar RamÃ­rez|Alexander Scheer|Fadi Abi Samra...   \n",
       "homepage                                                               NaN   \n",
       "director                                                   Olivier Assayas   \n",
       "tagline                                     The man who hijacked the world   \n",
       "keywords                        gun|car bomb|tv mini-series|terrorism|opec   \n",
       "runtime                                                                338   \n",
       "genres                                        Crime|Drama|Thriller|History   \n",
       "release_date                                                     5/19/2010   \n",
       "release_year                                                          2010   \n",
       "\n",
       "                                                                      5162  \n",
       "budget_(in_US-Dollars)                                                10.0  \n",
       "revenue_(in_US-Dollars)                                                5.0  \n",
       "profit_(in_US_Dollars)                                                  -5  \n",
       "original_title                                                 Kid's Story  \n",
       "cast                     Clayton Watson|Keanu Reeves|Carrie-Anne Moss|K...  \n",
       "homepage                                                               NaN  \n",
       "director                                               Shinichiro Watanabe  \n",
       "tagline                                                                NaN  \n",
       "keywords                                                               NaN  \n",
       "runtime                                                                 15  \n",
       "genres                                           Science Fiction|Animation  \n",
       "release_date                                                      6/2/2003  \n",
       "release_year                                                          2003  "
      ]
     },
     "execution_count": 47,
     "metadata": {},
     "output_type": "execute_result"
    }
   ],
   "source": [
    "highest_lowest('runtime')"
   ]
  }
 ],
 "metadata": {
  "kernelspec": {
   "display_name": "coder",
   "language": "python",
   "name": "python3"
  },
  "language_info": {
   "codemirror_mode": {
    "name": "ipython",
    "version": 3
   },
   "file_extension": ".py",
   "mimetype": "text/x-python",
   "name": "python",
   "nbconvert_exporter": "python",
   "pygments_lexer": "ipython3",
   "version": "3.10.8"
  },
  "orig_nbformat": 4,
  "vscode": {
   "interpreter": {
    "hash": "1601e438b0970cdc0e3b7aab964ec502426485a4e4809b43ab6c1987169d4d2d"
   }
  }
 },
 "nbformat": 4,
 "nbformat_minor": 2
}
