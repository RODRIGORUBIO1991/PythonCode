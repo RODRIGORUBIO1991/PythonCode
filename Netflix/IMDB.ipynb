{
 "cells": [
  {
   "attachments": {},
   "cell_type": "markdown",
   "metadata": {},
   "source": [
    "TITULO"
   ]
  },
  {
   "attachments": {},
   "cell_type": "markdown",
   "metadata": {},
   "source": [
    "Instalar la biblioteca IMDB"
   ]
  },
  {
   "cell_type": "code",
   "execution_count": null,
   "metadata": {},
   "outputs": [],
   "source": [
    "!pip install imdbpy"
   ]
  },
  {
   "cell_type": "code",
   "execution_count": 51,
   "metadata": {},
   "outputs": [
    {
     "name": "stderr",
     "output_type": "stream",
     "text": [
      "ERROR: unknown command \"pnpm\"\n",
      "\n"
     ]
    }
   ],
   "source": [
    "!pip pnpm install"
   ]
  },
  {
   "attachments": {},
   "cell_type": "markdown",
   "metadata": {},
   "source": [
    "Ver las columnas de IMDB para \"The Matrix\""
   ]
  },
  {
   "cell_type": "code",
   "execution_count": 28,
   "metadata": {},
   "outputs": [
    {
     "name": "stdout",
     "output_type": "stream",
     "text": [
      "['akas', 'animation department', 'art department', 'art direction', 'aspect ratio', 'assistant director', 'box office', 'camera and electrical department', 'canonical title', 'cast', 'casting department', 'casting director', 'certificates', 'cinematographer', 'color info', 'composer', 'costume department', 'costume designer', 'countries', 'country codes', 'cover url', 'director', 'distributors', 'editor', 'editorial department', 'full-size cover url', 'genres', 'imdbID', 'kind', 'language codes', 'languages', 'localized title', 'location management', 'long imdb canonical title', 'long imdb title', 'make up', 'miscellaneous crew', 'music department', 'original air date', 'original title', 'other companies', 'plot outline', 'producer', 'production companies', 'production design', 'production manager', 'rating', 'runtimes', 'script department', 'set decoration', 'smart canonical title', 'smart long imdb canonical title', 'sound crew', 'sound mix', 'special effects', 'special effects companies', 'stunt performer', 'title', 'top 250 rank', 'transportation department', 'videos', 'visual effects', 'votes', 'writer', 'year']\n"
     ]
    }
   ],
   "source": [
    "from imdb import IMDb\n",
    "\n",
    "# Crea una instancia del objeto IMDb\n",
    "ia = IMDb()\n",
    "\n",
    "# Obtén una película por su id y muestra sus keys disponibles\n",
    "movie = ia.get_movie('0133093')\n",
    "print(sorted(movie.keys()))\n"
   ]
  },
  {
   "attachments": {},
   "cell_type": "markdown",
   "metadata": {},
   "source": [
    "250 Peliculas mejor rankeadas con su año de lanzamiento"
   ]
  },
  {
   "cell_type": "code",
   "execution_count": 49,
   "metadata": {},
   "outputs": [
    {
     "name": "stdout",
     "output_type": "stream",
     "text": [
      "                                                Title  Year  Rating\n",
      "0                            The Shawshank Redemption  1994     9.2\n",
      "1                                       The Godfather  1972     9.2\n",
      "2                                     The Dark Knight  2008     9.0\n",
      "3                               The Godfather Part II  1974     9.0\n",
      "4                                        12 Angry Men  1957     9.0\n",
      "5                                    Schindler's List  1993     8.9\n",
      "6       The Lord of the Rings: The Return of the King  2003     8.9\n",
      "7                                        Pulp Fiction  1994     8.8\n",
      "8   The Lord of the Rings: The Fellowship of the Ring  2001     8.8\n",
      "9                      The Good, the Bad and the Ugly  1966     8.8\n",
      "10                                       Forrest Gump  1994     8.8\n",
      "11                                         Fight Club  1999     8.7\n",
      "12              The Lord of the Rings: The Two Towers  2002     8.7\n",
      "13                                          Inception  2010     8.7\n",
      "14     Star Wars: Episode V - The Empire Strikes Back  1980     8.7\n",
      "15                                         The Matrix  1999     8.7\n",
      "16                                         Goodfellas  1990     8.7\n",
      "17                    One Flew Over the Cuckoo's Nest  1975     8.6\n",
      "18                                              Se7en  1995     8.6\n",
      "19                              It's a Wonderful Life  1946     8.6\n",
      "20                                      Seven Samurai  1954     8.6\n",
      "21                           The Silence of the Lambs  1991     8.6\n",
      "22                                Saving Private Ryan  1998     8.6\n",
      "23                                        City of God  2002     8.6\n",
      "24                                       Interstellar  2014     8.6\n"
     ]
    }
   ],
   "source": [
    "from imdb import IMDb\n",
    "import pandas as pd\n",
    "\n",
    "ia = IMDb()\n",
    "top250 = ia.get_top250_movies()\n",
    "\n",
    "data = []\n",
    "for movie in top250[:25]:\n",
    "    title = movie['title']\n",
    "    year = movie['year']\n",
    "    rating = movie['rating']\n",
    "    data.append([title, year, rating])\n",
    "\n",
    "df = pd.DataFrame(data, columns=['Title', 'Year', 'Rating'])\n",
    "print(df)\n"
   ]
  },
  {
   "attachments": {},
   "cell_type": "markdown",
   "metadata": {},
   "source": [
    "250 Series mejor rankeadas con su año de lanzamiento"
   ]
  },
  {
   "cell_type": "code",
   "execution_count": 31,
   "metadata": {},
   "outputs": [
    {
     "name": "stdout",
     "output_type": "stream",
     "text": [
      "                                 Title  Year  Rating\n",
      "0                      Planet Earth II  2016     9.4\n",
      "1                         Breaking Bad  2008     9.4\n",
      "2                         Planet Earth  2006     9.4\n",
      "3                     Band of Brothers  2001     9.4\n",
      "4                            Chernobyl  2019     9.3\n",
      "5                             The Wire  2002     9.3\n",
      "6           Avatar: The Last Airbender  2005     9.2\n",
      "7                       Blue Planet II  2017     9.2\n",
      "8                         The Sopranos  1999     9.2\n",
      "9          Cosmos: A Spacetime Odyssey  2014     9.2\n",
      "10                              Cosmos  1980     9.2\n",
      "11                          Our Planet  2019     9.2\n",
      "12                     Game of Thrones  2011     9.1\n",
      "13                    The World at War  1973     9.1\n",
      "14                      Rick and Morty  2013     9.1\n",
      "15    Fullmetal Alchemist: Brotherhood  2009     9.0\n",
      "16                      The Last Dance  2020     9.0\n",
      "17                                Life  2009     9.0\n",
      "18                   The Twilight Zone  1959     9.0\n",
      "19                            Sherlock  2010     9.0\n",
      "20                               Bluey  2018     9.0\n",
      "21                     The Vietnam War  2017     9.0\n",
      "22         Batman: The Animated Series  1992     9.0\n",
      "23  Scam 1992: The Harshad Mehta Story  2020     8.9\n",
      "24                     Attack on Titan  2013     8.9\n"
     ]
    }
   ],
   "source": [
    "from imdb import IMDb\n",
    "import pandas as pd\n",
    "\n",
    "ia = IMDb()\n",
    "top250 = ia.get_top250_tv()\n",
    "\n",
    "data = []\n",
    "for series in top250[:25]:\n",
    "    title = series['title']\n",
    "    year = series['year']\n",
    "    rating = series['rating']\n",
    "    data.append([title, year, rating])\n",
    "\n",
    "df = pd.DataFrame(data, columns=['Title', 'Year', 'Rating'])\n",
    "print(df)\n"
   ]
  },
  {
   "attachments": {},
   "cell_type": "markdown",
   "metadata": {},
   "source": [
    "Datos de Harry Potter and the Philosopher\\'s Stone"
   ]
  },
  {
   "cell_type": "code",
   "execution_count": 36,
   "metadata": {},
   "outputs": [
    {
     "name": "stdout",
     "output_type": "stream",
     "text": [
      "Título: Lego Harry Potter and the Philosopher's Stone\n",
      "Año: 2020\n",
      "Géneros: ['Animation', 'Adventure', 'Comedy', 'Drama', 'Fantasy', 'Mystery']\n",
      "País: ['United Kingdom', 'United States']\n",
      "Actores: [<Person id:12364241[http] name:_Robert Heath_>, <Person id:12364243[http] name:_A. Heath_>, <Person id:12365577[http] name:_J. Carole Lambert_>, <Person id:12364242[http] name:_Ben Heath_>, <Person id:12499663[http] name:_Sam Rahd_>, <Person id:12365685[http] name:_Maria Mellish_>, <Person id:12530828[http] name:_Nick Paladin_>, <Person id:12365761[http] name:_Mike Wheeler_>, <Person id:12365757[http] name:_Lily Rahd_>]\n"
     ]
    }
   ],
   "source": [
    "from imdb import IMDb\n",
    "\n",
    "ia = IMDb()\n",
    "\n",
    "# Buscar la película por su título\n",
    "movies = ia.search_movie('Harry Potter and the Philosopher\\'s Stone')\n",
    "\n",
    "# Seleccionar la primera película de la lista\n",
    "movie = ia.get_movie(movies[0].getID())\n",
    "\n",
    "# Imprimir algunos atributos de la película\n",
    "print('Título:', movie['title'])\n",
    "print('Año:', movie['year'])\n",
    "print('Géneros:', movie['genres'])\n",
    "print('País:', movie['countries'])\n",
    "print('Actores:', movie['cast'])\n"
   ]
  },
  {
   "cell_type": "code",
   "execution_count": 56,
   "metadata": {},
   "outputs": [
    {
     "data": {
      "image/png": "[encoded data removed]",
      "text/plain": [
       "<Figure size 432x288 with 1 Axes>"
      ]
     },
     "metadata": {
      "needs_background": "light"
     },
     "output_type": "display_data"
    }
   ],
   "source": [
    "import matplotlib.pyplot as plt\n",
    "\n",
    "genres_counts = {}\n",
    "for movie in movies:\n",
    "    genres = movie.get('genres')\n",
    "    if genres:\n",
    "        for genre in genres:\n",
    "            if genre not in genres_counts:\n",
    "                genres_counts[genre] = 0\n",
    "            genres_counts[genre] += 1\n",
    "\n",
    "genres_counts = sorted(genres_counts.items(), key=lambda x: x[1], reverse=True)[:10]\n",
    "genres = [x[0] for x in genres_counts]\n",
    "counts = [x[1] for x in genres_counts]\n",
    "\n",
    "plt.bar(genres, counts)\n",
    "plt.title('Top 10 genres in IMDb Top 250 movies')\n",
    "plt.xlabel('Genre')\n",
    "plt.ylabel('Number of movies')\n",
    "plt.show()\n",
    "\n"
   ]
  },
  {
   "cell_type": "code",
   "execution_count": 55,
   "metadata": {},
   "outputs": [
    {
     "name": "stdout",
     "output_type": "stream",
     "text": [
      "[<Movie id:0111161[http] title:_The Shawshank Redemption (1994)_>, <Movie id:0068646[http] title:_The Godfather (1972)_>, <Movie id:0468569[http] title:_The Dark Knight (2008)_>, <Movie id:0071562[http] title:_The Godfather Part II (1974)_>, <Movie id:0050083[http] title:_12 Angry Men (1957)_>, <Movie id:0108052[http] title:_Schindler's List (1993)_>, <Movie id:0167260[http] title:_The Lord of the Rings: The Return of the King (2003)_>, <Movie id:0110912[http] title:_Pulp Fiction (1994)_>, <Movie id:0120737[http] title:_The Lord of the Rings: The Fellowship of the Ring (2001)_>, <Movie id:0060196[http] title:_The Good, the Bad and the Ugly (1966)_>, <Movie id:0109830[http] title:_Forrest Gump (1994)_>, <Movie id:0137523[http] title:_Fight Club (1999)_>, <Movie id:0167261[http] title:_The Lord of the Rings: The Two Towers (2002)_>, <Movie id:1375666[http] title:_Inception (2010)_>, <Movie id:0080684[http] title:_Star Wars: Episode V - The Empire Strikes Back (1980)_>, <Movie id:0133093[http] title:_The Matrix (1999)_>, <Movie id:0099685[http] title:_Goodfellas (1990)_>, <Movie id:0073486[http] title:_One Flew Over the Cuckoo's Nest (1975)_>, <Movie id:0114369[http] title:_Se7en (1995)_>, <Movie id:0038650[http] title:_It's a Wonderful Life (1946)_>, <Movie id:0047478[http] title:_Seven Samurai (1954)_>, <Movie id:0102926[http] title:_The Silence of the Lambs (1991)_>, <Movie id:0120815[http] title:_Saving Private Ryan (1998)_>, <Movie id:0317248[http] title:_City of God (2002)_>, <Movie id:0816692[http] title:_Interstellar (2014)_>, <Movie id:0118799[http] title:_Life Is Beautiful (1997)_>, <Movie id:0120689[http] title:_The Green Mile (1999)_>, <Movie id:0076759[http] title:_Star Wars: Episode IV - A New Hope (1977)_>, <Movie id:0103064[http] title:_Terminator 2: Judgment Day (1991)_>, <Movie id:0088763[http] title:_Back to the Future (1985)_>, <Movie id:0245429[http] title:_Spirited Away (2001)_>, <Movie id:0253474[http] title:_The Pianist (2002)_>, <Movie id:0054215[http] title:_Psycho (1960)_>, <Movie id:6751668[http] title:_Parasite (2019)_>, <Movie id:0110413[http] title:_Léon: The Professional (1994)_>, <Movie id:0110357[http] title:_The Lion King (1994)_>, <Movie id:0172495[http] title:_Gladiator (2000)_>, <Movie id:0120586[http] title:_American History X (1998)_>, <Movie id:0407887[http] title:_The Departed (2006)_>, <Movie id:2582802[http] title:_Whiplash (2014)_>, <Movie id:0482571[http] title:_The Prestige (2006)_>, <Movie id:0114814[http] title:_The Usual Suspects (1995)_>, <Movie id:0034583[http] title:_Casablanca (1942)_>, <Movie id:0095327[http] title:_Grave of the Fireflies (1988)_>, <Movie id:0056058[http] title:_Harakiri (1962)_>, <Movie id:1675434[http] title:_The Intouchables (2011)_>, <Movie id:0027977[http] title:_Modern Times (1936)_>, <Movie id:0064116[http] title:_Once Upon a Time in the West (1968)_>, <Movie id:0095765[http] title:_Cinema Paradiso (1988)_>, <Movie id:0047396[http] title:_Rear Window (1954)_>, <Movie id:0078748[http] title:_Alien (1979)_>, <Movie id:0021749[http] title:_City Lights (1931)_>, <Movie id:0078788[http] title:_Apocalypse Now (1979)_>, <Movie id:0209144[http] title:_Memento (2000)_>, <Movie id:1853728[http] title:_Django Unchained (2012)_>, <Movie id:0082971[http] title:_Raiders of the Lost Ark (1981)_>, <Movie id:0910970[http] title:_WALL·E (2008)_>, <Movie id:0405094[http] title:_The Lives of Others (2006)_>, <Movie id:0043014[http] title:_Sunset Blvd. (1950)_>, <Movie id:0050825[http] title:_Paths of Glory (1957)_>, <Movie id:0081505[http] title:_The Shining (1980)_>, <Movie id:0032553[http] title:_The Great Dictator (1940)_>, <Movie id:4154756[http] title:_Avengers: Infinity War (2018)_>, <Movie id:0051201[http] title:_Witness for the Prosecution (1957)_>, <Movie id:0090605[http] title:_Aliens (1986)_>, <Movie id:4633694[http] title:_Spider-Man: Into the Spider-Verse (2018)_>, <Movie id:0169547[http] title:_American Beauty (1999)_>, <Movie id:0057012[http] title:_Dr. Strangelove or: How I Learned to Stop Worrying and Love the Bomb (1964)_>, <Movie id:1345836[http] title:_The Dark Knight Rises (2012)_>, <Movie id:0364569[http] title:_Oldboy (2003)_>, <Movie id:0361748[http] title:_Inglourious Basterds (2009)_>, <Movie id:0086879[http] title:_Amadeus (1984)_>, <Movie id:2380307[http] title:_Coco (2017)_>, <Movie id:0114709[http] title:_Toy Story (1995)_>, <Movie id:0112573[http] title:_Braveheart (1995)_>, <Movie id:7286456[http] title:_Joker (2019)_>, <Movie id:0082096[http] title:_Das Boot (1981)_>, <Movie id:4154796[http] title:_Avengers: Endgame (2019)_>, <Movie id:0119698[http] title:_Princess Mononoke (1997)_>, <Movie id:0087843[http] title:_Once Upon a Time in America (1984)_>, <Movie id:0119217[http] title:_Good Will Hunting (1997)_>, <Movie id:5311514[http] title:_Your Name. (2016)_>, <Movie id:0045152[http] title:_Singin' in the Rain (1952)_>, <Movie id:1187043[http] title:_3 Idiots (2009)_>, <Movie id:0180093[http] title:_Requiem for a Dream (2000)_>, <Movie id:0057565[http] title:_High and Low (1963)_>, <Movie id:0435761[http] title:_Toy Story 3 (2010)_>, <Movie id:8267604[http] title:_Capernaum (2018)_>, <Movie id:0086190[http] title:_Star Wars: Episode VI - Return of the Jedi (1983)_>, <Movie id:0062622[http] title:_2001: A Space Odyssey (1968)_>, <Movie id:0338013[http] title:_Eternal Sunshine of the Spotless Mind (2004)_>, <Movie id:0091251[http] title:_Come and See (1985)_>, <Movie id:0105236[http] title:_Reservoir Dogs (1992)_>, <Movie id:2106476[http] title:_The Hunt (2012)_>, <Movie id:0033467[http] title:_Citizen Kane (1941)_>, <Movie id:0056172[http] title:_Lawrence of Arabia (1962)_>, <Movie id:0022100[http] title:_M (1931)_>, <Movie id:0044741[http] title:_Ikiru (1952)_>, <Movie id:0053125[http] title:_North by Northwest (1959)_>, <Movie id:0052357[http] title:_Vertigo (1958)_>, <Movie id:0053604[http] title:_The Apartment (1960)_>, <Movie id:0211915[http] title:_Amélie (2001)_>, <Movie id:0036775[http] title:_Double Indemnity (1944)_>, <Movie id:0066921[http] title:_A Clockwork Orange (1971)_>, <Movie id:0093058[http] title:_Full Metal Jacket (1987)_>, <Movie id:0086250[http] title:_Scarface (1983)_>, <Movie id:8503618[http] title:_Hamilton (2020)_>, <Movie id:1255953[http] title:_Incendies (2010)_>, <Movie id:0113277[http] title:_Heat (1995)_>, <Movie id:0056592[http] title:_To Kill a Mockingbird (1962)_>, <Movie id:1049413[http] title:_Up (2009)_>, <Movie id:0070735[http] title:_The Sting (1973)_>, <Movie id:1832382[http] title:_A Separation (2011)_>, <Movie id:0017136[http] title:_Metropolis (1927)_>, <Movie id:0119488[http] title:_L.A. Confidential (1997)_>, <Movie id:0075314[http] title:_Taxi Driver (1976)_>, <Movie id:0095016[http] title:_Die Hard (1988)_>, <Movie id:0097576[http] title:_Indiana Jones and the Last Crusade (1989)_>, <Movie id:0208092[http] title:_Snatch (2000)_>, <Movie id:0040522[http] title:_Bicycle Thieves (1948)_>, <Movie id:0986264[http] title:_Like Stars on Earth (2007)_>, <Movie id:8579674[http] title:_1917 (2019)_>, <Movie id:1745960[http] title:_Top Gun: Maverick (2022)_>, <Movie id:0363163[http] title:_Downfall (2004)_>, <Movie id:5074352[http] title:_Dangal (2016)_>, <Movie id:0059578[http] title:_For a Few Dollars More (1965)_>, <Movie id:0372784[http] title:_Batman Begins (2005)_>, <Movie id:0012349[http] title:_The Kid (1921)_>, <Movie id:0053291[http] title:_Some Like It Hot (1959)_>, <Movie id:10272386[http] title:_The Father (2020)_>, <Movie id:0042192[http] title:_All About Eve (1950)_>, <Movie id:0993846[http] title:_The Wolf of Wall Street (2013)_>, <Movie id:6966692[http] title:_Green Book (2018)_>, <Movie id:0055031[http] title:_Judgment at Nuremberg (1961)_>, <Movie id:0089881[http] title:_Ran (1985)_>, <Movie id:0112641[http] title:_Casino (1995)_>, <Movie id:0120382[http] title:_The Truman Show (1998)_>, <Movie id:0469494[http] title:_There Will Be Blood (2007)_>, <Movie id:0457430[http] title:_Pan's Labyrinth (2006)_>, <Movie id:0105695[http] title:_Unforgiven (1992)_>, <Movie id:0167404[http] title:_The Sixth Sense (1999)_>, <Movie id:1130884[http] title:_Shutter Island (2010)_>, <Movie id:0268978[http] title:_A Beautiful Mind (2001)_>, <Movie id:0107290[http] title:_Jurassic Park (1993)_>, <Movie id:0055630[http] title:_Yojimbo (1961)_>, <Movie id:0040897[http] title:_The Treasure of the Sierra Madre (1948)_>, <Movie id:0071853[http] title:_Monty Python and the Holy Grail (1975)_>, <Movie id:0477348[http] title:_No Country for Old Men (2007)_>, <Movie id:0266697[http] title:_Kill Bill: Vol. 1 (2003)_>, <Movie id:0057115[http] title:_The Great Escape (1963)_>, <Movie id:0042876[http] title:_Rashomon (1950)_>, <Movie id:0084787[http] title:_The Thing (1982)_>, <Movie id:0266543[http] title:_Finding Nemo (2003)_>, <Movie id:10872600[http] title:_Spider-Man: No Way Home (2021)_>, <Movie id:0080678[http] title:_The Elephant Man (1980)_>, <Movie id:0071315[http] title:_Chinatown (1974)_>, <Movie id:0081398[http] title:_Raging Bull (1980)_>, <Movie id:0434409[http] title:_V for Vendetta (2005)_>, <Movie id:0031381[http] title:_Gone with the Wind (1939)_>, <Movie id:0120735[http] title:_Lock, Stock and Two Smoking Barrels (1998)_>, <Movie id:0046912[http] title:_Dial M for Murder (1954)_>, <Movie id:2096673[http] title:_Inside Out (2015)_>, <Movie id:0347149[http] title:_Howl's Moving Castle (2004)_>, <Movie id:1305806[http] title:_The Secret in Their Eyes (2009)_>, <Movie id:5027774[http] title:_Three Billboards Outside Ebbing, Missouri (2017)_>, <Movie id:0117951[http] title:_Trainspotting (1996)_>, <Movie id:0050212[http] title:_The Bridge on the River Kwai (1957)_>, <Movie id:1392214[http] title:_Prisoners (2013)_>, <Movie id:1291584[http] title:_Warrior (2011)_>, <Movie id:0116282[http] title:_Fargo (1996)_>, <Movie id:1205489[http] title:_Gran Torino (2008)_>, <Movie id:0264464[http] title:_Catch Me If You Can (2002)_>, <Movie id:0096283[http] title:_My Neighbor Totoro (1988)_>, <Movie id:0405159[http] title:_Million Dollar Baby (2004)_>, <Movie id:0118849[http] title:_Children of Heaven (1997)_>, <Movie id:10366206[http] title:_John Wick: Chapter 4 (2023)_>, <Movie id:0083658[http] title:_Blade Runner (1982)_>, <Movie id:0015864[http] title:_The Gold Rush (1925)_>, <Movie id:4729430[http] title:_Klaus (2019)_>, <Movie id:1201607[http] title:_Harry Potter and the Deathly Hallows: Part 2 (2011)_>, <Movie id:0112471[http] title:_Before Sunrise (1995)_>, <Movie id:2024544[http] title:_12 Years a Slave (2013)_>, <Movie id:0052618[http] title:_Ben-Hur (1959)_>, <Movie id:2278388[http] title:_The Grand Budapest Hotel (2014)_>, <Movie id:0047296[http] title:_On the Waterfront (1954)_>, <Movie id:2267998[http] title:_Gone Girl (2014)_>, <Movie id:0050986[http] title:_Wild Strawberries (1957)_>, <Movie id:0017925[http] title:_The General (1926)_>, <Movie id:0072684[http] title:_Barry Lyndon (1975)_>, <Movie id:0107207[http] title:_In the Name of the Father (1993)_>, <Movie id:0077416[http] title:_The Deer Hunter (1978)_>, <Movie id:0041959[http] title:_The Third Man (1949)_>, <Movie id:2119532[http] title:_Hacksaw Ridge (2016)_>, <Movie id:0046268[http] title:_The Wages of Fear (1953)_>, <Movie id:0353969[http] title:_Memories of Murder (2003)_>, <Movie id:3011894[http] title:_Wild Tales (2014)_>, <Movie id:0015324[http] title:_Sherlock Jr. (1924)_>, <Movie id:0031679[http] title:_Mr. Smith Goes to Washington (1939)_>, <Movie id:1392190[http] title:_Mad Max: Fury Road (2015)_>, <Movie id:0978762[http] title:_Mary and Max (2009)_>, <Movie id:0050976[http] title:_The Seventh Seal (1957)_>, <Movie id:0892769[http] title:_How to Train Your Dragon (2010)_>, <Movie id:0198781[http] title:_Monsters, Inc. (2001)_>, <Movie id:0097165[http] title:_Dead Poets Society (1989)_>, <Movie id:0073195[http] title:_Jaws (1975)_>, <Movie id:3170832[http] title:_Room (2015)_>, <Movie id:0118715[http] title:_The Big Lebowski (1998)_>, <Movie id:0046438[http] title:_Tokyo Story (1953)_>, <Movie id:0019254[http] title:_The Passion of Joan of Arc (1928)_>, <Movie id:1950186[http] title:_Ford v Ferrari (2019)_>, <Movie id:0395169[http] title:_Hotel Rwanda (2004)_>, <Movie id:0075148[http] title:_Rocky (1976)_>, <Movie id:0382932[http] title:_Ratatouille (2007)_>, <Movie id:0091763[http] title:_Platoon (1986)_>, <Movie id:1895587[http] title:_Spotlight (2015)_>, <Movie id:3315342[http] title:_Logan (2017)_>, <Movie id:0088247[http] title:_The Terminator (1984)_>, <Movie id:0092005[http] title:_Stand by Me (1986)_>, <Movie id:1979320[http] title:_Rush (2013)_>, <Movie id:0074958[http] title:_Network (1976)_>, <Movie id:0381681[http] title:_Before Sunset (2004)_>, <Movie id:0758758[http] title:_Into the Wild (2007)_>, <Movie id:0032138[http] title:_The Wizard of Oz (1939)_>, <Movie id:0036868[http] title:_The Best Years of Our Lives (1946)_>, <Movie id:0070047[http] title:_The Exorcist (1973)_>, <Movie id:0107048[http] title:_Groundhog Day (1993)_>, <Movie id:0317705[http] title:_The Incredibles (2004)_>, <Movie id:0035446[http] title:_To Be or Not to Be (1942)_>, <Movie id:0113247[http] title:_La haine (1995)_>, <Movie id:0325980[http] title:_Pirates of the Caribbean: The Curse of the Black Pearl (2003)_>, <Movie id:0048473[http] title:_Pather Panchali (1955)_>, <Movie id:0058946[http] title:_The Battle of Algiers (1966)_>, <Movie id:1028532[http] title:_Hachi: A Dog's Tale (2009)_>, <Movie id:0032551[http] title:_The Grapes of Wrath (1940)_>, <Movie id:15097216[http] title:_Jai Bhim (2021)_>, <Movie id:0476735[http] title:_My Father and My Son (2005)_>, <Movie id:0245712[http] title:_Amores Perros (2000)_>, <Movie id:0032976[http] title:_Rebecca (1940)_>, <Movie id:4016934[http] title:_The Handmaiden (2016)_>, <Movie id:0061512[http] title:_Cool Hand Luke (1967)_>, <Movie id:0059742[http] title:_The Sound of Music (1965)_>, <Movie id:0053198[http] title:_The 400 Blows (1959)_>, <Movie id:0025316[http] title:_It Happened One Night (1934)_>, <Movie id:0060827[http] title:_Persona (1966)_>, <Movie id:0079470[http] title:_Life of Brian (1979)_>, <Movie id:0129167[http] title:_The Iron Giant (1999)_>, <Movie id:1454029[http] title:_The Help (2011)_>, <Movie id:0103639[http] title:_Aladdin (1992)_>, <Movie id:0071411[http] title:_Dersu Uzala (1975)_>, <Movie id:0099348[http] title:_Dances with Wolves (1990)_>]\n"
     ]
    }
   ],
   "source": [
    "movies = ia.get_top250_movies()\n",
    "print(movies)\n"
   ]
  },
  {
   "cell_type": "code",
   "execution_count": 52,
   "metadata": {},
   "outputs": [
    {
     "ename": "IndexError",
     "evalue": "list index out of range",
     "output_type": "error",
     "traceback": [
      "\u001b[1;31m---------------------------------------------------------------------------\u001b[0m",
      "\u001b[1;31mIndexError\u001b[0m                                Traceback (most recent call last)",
      "\u001b[1;32mc:\\Users\\rodri\\OneDrive\\Escritorio\\PYTHON\\Entregas Coder\\IMDB.ipynb Cell 14\u001b[0m in \u001b[0;36m<cell line: 26>\u001b[1;34m()\u001b[0m\n\u001b[0;32m     <a href='vscode-notebook-cell:/c%3A/Users/rodri/OneDrive/Escritorio/PYTHON/Entregas%20Coder/IMDB.ipynb#X14sZmlsZQ%3D%3D?line=23'>24</a>\u001b[0m \u001b[39m# Crear el gráfico de barras apiladas\u001b[39;00m\n\u001b[0;32m     <a href='vscode-notebook-cell:/c%3A/Users/rodri/OneDrive/Escritorio/PYTHON/Entregas%20Coder/IMDB.ipynb#X14sZmlsZQ%3D%3D?line=24'>25</a>\u001b[0m fig, ax \u001b[39m=\u001b[39m plt\u001b[39m.\u001b[39msubplots()\n\u001b[1;32m---> <a href='vscode-notebook-cell:/c%3A/Users/rodri/OneDrive/Escritorio/PYTHON/Entregas%20Coder/IMDB.ipynb#X14sZmlsZQ%3D%3D?line=25'>26</a>\u001b[0m ax\u001b[39m.\u001b[39mbar(years, data[\u001b[39m0\u001b[39;49m], label\u001b[39m=\u001b[39mgenres[\u001b[39m0\u001b[39m])\n\u001b[0;32m     <a href='vscode-notebook-cell:/c%3A/Users/rodri/OneDrive/Escritorio/PYTHON/Entregas%20Coder/IMDB.ipynb#X14sZmlsZQ%3D%3D?line=26'>27</a>\u001b[0m \u001b[39mfor\u001b[39;00m i \u001b[39min\u001b[39;00m \u001b[39mrange\u001b[39m(\u001b[39m1\u001b[39m, \u001b[39mlen\u001b[39m(genres)):\n\u001b[0;32m     <a href='vscode-notebook-cell:/c%3A/Users/rodri/OneDrive/Escritorio/PYTHON/Entregas%20Coder/IMDB.ipynb#X14sZmlsZQ%3D%3D?line=27'>28</a>\u001b[0m     ax\u001b[39m.\u001b[39mbar(years, data[i], bottom\u001b[39m=\u001b[39mdata[i\u001b[39m-\u001b[39m\u001b[39m1\u001b[39m], label\u001b[39m=\u001b[39mgenres[i])\n",
      "\u001b[1;31mIndexError\u001b[0m: list index out of range"
     ]
    },
    {
     "data": {
      "image/png": "[encoded data removed]",
      "text/plain": [
       "<Figure size 432x288 with 1 Axes>"
      ]
     },
     "metadata": {
      "needs_background": "light"
     },
     "output_type": "display_data"
    }
   ],
   "source": [
    "import matplotlib.pyplot as plt\n",
    "\n",
    "# Obtener las 1000 películas principales de IMDb\n",
    "movies = ia.get_top250_movies()\n",
    "\n",
    "# Crear un diccionario de géneros y años\n",
    "genres_years_counts = {}\n",
    "for movie in movies:\n",
    "    genres = movie.get('genres')\n",
    "    year = movie.get('year')\n",
    "    if genres and year:\n",
    "        for genre in genres:\n",
    "            if genre not in genres_years_counts:\n",
    "                genres_years_counts[genre] = {}\n",
    "            if year not in genres_years_counts[genre]:\n",
    "                genres_years_counts[genre][year] = 0\n",
    "            genres_years_counts[genre][year] += 1\n",
    "\n",
    "# Preparar los datos para el gráfico de barras apiladas\n",
    "genres = sorted(genres_years_counts.keys())\n",
    "years = range(1920, 2023)\n",
    "data = [[genres_years_counts[genre].get(year, 0) for year in years] for genre in genres]\n",
    "\n",
    "# Crear el gráfico de barras apiladas\n",
    "fig, ax = plt.subplots()\n",
    "ax.bar(years, data[0], label=genres[0])\n",
    "for i in range(1, len(genres)):\n",
    "    ax.bar(years, data[i], bottom=data[i-1], label=genres[i])\n",
    "ax.set_xlabel('Año')\n",
    "ax.set_ylabel('Número de películas')\n",
    "ax.set_title('Cantidad de películas por género y por año')\n",
    "ax.legend()\n",
    "plt.show()\n"
   ]
  },
  {
   "cell_type": "code",
   "execution_count": 46,
   "metadata": {},
   "outputs": [
    {
     "data": {
      "image/png": "[encoded data removed]",
      "text/plain": [
       "<Figure size 432x288 with 1 Axes>"
      ]
     },
     "metadata": {},
     "output_type": "display_data"
    }
   ],
   "source": [
    "import matplotlib.pyplot as plt\n",
    "\n",
    "# Obtener las 1000 películas principales de IMDb\n",
    "movies = ia.get_top250_movies()\n",
    "\n",
    "# Crear un diccionario de géneros y contar las películas en cada género\n",
    "genres_counts = {}\n",
    "for movie in movies:\n",
    "    genres = movie.get('genres')\n",
    "    if genres:\n",
    "        for genre in genres:\n",
    "            if genre not in genres_counts:\n",
    "                genres_counts[genre] = 0\n",
    "            genres_counts[genre] += 1\n",
    "\n",
    "# Preparar los datos para el gráfico de pastel\n",
    "genres = sorted(genres_counts.keys())\n",
    "counts = [genres_counts[genre] for genre in genres]\n",
    "\n",
    "# Crear el gráfico de pastel\n",
    "fig, ax = plt.subplots()\n",
    "ax.pie(counts, labels=genres, autopct='%1.1f%%', startangle=90)\n",
    "ax.axis('equal')\n",
    "ax.set_title('Proporción de películas en cada género')\n",
    "plt.show()\n"
   ]
  },
  {
   "cell_type": "code",
   "execution_count": 45,
   "metadata": {},
   "outputs": [
    {
     "ename": "NameError",
     "evalue": "name 'ratings' is not defined",
     "output_type": "error",
     "traceback": [
      "\u001b[1;31m---------------------------------------------------------------------------\u001b[0m",
      "\u001b[1;31mNameError\u001b[0m                                 Traceback (most recent call last)",
      "\u001b[1;32mc:\\Users\\rodri\\OneDrive\\Escritorio\\PYTHON\\Entregas Coder\\IMDB.ipynb Cell 17\u001b[0m in \u001b[0;36m<cell line: 19>\u001b[1;34m()\u001b[0m\n\u001b[0;32m     <a href='vscode-notebook-cell:/c%3A/Users/rodri/OneDrive/Escritorio/PYTHON/Entregas%20Coder/IMDB.ipynb#X23sZmlsZQ%3D%3D?line=16'>17</a>\u001b[0m \u001b[39m# Preparar los datos para el gráfico de líneas\u001b[39;00m\n\u001b[0;32m     <a href='vscode-notebook-cell:/c%3A/Users/rodri/OneDrive/Escritorio/PYTHON/Entregas%20Coder/IMDB.ipynb#X23sZmlsZQ%3D%3D?line=17'>18</a>\u001b[0m years \u001b[39m=\u001b[39m \u001b[39msorted\u001b[39m(averages\u001b[39m.\u001b[39mkeys())\n\u001b[1;32m---> <a href='vscode-notebook-cell:/c%3A/Users/rodri/OneDrive/Escritorio/PYTHON/Entregas%20Coder/IMDB.ipynb#X23sZmlsZQ%3D%3D?line=18'>19</a>\u001b[0m ratings\n",
      "\u001b[1;31mNameError\u001b[0m: name 'ratings' is not defined"
     ]
    }
   ],
   "source": [
    "import matplotlib.pyplot as plt\n",
    "\n",
    "# Obtener las 1000 películas principales de IMDb\n",
    "movies = ia.get_top250_movies()\n",
    "\n",
    "# Crear un diccionario de años y promedios de votos\n",
    "years_ratings = {}\n",
    "for movie in movies:\n",
    "    year = movie.get('year')\n",
    "    rating = movie.get('rating')\n",
    "    if year and rating:\n",
    "        if year not in years_ratings:\n",
    "            years_ratings[year] = []\n",
    "        years_ratings[year].append(rating)\n",
    "averages = {year: sum(ratings)/len(ratings) for year, ratings in years_ratings.items()}\n",
    "\n",
    "# Preparar los datos para el gráfico de líneas\n",
    "years = sorted(averages.keys())\n",
    "ratings\n"
   ]
  }
 ],
 "metadata": {
  "kernelspec": {
   "display_name": "coder",
   "language": "python",
   "name": "python3"
  },
  "language_info": {
   "codemirror_mode": {
    "name": "ipython",
    "version": 3
   },
   "file_extension": ".py",
   "mimetype": "text/x-python",
   "name": "python",
   "nbconvert_exporter": "python",
   "pygments_lexer": "ipython3",
   "version": "3.10.8"
  },
  "orig_nbformat": 4,
  "vscode": {
   "interpreter": {
    "hash": "1601e438b0970cdc0e3b7aab964ec502426485a4e4809b43ab6c1987169d4d2d"
   }
  }
 },
 "nbformat": 4,
 "nbformat_minor": 2
}
