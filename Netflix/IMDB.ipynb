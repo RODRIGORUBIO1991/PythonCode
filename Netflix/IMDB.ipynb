{
 "cells": [
  {
   "attachments": {},
   "cell_type": "markdown",
   "metadata": {},
   "source": [
    "TITULO"
   ]
  },
  {
   "attachments": {},
   "cell_type": "markdown",
   "metadata": {},
   "source": [
    "Instalar la biblioteca IMDB"
   ]
  },
  {
   "cell_type": "code",
   "execution_count": null,
   "metadata": {},
   "outputs": [],
   "source": [
    "!pip install imdbpy"
   ]
  },
  {
   "cell_type": "code",
   "execution_count": 51,
   "metadata": {},
   "outputs": [
    {
     "name": "stderr",
     "output_type": "stream",
     "text": [
      "ERROR: unknown command \"pnpm\"\n",
      "\n"
     ]
    }
   ],
   "source": [
    "!pip pnpm install"
   ]
  },
  {
   "attachments": {},
   "cell_type": "markdown",
   "metadata": {},
   "source": [
    "Ver las columnas de IMDB para \"The Matrix\""
   ]
  },
  {
   "cell_type": "code",
   "execution_count": 2,
   "metadata": {},
   "outputs": [
    {
     "name": "stdout",
     "output_type": "stream",
     "text": [
      "['akas', 'animation department', 'art department', 'art direction', 'aspect ratio', 'assistant director', 'box office', 'camera and electrical department', 'canonical title', 'cast', 'casting department', 'casting director', 'certificates', 'cinematographer', 'color info', 'composer', 'costume department', 'costume designer', 'countries', 'country codes', 'cover url', 'director', 'distributors', 'editor', 'editorial department', 'full-size cover url', 'genres', 'imdbID', 'kind', 'language codes', 'languages', 'localized title', 'location management', 'long imdb canonical title', 'long imdb title', 'make up', 'miscellaneous crew', 'music department', 'original air date', 'original title', 'other companies', 'plot outline', 'producer', 'production companies', 'production design', 'production manager', 'rating', 'runtimes', 'script department', 'set decoration', 'smart canonical title', 'smart long imdb canonical title', 'sound crew', 'sound mix', 'special effects', 'special effects companies', 'stunt performer', 'title', 'top 250 rank', 'transportation department', 'videos', 'visual effects', 'votes', 'writer', 'year']\n"
     ]
    }
   ],
   "source": [
    "from imdb import IMDb\n",
    "\n",
    "# Crea una instancia del objeto IMDb\n",
    "ia = IMDb()\n",
    "\n",
    "# Obtén una película por su id y muestra sus keys disponibles\n",
    "movie = ia.get_movie('0133093')\n",
    "print(sorted(movie.keys()))\n"
   ]
  },
  {
   "attachments": {},
   "cell_type": "markdown",
   "metadata": {},
   "source": [
    "250 Peliculas mejor rankeadas con su año de lanzamiento"
   ]
  },
  {
   "cell_type": "code",
   "execution_count": 6,
   "metadata": {},
   "outputs": [
    {
     "name": "stdout",
     "output_type": "stream",
     "text": [
      "                                                Title  Year  Rating\n",
      "0                            The Shawshank Redemption  1994     9.2\n",
      "1                                       The Godfather  1972     9.2\n",
      "2                                     The Dark Knight  2008     9.0\n",
      "3                               The Godfather Part II  1974     9.0\n",
      "4                                        12 Angry Men  1957     9.0\n",
      "5                                    Schindler's List  1993     8.9\n",
      "6       The Lord of the Rings: The Return of the King  2003     8.9\n",
      "7                                        Pulp Fiction  1994     8.8\n",
      "8   The Lord of the Rings: The Fellowship of the Ring  2001     8.8\n",
      "9                      The Good, the Bad and the Ugly  1966     8.8\n",
      "10                                       Forrest Gump  1994     8.8\n",
      "11                                         Fight Club  1999     8.7\n",
      "12              The Lord of the Rings: The Two Towers  2002     8.7\n",
      "13                                          Inception  2010     8.7\n",
      "14     Star Wars: Episode V - The Empire Strikes Back  1980     8.7\n",
      "15                                         The Matrix  1999     8.7\n",
      "16                                         Goodfellas  1990     8.7\n",
      "17                    One Flew Over the Cuckoo's Nest  1975     8.6\n",
      "18                                              Se7en  1995     8.6\n",
      "19                              It's a Wonderful Life  1946     8.6\n",
      "20                                      Seven Samurai  1954     8.6\n",
      "21                           The Silence of the Lambs  1991     8.6\n",
      "22                                Saving Private Ryan  1998     8.6\n",
      "23                                        City of God  2002     8.6\n",
      "24                                       Interstellar  2014     8.6\n"
     ]
    }
   ],
   "source": [
    "from imdb import IMDb\n",
    "import pandas as pd\n",
    "\n",
    "ia = IMDb()\n",
    "top250 = ia.get_top250_movies()\n",
    "\n",
    "data = []\n",
    "for movie in top250[:25]:\n",
    "    title = movie['title']\n",
    "    year = movie['year']\n",
    "    rating = movie['rating']\n",
    "    data.append([title, year, rating])\n",
    "\n",
    "df = pd.DataFrame(data, columns=['Title', 'Year', 'Rating'])\n",
    "print(df)\n"
   ]
  },
  {
   "attachments": {},
   "cell_type": "markdown",
   "metadata": {},
   "source": [
    "250 Series mejor rankeadas con su año de lanzamiento"
   ]
  },
  {
   "cell_type": "code",
   "execution_count": 31,
   "metadata": {},
   "outputs": [
    {
     "name": "stdout",
     "output_type": "stream",
     "text": [
      "                                 Title  Year  Rating\n",
      "0                      Planet Earth II  2016     9.4\n",
      "1                         Breaking Bad  2008     9.4\n",
      "2                         Planet Earth  2006     9.4\n",
      "3                     Band of Brothers  2001     9.4\n",
      "4                            Chernobyl  2019     9.3\n",
      "5                             The Wire  2002     9.3\n",
      "6           Avatar: The Last Airbender  2005     9.2\n",
      "7                       Blue Planet II  2017     9.2\n",
      "8                         The Sopranos  1999     9.2\n",
      "9          Cosmos: A Spacetime Odyssey  2014     9.2\n",
      "10                              Cosmos  1980     9.2\n",
      "11                          Our Planet  2019     9.2\n",
      "12                     Game of Thrones  2011     9.1\n",
      "13                    The World at War  1973     9.1\n",
      "14                      Rick and Morty  2013     9.1\n",
      "15    Fullmetal Alchemist: Brotherhood  2009     9.0\n",
      "16                      The Last Dance  2020     9.0\n",
      "17                                Life  2009     9.0\n",
      "18                   The Twilight Zone  1959     9.0\n",
      "19                            Sherlock  2010     9.0\n",
      "20                               Bluey  2018     9.0\n",
      "21                     The Vietnam War  2017     9.0\n",
      "22         Batman: The Animated Series  1992     9.0\n",
      "23  Scam 1992: The Harshad Mehta Story  2020     8.9\n",
      "24                     Attack on Titan  2013     8.9\n"
     ]
    }
   ],
   "source": [
    "from imdb import IMDb\n",
    "import pandas as pd\n",
    "\n",
    "ia = IMDb()\n",
    "top250 = ia.get_top250_tv()\n",
    "\n",
    "data = []\n",
    "for series in top250[:25]:\n",
    "    title = series['title']\n",
    "    year = series['year']\n",
    "    rating = series['rating']\n",
    "    data.append([title, year, rating])\n",
    "\n",
    "df = pd.DataFrame(data, columns=['Title', 'Year', 'Rating'])\n",
    "print(df)\n"
   ]
  },
  {
   "attachments": {},
   "cell_type": "markdown",
   "metadata": {},
   "source": [
    "Datos de Harry Potter and the Philosopher\\'s Stone"
   ]
  },
  {
   "cell_type": "code",
   "execution_count": 21,
   "metadata": {},
   "outputs": [
    {
     "name": "stdout",
     "output_type": "stream",
     "text": [
      "Título: Lego Harry Potter and the Philosopher's Stone\n",
      "Año: 2020\n",
      "Géneros: ['Animation', 'Adventure', 'Comedy', 'Drama', 'Fantasy', 'Mystery']\n",
      "País: ['United Kingdom', 'United States']\n",
      "Actores: [<Person id:12364241[http] name:_Robert Heath_>, <Person id:12364243[http] name:_A. Heath_>, <Person id:12365577[http] name:_J. Carole Lambert_>, <Person id:12364242[http] name:_Ben Heath_>, <Person id:12499663[http] name:_Sam Rahd_>, <Person id:12365685[http] name:_Maria Mellish_>, <Person id:12530828[http] name:_Nick Paladin_>, <Person id:12365761[http] name:_Mike Wheeler_>, <Person id:12365757[http] name:_Lily Rahd_>]\n"
     ]
    }
   ],
   "source": [
    "from imdb import IMDb\n",
    "\n",
    "ia = IMDb()\n",
    "\n",
    "# Buscar la película por su título\n",
    "movies = ia.search_movie('Harry Potter and the Philosopher\\'s Stone')\n",
    "\n",
    "# Seleccionar la primera película de la lista\n",
    "movie = ia.get_movie(movies[0].getID())\n",
    "\n",
    "# Imprimir algunos atributos de la película\n",
    "print('Título:', movie['title'])\n",
    "print('Año:', movie['year'])\n",
    "print('Géneros:', movie['genres'])\n",
    "print('País:', movie['countries'])\n",
    "print('Actores:', movie['cast'])\n"
   ]
  },
  {
   "cell_type": "code",
   "execution_count": null,
   "metadata": {},
   "outputs": [],
   "source": [
    "!pip install tmdbv3api\n",
    "\n",
    "\n",
    "\n"
   ]
  },
  {
   "cell_type": "code",
   "execution_count": 1,
   "metadata": {},
   "outputs": [
    {
     "name": "stdout",
     "output_type": "stream",
     "text": [
      "Título: The Matrix\n",
      "Fecha de lanzamiento: 1999-03-30\n"
     ]
    }
   ],
   "source": [
    "from tmdbv3api import TMDb\n",
    "from tmdbv3api import Movie\n",
    "\n",
    "# Configurar la API de TMDb con una clave válida\n",
    "tmdb = TMDb()\n",
    "tmdb.api_key = '2094458cd61422ee05f36243977fd457'\n",
    "\n",
    "# Crear objeto de la clase Movie\n",
    "movie = Movie()\n",
    "\n",
    "# Buscar una película\n",
    "search = movie.search('The Matrix')\n",
    "movie_id = search[0].id\n",
    "\n",
    "# Obtener información de la película\n",
    "movie_details = movie.details(movie_id)\n",
    "title = movie_details.title\n",
    "release_date = movie_details.release_date\n",
    "\n",
    "print(f\"Título: {title}\")\n",
    "print(f\"Fecha de lanzamiento: {release_date}\")\n",
    "\n",
    "\n"
   ]
  },
  {
   "cell_type": "code",
   "execution_count": null,
   "metadata": {},
   "outputs": [],
   "source": [
    "\n",
    "pip install themoviedb\n"
   ]
  },
  {
   "cell_type": "code",
   "execution_count": 9,
   "metadata": {},
   "outputs": [],
   "source": [
    "from themoviedb import TMDb\n"
   ]
  },
  {
   "cell_type": "code",
   "execution_count": 10,
   "metadata": {},
   "outputs": [],
   "source": [
    "from themoviedb import aioTMDb\n"
   ]
  },
  {
   "cell_type": "code",
   "execution_count": 11,
   "metadata": {},
   "outputs": [],
   "source": [
    "tmdb = TMDb()\n",
    "# or: tmdb = aioTMDb()\n",
    "tmdb.key = \"2094458cd61422ee05f36243977fd457\"\n",
    "tmdb.language = \"pt-BR\"     # default: en-US\n",
    "tmdb.region = \"BR\"          # default: US"
   ]
  },
  {
   "cell_type": "code",
   "execution_count": 14,
   "metadata": {},
   "outputs": [
    {
     "name": "stdout",
     "output_type": "stream",
     "text": [
      "O Poderoso Chefão\n",
      "Um Sonho de Liberdade\n",
      "O Poderoso Chefão: Parte II\n",
      "A Lista de Schindler\n",
      "A Viagem de Chihiro\n",
      "12 Homens e Uma Sentença\n",
      "Your Name.\n",
      "Parasita\n",
      "Batman: O Cavaleiro das Trevas\n",
      "À Espera de um Milagre\n",
      "Pulp Fiction: Tempo de Violência\n",
      "Três Homens em Conflito\n",
      "Forrest Gump: O Contador de Histórias\n",
      "O Senhor dos Anéis: O Retorno do Rei\n",
      "As Quíntuplas: O Filme\n",
      "Os Bons Companheiros\n",
      "Os Sete Samurais\n",
      "Cinema Paradiso\n",
      "A Vida é Bela\n",
      "Era Uma Vez na América\n"
     ]
    }
   ],
   "source": [
    "from themoviedb import TMDb\n",
    "\n",
    "tmdb = TMDb(key=\"2094458cd61422ee05f36243977fd457\", language=\"es-BR\", region=\"BR\")\n",
    "movies = tmdb.movies().top_rated()\n",
    "for movie in movies:\n",
    "    print(movie)"
   ]
  },
  {
   "cell_type": "code",
   "execution_count": 15,
   "metadata": {},
   "outputs": [
    {
     "name": "stdout",
     "output_type": "stream",
     "text": [
      "El padrino\n",
      "Cadena perpetua\n",
      "La lista de Schindler\n",
      "El viaje de Chihiro\n",
      "12 hombres sin piedad\n",
      "Parásitos\n",
      "El caballero oscuro\n",
      "La milla verde\n",
      "Pulp Fiction\n",
      "El bueno, el feo y el malo\n",
      "Forrest Gump\n",
      "El señor de los anillos: El retorno del rey\n",
      "Uno de los nuestros\n",
      "Cinema Paradiso\n",
      "El Club de la Lucha\n",
      "Ciudad de Dios\n",
      "Spider-Man: Un nuevo universo\n",
      "Interstellar\n",
      "El señor de los anillos: La comunidad del anillo\n",
      "Whiplash. Música y obsesión\n"
     ]
    }
   ],
   "source": [
    "from themoviedb import TMDb\n",
    "\n",
    "tmdb = TMDb(key=\"2094458cd61422ee05f36243977fd457\", language=\"es\", region=\"AR\")\n",
    "movies = tmdb.movies().top_rated()\n",
    "for movie in movies:\n",
    "    print(movie)"
   ]
  },
  {
   "attachments": {},
   "cell_type": "markdown",
   "metadata": {},
   "source": [
    "Este código es una forma de utilizar la librería \"themoviedb\" para descubrir películas que cumplan ciertas condiciones, como tener una alta calificación y un número mínimo de votos.\n",
    "\n",
    "Primero se instancia un objeto \"TMDb\" con una clave de API, el lenguaje español y la región Argentina. Luego se utiliza el método \"discover().movie()\" para buscar películas que cumplan ciertas condiciones de filtrado, como la fecha de lanzamiento, el número mínimo de votos y la calificación promedio.\n",
    "\n",
    "El código busca películas que cumplan las siguientes condiciones:\n",
    "\n",
    "Ordenar por puntaje promedio de mayor a menor.\n",
    "Fecha de lanzamiento posterior al 15 de agosto de 1997.\n",
    "Tener al menos 10.000 votos.\n",
    "Tener una calificación promedio de al menos 6.0."
   ]
  },
  {
   "cell_type": "code",
   "execution_count": 49,
   "metadata": {},
   "outputs": [
    {
     "name": "stdout",
     "output_type": "stream",
     "text": [
      "Película: Cadena perpetua - Puntaje: 8.7\n",
      "Película: La lista de Schindler - Puntaje: 8.6\n",
      "Película: El viaje de Chihiro - Puntaje: 8.5\n",
      "Película: Parásitos - Puntaje: 8.5\n",
      "Película: El caballero oscuro - Puntaje: 8.5\n",
      "Película: La milla verde - Puntaje: 8.5\n",
      "Película: Pulp Fiction - Puntaje: 8.5\n",
      "Película: Forrest Gump - Puntaje: 8.5\n",
      "Película: El señor de los anillos: El retorno del rey - Puntaje: 8.5\n",
      "Película: Uno de los nuestros - Puntaje: 8.5\n",
      "Película: El Club de la Lucha - Puntaje: 8.4\n",
      "Película: Spider-Man: Un nuevo universo - Puntaje: 8.4\n",
      "Película: Interstellar - Puntaje: 8.4\n",
      "Película: El señor de los anillos: La comunidad del anillo - Puntaje: 8.4\n",
      "Película: Whiplash. Música y obsesión - Puntaje: 8.4\n",
      "Película: Seven - Puntaje: 8.4\n",
      "Película: Origen - Puntaje: 8.4\n",
      "Película: American History X - Puntaje: 8.4\n",
      "Película: El silencio de los corderos - Puntaje: 8.3\n",
      "Película: El profesional (Léon) - Puntaje: 8.3\n"
     ]
    }
   ],
   "source": [
    "from themoviedb import TMDb\n",
    "\n",
    "tmdb = TMDb(key=\"2094458cd61422ee05f36243977fd457\", language=\"es\", region=\"AR\")\n",
    "movies = tmdb.discover().movie(\n",
    "    sort_by=\"vote_average.desc\",\n",
    "    primary_release_date__gte=\"1980-08-15\",\n",
    "    vote_count__gte=10000,\n",
    "    vote_average__gte=8,\n",
    ")\n",
    "for movie in movies:\n",
    "    print(f\"Película: {movie.title} - Puntaje: {movie.vote_average}\")\n",
    "\n"
   ]
  },
  {
   "cell_type": "code",
   "execution_count": 47,
   "metadata": {},
   "outputs": [
    {
     "ename": "AttributeError",
     "evalue": "'Movie' object has no attribute 'get'",
     "output_type": "error",
     "traceback": [
      "\u001b[1;31m---------------------------------------------------------------------------\u001b[0m",
      "\u001b[1;31mAttributeError\u001b[0m                            Traceback (most recent call last)",
      "\u001b[1;32mc:\\Users\\rodri\\OneDrive\\Escritorio\\PYTHON\\Entregas Coder\\IMDB.ipynb Cell 23\u001b[0m in \u001b[0;36m<cell line: 10>\u001b[1;34m()\u001b[0m\n\u001b[0;32m     <a href='vscode-notebook-cell:/c%3A/Users/rodri/OneDrive/Escritorio/PYTHON/Entregas%20Coder/IMDB.ipynb#X36sZmlsZQ%3D%3D?line=9'>10</a>\u001b[0m \u001b[39mfor\u001b[39;00m movie \u001b[39min\u001b[39;00m movies:\n\u001b[0;32m     <a href='vscode-notebook-cell:/c%3A/Users/rodri/OneDrive/Escritorio/PYTHON/Entregas%20Coder/IMDB.ipynb#X36sZmlsZQ%3D%3D?line=10'>11</a>\u001b[0m     movie_details \u001b[39m=\u001b[39m tmdb\u001b[39m.\u001b[39mmovie(movie\u001b[39m.\u001b[39mid)\u001b[39m.\u001b[39mdetails()\n\u001b[1;32m---> <a href='vscode-notebook-cell:/c%3A/Users/rodri/OneDrive/Escritorio/PYTHON/Entregas%20Coder/IMDB.ipynb#X36sZmlsZQ%3D%3D?line=11'>12</a>\u001b[0m     country \u001b[39m=\u001b[39m movie_details\u001b[39m.\u001b[39;49mget(\u001b[39m'\u001b[39m\u001b[39mproduction_countries\u001b[39m\u001b[39m'\u001b[39m, [])\n\u001b[0;32m     <a href='vscode-notebook-cell:/c%3A/Users/rodri/OneDrive/Escritorio/PYTHON/Entregas%20Coder/IMDB.ipynb#X36sZmlsZQ%3D%3D?line=12'>13</a>\u001b[0m     country \u001b[39m=\u001b[39m country[\u001b[39m0\u001b[39m][\u001b[39m'\u001b[39m\u001b[39mname\u001b[39m\u001b[39m'\u001b[39m] \u001b[39mif\u001b[39;00m country \u001b[39melse\u001b[39;00m \u001b[39m'\u001b[39m\u001b[39mDesconocido\u001b[39m\u001b[39m'\u001b[39m\n\u001b[0;32m     <a href='vscode-notebook-cell:/c%3A/Users/rodri/OneDrive/Escritorio/PYTHON/Entregas%20Coder/IMDB.ipynb#X36sZmlsZQ%3D%3D?line=13'>14</a>\u001b[0m     \u001b[39mprint\u001b[39m(\u001b[39mf\u001b[39m\u001b[39m\"\u001b[39m\u001b[39mPelícula: \u001b[39m\u001b[39m{\u001b[39;00mmovie_details[\u001b[39m'\u001b[39m\u001b[39mtitle\u001b[39m\u001b[39m'\u001b[39m]\u001b[39m}\u001b[39;00m\u001b[39m - Puntaje: \u001b[39m\u001b[39m{\u001b[39;00mmovie_details[\u001b[39m'\u001b[39m\u001b[39mvote_average\u001b[39m\u001b[39m'\u001b[39m]\u001b[39m}\u001b[39;00m\u001b[39m - País: \u001b[39m\u001b[39m{\u001b[39;00mcountry\u001b[39m}\u001b[39;00m\u001b[39m\"\u001b[39m)\n",
      "\u001b[1;31mAttributeError\u001b[0m: 'Movie' object has no attribute 'get'"
     ]
    }
   ],
   "source": [
    "from themoviedb import TMDb\n",
    "\n",
    "tmdb = TMDb(key=\"2094458cd61422ee05f36243977fd457\", language=\"es\", region=\"AR\")\n",
    "movies = tmdb.discover().movie(\n",
    "    sort_by=\"vote_average.desc\",\n",
    "    primary_release_date__gte=\"1980-08-15\",\n",
    "    vote_count__gte=10000,\n",
    "    vote_average__gte=6.0,\n",
    ")\n",
    "for movie in movies:\n",
    "    movie_details = tmdb.movie(movie.id).details()\n",
    "    country = movie_details.get('production_countries', [])\n",
    "    country = country[0]['name'] if country else 'Desconocido'\n",
    "    print(f\"Película: {movie_details['title']} - Puntaje: {movie_details['vote_average']} - País: {country}\")\n",
    "\n",
    "\n"
   ]
  }
 ],
 "metadata": {
  "kernelspec": {
   "display_name": "coder",
   "language": "python",
   "name": "python3"
  },
  "language_info": {
   "codemirror_mode": {
    "name": "ipython",
    "version": 3
   },
   "file_extension": ".py",
   "mimetype": "text/x-python",
   "name": "python",
   "nbconvert_exporter": "python",
   "pygments_lexer": "ipython3",
   "version": "3.10.8"
  },
  "orig_nbformat": 4,
  "vscode": {
   "interpreter": {
    "hash": "1601e438b0970cdc0e3b7aab964ec502426485a4e4809b43ab6c1987169d4d2d"
   }
  }
 },
 "nbformat": 4,
 "nbformat_minor": 2
}
