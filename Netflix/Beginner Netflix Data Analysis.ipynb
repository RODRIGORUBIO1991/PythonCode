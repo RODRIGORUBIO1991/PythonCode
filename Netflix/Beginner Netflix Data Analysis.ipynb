{
 "cells": [
  {
   "attachments": {},
   "cell_type": "markdown",
   "metadata": {},
   "source": [
    "<h1 align='center'> Beginner Netflix Data Analysis <h1>\n",
    "\n"
   ]
  },
  {
   "attachments": {},
   "cell_type": "markdown",
   "metadata": {},
   "source": [
    "\n",
    "# Data used:\n",
    "Netflix is one of the most popular media and video streaming platforms. They have over 9000 movies or tv shows available on their platform, as of mid-2021, they have over 200M Subscribers globally. This tabular dataset consists of listings of all the movies and tv shows available on Netflix, along with details such as - cast, directors, ratings, release year, duration, etc.\n",
    "\n",
    "# Analysis:\n",
    "A simple analysis for those who start with data analysis in python.\n",
    "Different types of charts are made using a few variables and columns.\n",
    "\n",
    "**Loading the dataset**\n",
    "\n",
    "**Data Cleaning** \n",
    " \n",
    "**Data Visualization** \n",
    "\n",
    "**Data Visualization** \n",
    "\n",
    "\n"
   ]
  },
  {
   "attachments": {},
   "cell_type": "markdown",
   "metadata": {},
   "source": [
    "#####  Importing Libraries"
   ]
  },
  {
   "cell_type": "code",
   "execution_count": null,
   "metadata": {},
   "outputs": [],
   "source": [
    "import pandas as pd\n",
    "import numpy as np\n",
    "from matplotlib import pyplot as plt\n",
    "import seaborn as sns\n"
   ]
  },
  {
   "attachments": {},
   "cell_type": "markdown",
   "metadata": {},
   "source": [
    "\n",
    "##### Loading the dataset"
   ]
  },
  {
   "cell_type": "code",
   "execution_count": null,
   "metadata": {},
   "outputs": [],
   "source": [
    "df = pd.read_excel('Netflix.xls')\n",
    "df.head(5)"
   ]
  },
  {
   "attachments": {},
   "cell_type": "markdown",
   "metadata": {},
   "source": [
    "##### Check for NULL Values"
   ]
  },
  {
   "cell_type": "code",
   "execution_count": null,
   "metadata": {},
   "outputs": [],
   "source": [
    "df.isnull().sum()"
   ]
  },
  {
   "cell_type": "code",
   "execution_count": null,
   "metadata": {},
   "outputs": [],
   "source": [
    "import missingno as msno\n",
    "\n",
    "msno.matrix(df)\n",
    "plt.show()"
   ]
  },
  {
   "attachments": {},
   "cell_type": "markdown",
   "metadata": {},
   "source": [
    "##### Show the top 20 most frequent languages.\n"
   ]
  },
  {
   "cell_type": "code",
   "execution_count": null,
   "metadata": {},
   "outputs": [],
   "source": [
    "\n",
    "pd.set_option(\"display.max_rows\", None)\n",
    "df[\"Languages\"].value_counts().head(20)\n"
   ]
  },
  {
   "attachments": {},
   "cell_type": "markdown",
   "metadata": {},
   "source": [
    "##### This code is cleaning the \"Languages\" column by removing all the rows where the value is null, and also removing the language \"English\" from the field when there are multiple languages in the same field."
   ]
  },
  {
   "cell_type": "code",
   "execution_count": null,
   "metadata": {},
   "outputs": [],
   "source": [
    "df = df[df[\"Languages\"].notnull()]\n",
    "df.loc[df[\"Languages\"].str.count(\" \") > 0, \"Languages\"] = df[\"Languages\"].str.replace(\"English\", \"\")"
   ]
  },
  {
   "attachments": {},
   "cell_type": "markdown",
   "metadata": {},
   "source": [
    "##### Replace all commas (,) in the \"Languages\" column "
   ]
  },
  {
   "cell_type": "code",
   "execution_count": null,
   "metadata": {},
   "outputs": [],
   "source": [
    "df['Languages'] = df['Languages'].str.replace(',','')\n",
    "df['Languages'].value_counts().head(50)"
   ]
  },
  {
   "attachments": {},
   "cell_type": "markdown",
   "metadata": {},
   "source": [
    "##### Remove leading and trailing whitespaces from the \"Languages\" column"
   ]
  },
  {
   "cell_type": "code",
   "execution_count": null,
   "metadata": {},
   "outputs": [],
   "source": [
    "df[\"Languages\"] = df[\"Languages\"].str.strip()\n"
   ]
  },
  {
   "attachments": {},
   "cell_type": "markdown",
   "metadata": {},
   "source": [
    "##### Creates a bar chart to display the top 10 most frequent languages"
   ]
  },
  {
   "cell_type": "code",
   "execution_count": null,
   "metadata": {},
   "outputs": [],
   "source": [
    "fig=plt.figure()\n",
    "\n",
    "top_languages = df[\"Languages\"].value_counts(normalize=True).head(10)\n",
    "\n",
    "top_languages.plot(kind='bar', color=\"Blue\")\n",
    "\n",
    "import matplotlib.ticker as ticker\n",
    "\n",
    "ax = plt.gca()\n",
    "ax.yaxis.set_major_formatter(ticker.PercentFormatter(xmax=1))\n",
    "\n",
    "plt.title('Top 10 most frequent languages', color='black', fontsize=25)\n",
    "plt.xlabel('Language')\n",
    "plt.ylabel('Percentange')\n",
    "plt.figure(figsize=(1,5))\n",
    "fig.set_facecolor(\"white\")\n",
    "\n",
    "plt.show()\n"
   ]
  },
  {
   "attachments": {},
   "cell_type": "markdown",
   "metadata": {},
   "source": [
    "##### Identify languages that tend to have higher IMDb scores."
   ]
  },
  {
   "cell_type": "code",
   "execution_count": null,
   "metadata": {},
   "outputs": [],
   "source": [
    "\n",
    "#It creat a table\n",
    "filtered_table = df[df.groupby('Languages').Languages.transform('size') > 50]\n",
    "table = filtered_table.groupby(\"Languages\")[\"IMDb Score\"].mean().reset_index()\n",
    "top_10_languages = table.nlargest(10, 'IMDb Score')\n",
    "table = table.sort_values('IMDb Score')\n",
    "\n",
    "print(top_10_languages)\n",
    "\n",
    "#It creates a boxplot\n",
    "fig=plt.figure()\n",
    "filtered_table = filtered_table.sort_values('IMDb Score')\n",
    "\n",
    "\n",
    "sns.boxplot(x='Languages', y='IMDb Score', data=filtered_table[filtered_table['Languages'].isin(top_10_languages['Languages'])])\n",
    "plt.title(\"Identify languages with higher IMDb scores\")\n",
    "plt.xlabel(\"Languages\")\n",
    "plt.ylabel(\"IMDb scores\")\n",
    "plt.xticks(rotation=45)\n",
    "fig.set_facecolor(\"white\")\n"
   ]
  },
  {
   "attachments": {},
   "cell_type": "markdown",
   "metadata": {},
   "source": [
    "##### Creates a pie chart to display the proportion of \"Series or Movie\""
   ]
  },
  {
   "cell_type": "code",
   "execution_count": null,
   "metadata": {},
   "outputs": [],
   "source": [
    "fig=plt.figure()\n",
    "df[\"Series or Movie\"].value_counts().plot(kind=\"pie\",autopct=\"%.2f%%\")\n",
    "plt.title (\"Series or Movie\", color='black', fontsize=25)\n",
    "plt.tight_layout() \n",
    "fig.set_facecolor(\"white\")\n",
    "plt.legend(labels=[])\n",
    "plt.show()\n"
   ]
  },
  {
   "attachments": {},
   "cell_type": "markdown",
   "metadata": {},
   "source": [
    "##### Get a general idea of the distribution of the IMDb scores in the dataset"
   ]
  },
  {
   "cell_type": "code",
   "execution_count": null,
   "metadata": {},
   "outputs": [],
   "source": [
    "Datos_IMDB = df[\"IMDb Score\"].describe()\n",
    "Datos_IMDB"
   ]
  },
  {
   "attachments": {},
   "cell_type": "markdown",
   "metadata": {},
   "source": [
    "##### It is separated into too many subgenres"
   ]
  },
  {
   "cell_type": "code",
   "execution_count": null,
   "metadata": {},
   "outputs": [],
   "source": [
    "print(\"Number of subgenres\")\n",
    "print(df['Genre'].nunique())\n",
    "print(\"\")\n",
    "print(df['Genre'].value_counts().head(50))\n"
   ]
  },
  {
   "attachments": {},
   "cell_type": "markdown",
   "metadata": {},
   "source": [
    "##### Split the 'Genre' column, and then extracting the first element"
   ]
  },
  {
   "cell_type": "code",
   "execution_count": null,
   "metadata": {},
   "outputs": [],
   "source": [
    "df['Genre_1'] = df['Genre'].str.split().str[0]\n",
    "df['Genre_1'].value_counts().head(50)"
   ]
  },
  {
   "attachments": {},
   "cell_type": "markdown",
   "metadata": {},
   "source": [
    "##### Remove the commas from the 'Genre' column"
   ]
  },
  {
   "cell_type": "code",
   "execution_count": null,
   "metadata": {},
   "outputs": [],
   "source": [
    "#Le quito las comas a quienes les quedó\n",
    "df['Genre_1'] = df['Genre_1'].str.replace(',','')\n",
    "df['Genre_1'].value_counts().head(50)"
   ]
  },
  {
   "attachments": {},
   "cell_type": "markdown",
   "metadata": {},
   "source": [
    "##### Remove the 8 rows with no values ​​in IMDB Score"
   ]
  },
  {
   "cell_type": "code",
   "execution_count": null,
   "metadata": {},
   "outputs": [],
   "source": [
    "df = df.dropna(subset=[\"IMDb Score\"])\n"
   ]
  },
  {
   "attachments": {},
   "cell_type": "markdown",
   "metadata": {},
   "source": [
    "##### Average IMDb Score by Genre"
   ]
  },
  {
   "cell_type": "code",
   "execution_count": null,
   "metadata": {},
   "outputs": [],
   "source": [
    "fig=plt.figure()\n",
    "\n",
    "top_genres = df[\"Genre_1\"].value_counts().head(10)\n",
    "\n",
    "genres_data = df[df[\"Genre_1\"].isin(top_genres.index)].groupby(\"Genre_1\")[\"IMDb Score\"].mean().sort_values()\n",
    "\n",
    "fig, ax = plt.subplots()\n",
    "ax.bar(genres_data.index, genres_data.values, edgecolor='black')\n",
    "ax.set_title('Average IMDb Score by Genre')\n",
    "ax.set_xlabel('Genre')\n",
    "ax.set_ylabel('Average IMDb Score')\n",
    "fig.set_facecolor(\"white\")\n",
    "plt.xticks(rotation=45)\n",
    "\n",
    "plt.show()\n",
    "\n"
   ]
  },
  {
   "attachments": {},
   "cell_type": "markdown",
   "metadata": {},
   "source": [
    "##### Average IMDb Score by Genre (Boxplot)"
   ]
  },
  {
   "cell_type": "code",
   "execution_count": null,
   "metadata": {},
   "outputs": [],
   "source": [
    "# Create a new figure\n",
    "fig=plt.figure()\n",
    "\n",
    "# Get the top 10 most common genres\n",
    "top_genres = df[\"Genre_1\"].value_counts().head(10)\n",
    "\n",
    "# Group the dataframe by the 'Genre_1' column\n",
    "genres_data = df[df[\"Genre_1\"].isin(top_genres.index)].groupby(\"Genre_1\")[\"IMDb Score\"]\n",
    "\n",
    "# Create a list of arrays with the IMDb scores for each genre\n",
    "data = [df[df[\"Genre_1\"]==genre][\"IMDb Score\"] for genre in mean_scores.index]\n",
    "\n",
    "# Create the boxplot\n",
    "fig, ax = plt.subplots()\n",
    "\n",
    "# Sort the genres by mean IMDb Score\n",
    "mean_scores = genres_data.mean()\n",
    "mean_scores = mean_scores.sort_values()\n",
    "ax.boxplot(data, labels=[mean_scores.index[i] for i in range(len(mean_scores))])\n",
    "\n",
    "# Set the chart's title and axis labels\n",
    "ax.set_title('Average IMDb Score by Genre (Boxplot)')\n",
    "ax.set_xlabel('Genre')\n",
    "ax.set_ylabel('Average IMDb Score')\n",
    "\n",
    "# Set the background color to white\n",
    "fig.set_facecolor(\"white\")\n",
    "\n",
    "# Rotate the x-ticks\n",
    "plt.xticks(rotation=45)\n",
    "\n",
    "# Show the plot\n",
    "plt.show()"
   ]
  },
  {
   "attachments": {},
   "cell_type": "markdown",
   "metadata": {},
   "source": [
    "##### The percentage of the top 10 most common genres"
   ]
  },
  {
   "cell_type": "code",
   "execution_count": null,
   "metadata": {},
   "outputs": [],
   "source": [
    "fig=plt.figure()\n",
    "ax = plt.gca()\n",
    "value_counts = df['Genre_1'].value_counts(normalize=True)\n",
    "value_counts.head(10).plot(kind='bar', edgecolor='black')\n",
    "ax.set_title('The percentage of the top 10 most common genres')\n",
    "ax.set_ylabel('Percentage', color = \"Black\")\n",
    "ax.set_xlabel('Genre', color = \"Black\")\n",
    "ax.yaxis.set_label_coords(-0.2,0.5)\n",
    "ax.xaxis.set_label_coords(-0.1,-0.1)\n",
    "\n",
    "import matplotlib.ticker as ticker\n",
    "\n",
    "ax = plt.gca()\n",
    "ax.yaxis.set_major_formatter(ticker.PercentFormatter(xmax=1))\n",
    "\n",
    "fig.set_facecolor(\"white\")\n",
    "\n",
    "plt.show()\n",
    "\n"
   ]
  },
  {
   "attachments": {},
   "cell_type": "markdown",
   "metadata": {},
   "source": [
    "##### Series or Movie"
   ]
  },
  {
   "cell_type": "code",
   "execution_count": null,
   "metadata": {},
   "outputs": [],
   "source": [
    "table = df.groupby(\"Series or Movie\")[\"IMDb Score\"].mean().reset_index()\n",
    "sns.set_style(\"whitegrid\")\n",
    "sns.barplot(x=\"Series or Movie\", y=\"IMDb Score\", data=table)\n",
    "plt.title(\"Average IMDb Score by Series or Movie\")\n",
    "plt.xlabel(\"\")\n",
    "plt.ylabel(\"Average IMDb Score\")\n",
    "plt.show()\n"
   ]
  },
  {
   "attachments": {},
   "cell_type": "markdown",
   "metadata": {},
   "source": [
    "##### Convert the \"Netflix Release Date\" column to datetime format"
   ]
  },
  {
   "cell_type": "code",
   "execution_count": null,
   "metadata": {},
   "outputs": [],
   "source": [
    "df[\"Netflix Release Date\"] = pd.to_datetime(df[\"Netflix Release Date\"], errors='coerce')\n",
    "print(df[\"Netflix Release Date\"].isna().sum())\n"
   ]
  },
  {
   "attachments": {},
   "cell_type": "markdown",
   "metadata": {},
   "source": [
    "##### The format is specified as 'Year-Month-Day'("
   ]
  },
  {
   "cell_type": "code",
   "execution_count": null,
   "metadata": {},
   "outputs": [],
   "source": [
    "pd.to_datetime(df[\"Netflix Release Date\"], format='%Y-%m-%d').head(50)"
   ]
  },
  {
   "attachments": {},
   "cell_type": "markdown",
   "metadata": {},
   "source": [
    "##### Relationship between Genre and Duration in movies\n",
    "###### WE CAN´T MAKE FOR SERIES BECAUSE ALL OF THEM ARE CATALOGED IN THE DATABASE AS IF THEY WERE LESS THAN 30 MINUTES DURATION"
   ]
  },
  {
   "cell_type": "code",
   "execution_count": null,
   "metadata": {},
   "outputs": [],
   "source": [
    "# Count the number of occurrences of each value in the 'Genre' column\n",
    "genre_counts = df['Genre_1'].value_counts()\n",
    "\n",
    "# Select the top 5 most common values\n",
    "top_5_genres = genre_counts.nlargest(5).index\n",
    "\n",
    "# Filter the dataframe to only include rows with the top 5 genres\n",
    "filtered_df = df[df[\"Series or Movie\"] == \"Movie\"]\n",
    "\n",
    "filtered_df = df[df['Genre_1'].isin(top_5_genres)] \n",
    "\n",
    "\n",
    "# Group the dataframe by 'Genre' and 'Runtime' and count the number of occurrences\n",
    "counts = filtered_df.groupby(['Genre_1', 'Runtime']).size().reset_index(name='Counts')\n",
    "counts = counts.sort_values('Counts', ascending=False)\n",
    "\n",
    "# Plot the bar chart with stacked bars\n",
    "fig=plt.figure()\n",
    "sns.barplot(x='Genre_1', y='Counts', hue='Runtime', data=counts)\n",
    "plt.xlabel('Genero', color='black', fontsize=15)\n",
    "plt.ylabel('Quantity', color='black', fontsize=15)\n",
    "plt.title(\"Relationship between Genre and Duration in movies\", color='black', fontsize=25)\n",
    "plt.xticks(rotation=45)\n",
    "\n",
    "fig.set_facecolor(\"white\")\n",
    "\n",
    "\n"
   ]
  },
  {
   "attachments": {},
   "cell_type": "markdown",
   "metadata": {},
   "source": [
    "##### Series and movie releases"
   ]
  },
  {
   "cell_type": "code",
   "execution_count": null,
   "metadata": {},
   "outputs": [],
   "source": [
    "start_date = '2016-01-01'\n",
    "end_date = '2021-01-01'\n",
    "df = df[(df['Netflix Release Date'] >= start_date) & (df['Netflix Release Date'] < end_date)]\n",
    "\n",
    "# Group the data by month and movie/series type\n",
    "df_grouped = df.groupby([df[\"Netflix Release Date\"].dt.year, \"Series or Movie\"]).size().reset_index(name='counts')\n",
    "\n",
    "# Create the line plot\n",
    "\n",
    "plt.figure(figsize=(10,5))\n",
    "fig=plt.figure()\n",
    "\n",
    "for key, grp in df_grouped.groupby(\"Series or Movie\"):\n",
    "    plt.plot(grp[\"Netflix Release Date\"], grp[\"counts\"], label=key)\n",
    "    \n",
    "\n",
    "plt.legend()\n",
    "plt.xlabel('Year')\n",
    "plt.ylabel('Number of movies released')\n",
    "fig.set_facecolor(\"white\")\n",
    "plt.show()"
   ]
  },
  {
   "attachments": {},
   "cell_type": "markdown",
   "metadata": {},
   "source": [
    "##### Premieres of series and movies in each month. Table view"
   ]
  },
  {
   "cell_type": "code",
   "execution_count": null,
   "metadata": {},
   "outputs": [],
   "source": [
    "df[\"year\"] = df[\"Netflix Release Date\"].dt.year\n",
    "df[\"month\"] = df[\"Netflix Release Date\"].dt.month\n",
    "\n",
    "# Group the data by year, month and movie/series type\n",
    "df_grouped = df.groupby([df[\"year\"], df[\"month\"], \"Series or Movie\"]).size().reset_index(name='counts')\n",
    "\n",
    "# Pivot the table\n",
    "df_pivot = df_grouped.pivot_table(index=['year', 'month'], columns='Series or Movie', values='counts', aggfunc='sum')\n",
    "\n",
    "# Print the table\n",
    "print(df_pivot)\n"
   ]
  },
  {
   "attachments": {},
   "cell_type": "markdown",
   "metadata": {},
   "source": [
    "##### Series and movie releases with bokeh"
   ]
  },
  {
   "cell_type": "code",
   "execution_count": null,
   "metadata": {},
   "outputs": [],
   "source": [
    "start_date = '2016-01-01'\n",
    "end_date = '2021-01-01'\n",
    "df = df[(df['Netflix Release Date'] >= start_date) & (df['Netflix Release Date'] < end_date)]\n",
    "\n",
    "from bokeh.plotting import figure, show\n",
    "\n",
    "#Convertir la columna \"Netflix Release Date\" a formato fecha utilizando la función pd.to_datetime()\n",
    "df[\"Netflix Release Date\"] = pd.to_datetime(df[\"Netflix Release Date\"])\n",
    "\n",
    "# Agrupar los datos por año y tipo de película/serie\n",
    "df_agrupado = df.groupby([df[\"Netflix Release Date\"].dt.to_period('Y'), \"Series or Movie\"]).size().reset_index(name='counts')\n",
    "\n",
    "# Crear el gráfico de líneas\n",
    "p = figure(width=800, height=400)\n",
    "\n",
    "for key, grp in df_agrupado.groupby(\"Series or Movie\"):\n",
    "    p.line(grp[\"Netflix Release Date\"].dt.year, grp[\"counts\"], legend_label=key)\n",
    "\n",
    "p.xaxis.axis_label = 'Año'\n",
    "p.yaxis.axis_label = 'Cantidad'\n",
    "p.legend.location = \"top_left\"\n",
    "show(p)"
   ]
  },
  {
   "attachments": {},
   "cell_type": "markdown",
   "metadata": {},
   "source": [
    "##### Average IMDb Score for Movies by Release Year-Month"
   ]
  },
  {
   "cell_type": "code",
   "execution_count": null,
   "metadata": {},
   "outputs": [],
   "source": [
    "\n",
    "df_movies = df[df[\"Series or Movie\"] == \"Movie\"]  # filter dataframe to include only movies\n",
    "\n",
    "# group by year and month\n",
    "df_movies_grouped = df_movies.groupby([df_movies[\"Netflix Release Date\"].dt.year, df_movies[\"Netflix Release Date\"].dt.month])[\"IMDb Score\"].mean()\n",
    "\n",
    "# plot the average IMDb score by year and month\n",
    "df_movies_grouped.plot()\n",
    "plt.xlabel('Year-Month')\n",
    "plt.ylabel('IMDb Score')\n",
    "plt.title('Average IMDb Score for Movies by Release Year-Month')\n",
    "plt.show()"
   ]
  },
  {
   "cell_type": "code",
   "execution_count": null,
   "metadata": {},
   "outputs": [],
   "source": [
    "\n",
    "df_movies = df[df[\"Series or Movie\"] == \"Series\"]  # filter dataframe to include only movies\n",
    "\n",
    "# group by year and month\n",
    "df_movies_grouped = df_movies.groupby([df_movies[\"Netflix Release Date\"].dt.year, df_movies[\"Netflix Release Date\"].dt.month])[\"IMDb Score\"].mean()\n",
    "\n",
    "# plot the average IMDb score by year and month\n",
    "df_movies_grouped.plot()\n",
    "plt.xlabel('Year-Month')\n",
    "plt.ylabel('IMDb Score')\n",
    "plt.title('Average IMDb Score for Movies by Release Year-Month')\n",
    "plt.show()"
   ]
  },
  {
   "attachments": {},
   "cell_type": "markdown",
   "metadata": {},
   "source": [
    "#####  Create a scatter plot of the average IMDb score for Series with more than 50,000 IMDb votes, grouped by their Netflix release date "
   ]
  },
  {
   "cell_type": "code",
   "execution_count": null,
   "metadata": {},
   "outputs": [],
   "source": [
    "df_movies = df[df[\"Series or Movie\"] == \"Series\"]\n",
    "df_movies_votes = df_movies[df_movies[\"IMDb Votes\"] > 50000]\n",
    "df_movies_votes[\"Netflix Release Date\"] = pd.to_datetime(df_movies_votes[\"Netflix Release Date\"])\n",
    "df_movies_grouped = df_movies_votes.groupby(\"Netflix Release Date\")[\"IMDb Score\"].mean()\n",
    "plt.scatter(df_movies_grouped.index, df_movies_grouped.values)\n",
    "plt.xlabel('Release Date')\n",
    "plt.ylabel('IMDb Score')\n",
    "plt.title('Scatter plot of Average IMDb Score for Movies with more than 1000 IMDb votes by Release Date')\n",
    "plt.xticks(rotation=90)\n",
    "plt.show()"
   ]
  },
  {
   "attachments": {},
   "cell_type": "markdown",
   "metadata": {},
   "source": [
    "#####  Create a scatter plot of the average IMDb score for Movies with more than 50,000 IMDb votes, grouped by their Netflix release date "
   ]
  },
  {
   "cell_type": "code",
   "execution_count": null,
   "metadata": {},
   "outputs": [],
   "source": [
    "df_movies = df[df[\"Series or Movie\"] == \"Movie\"]\n",
    "df_movies_votes = df_movies[df_movies[\"IMDb Votes\"] > 50000] \n",
    "df_movies_votes[\"Netflix Release Date\"] = pd.to_datetime(df_movies_votes[\"Netflix Release Date\"])\n",
    "df_movies_grouped_movies = df_movies_votes.groupby(\"Netflix Release Date\")[\"IMDb Score\"].mean()\n",
    "plt.scatter(df_movies_grouped_movies.index, df_movies_grouped_movies.values)\n",
    "plt.xlabel('Release Date')\n",
    "plt.ylabel('IMDb Score')\n",
    "plt.title('Scatter plot of Average IMDb Score for Movies with more than 1000 IMDb votes by Release Date')\n",
    "plt.xticks(rotation=90)\n",
    "plt.show()"
   ]
  },
  {
   "attachments": {},
   "cell_type": "markdown",
   "metadata": {},
   "source": [
    "#####  Create a scatter plot of the average IMDb score for Movies with more than 100,000 IMDb votes, grouped by their Netflix release date \n",
    "##### bokeh"
   ]
  },
  {
   "cell_type": "code",
   "execution_count": null,
   "metadata": {},
   "outputs": [],
   "source": [
    "from bokeh.io import show\n",
    "from bokeh.models import ColumnDataSource, HoverTool, CustomJS\n",
    "from bokeh.plotting import figure\n",
    "from bokeh.models.formatters import DatetimeTickFormatter\n",
    "\n",
    "df_movies = df[df[\"Series or Movie\"] == \"Movie\"]\n",
    "df_movies_votes = df_movies[df_movies[\"IMDb Votes\"] > 100000] \n",
    "df_movies_votes[\"Netflix Release Date\"] = pd.to_datetime(df_movies_votes[\"Netflix Release Date\"])\n",
    "df_movies_votes = df_movies_votes[pd.notnull(df_movies_votes['IMDb Link'])]\n",
    "df_movies_grouped_movies = df_movies_votes.groupby(\"Netflix Release Date\")[\"IMDb Score\"].mean()\n",
    "source = ColumnDataSource(data = df_movies_votes)\n",
    "\n",
    "p = figure(title = \"Scatter plot of Average IMDb Score for Movies with more than 100000 IMDb votes by Release Date\",\n",
    "           x_axis_label = 'Release Date', y_axis_label = 'IMDb Score')\n",
    "\n",
    "p.scatter(x = 'Netflix Release Date', y = 'IMDb Score', source=source)\n",
    "hover = HoverTool(tooltips=[(\"Title\", \"@Title\")])\n",
    "p.add_tools(hover)\n",
    "p.xaxis.formatter=DatetimeTickFormatter(days=[\"%Y-%m-%d\"])\n",
    "\n",
    "callback = CustomJS(args=dict(source=source), code=\"\"\"\n",
    "        var inds = cb_data.source.selected.indices;\n",
    "        if (inds.length == 0) { return; }\n",
    "        window.open(url.replace(\"'\",\"%27\"), '_blank');\n",
    "    \"\"\")\n",
    "p.js_on_event('tap', callback)\n",
    "show(p)"
   ]
  },
  {
   "cell_type": "markdown",
   "metadata": {},
   "source": [
    "##### Handle any invalid date values and convert them to NaT (Not a Time)."
   ]
  },
  {
   "cell_type": "code",
   "execution_count": null,
   "metadata": {},
   "outputs": [],
   "source": [
    "df[\"Release Date\"] = pd.to_datetime(df[\"Release Date\"], errors='coerce')\n",
    "print(df[\"Release Date\"].isna().sum())"
   ]
  },
  {
   "attachments": {},
   "cell_type": "markdown",
   "metadata": {},
   "source": [
    "##### The format is specified as 'Year-Month-Day'"
   ]
  },
  {
   "cell_type": "code",
   "execution_count": null,
   "metadata": {},
   "outputs": [],
   "source": [
    "pd.to_datetime(df[\"Release Date\"], format='%Y-%m-%d').head(50)"
   ]
  },
  {
   "attachments": {},
   "cell_type": "markdown",
   "metadata": {},
   "source": [
    "##### Create a line plot of the number of movies and series releases by year"
   ]
  },
  {
   "cell_type": "code",
   "execution_count": null,
   "metadata": {},
   "outputs": [],
   "source": [
    "# Group the data by month and movie/series type\n",
    "df_grouped = df.groupby([df[\"Release Date\"].dt.year, \"Series or Movie\"]).size().reset_index(name='counts')\n",
    "\n",
    "# Create the line plot\n",
    "\n",
    "plt.figure(figsize=(10,5))\n",
    "fig=plt.figure()\n",
    "\n",
    "for key, grp in df_grouped.groupby(\"Series or Movie\"):\n",
    "    plt.plot(grp[\"Release Date\"], grp[\"counts\"], label=key)\n",
    "    \n",
    "\n",
    "plt.legend()\n",
    "plt.xlabel('Años')\n",
    "plt.ylabel('Cantidad de peliculas estrenadas')\n",
    "fig.set_facecolor(\"white\")\n",
    "plt.show()"
   ]
  },
  {
   "attachments": {},
   "cell_type": "markdown",
   "metadata": {},
   "source": [
    "##### Create an histogram of the number of movies and series releases by year"
   ]
  },
  {
   "cell_type": "code",
   "execution_count": null,
   "metadata": {},
   "outputs": [],
   "source": [
    "\n",
    "# Group the data by \"Release Date\" and \"Series or Movie\"\n",
    "fig=plt.figure()\n",
    "df_grouped = df.groupby([\"Release Date\", \"Series or Movie\"]).size().reset_index(name='counts')\n",
    "\n",
    "# Create the histogram for Movies\n",
    "plt.hist(df_grouped[df_grouped[\"Series or Movie\"] == \"Movie\"][\"Release Date\"], bins=50, alpha=0.7, label='Movies')\n",
    "\n",
    "# Create the histogram for Series\n",
    "plt.hist(df_grouped[df_grouped[\"Series or Movie\"] == \"Series\"][\"Release Date\"], bins=50, alpha=0.7, label='Series')\n",
    "\n",
    "# Add the labels and legend\n",
    "plt.xlabel(\"Release Date\")\n",
    "\n",
    "plt.ylabel(\"Counts\")\n",
    "plt.legend()\n",
    "fig.set_facecolor(\"white\")\n",
    "plt.show()"
   ]
  },
  {
   "attachments": {},
   "cell_type": "markdown",
   "metadata": {},
   "source": [
    "##### Create a histogram that shows the number of movies and series releases over time, starting from 1960."
   ]
  },
  {
   "cell_type": "code",
   "execution_count": null,
   "metadata": {},
   "outputs": [],
   "source": [
    "import datetime\n",
    "fig=plt.figure()\n",
    "\n",
    "# Create a boolean mask to select only the dates after 01/01/1960\n",
    "mask = df_grouped[\"Release Date\"].dt.date >= datetime.date(1960, 1, 1)\n",
    "\n",
    "# Use the boolean mask to select only the rows with dates after 01/01/1960\n",
    "df_1960 = df_grouped[mask]\n",
    "\n",
    "# Create the histogram for Movies\n",
    "plt.hist(df_1960[df_1960[\"Series or Movie\"] == \"Movie\"][\"Release Date\"], bins=20, alpha=0.5, label='Movies')\n",
    "\n",
    "# Create the histogram for Series\n",
    "plt.hist(df_1960[df_1960[\"Series or Movie\"] == \"Series\"][\"Release Date\"], bins=20, alpha=0.5, label='Series')\n",
    "\n",
    "# Add the labels and legend\n",
    "plt.xlabel(\"Release Date\")\n",
    "plt.ylabel(\"Counts\")\n",
    "plt.legend()\n",
    "fig.set_facecolor(\"white\")\n",
    "plt.show()"
   ]
  }
 ],
 "metadata": {
  "kernelspec": {
   "display_name": "coder",
   "language": "python",
   "name": "python3"
  },
  "language_info": {
   "codemirror_mode": {
    "name": "ipython",
    "version": 3
   },
   "file_extension": ".py",
   "mimetype": "text/x-python",
   "name": "python",
   "nbconvert_exporter": "python",
   "pygments_lexer": "ipython3",
   "version": "3.10.8 | packaged by conda-forge | (main, Nov 24 2022, 14:07:00) [MSC v.1916 64 bit (AMD64)]"
  },
  "orig_nbformat": 4,
  "vscode": {
   "interpreter": {
    "hash": "1601e438b0970cdc0e3b7aab964ec502426485a4e4809b43ab6c1987169d4d2d"
   }
  }
 },
 "nbformat": 4,
 "nbformat_minor": 2
}
